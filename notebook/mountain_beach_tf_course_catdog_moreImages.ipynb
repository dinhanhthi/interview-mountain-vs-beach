{
 "cells": [
  {
   "cell_type": "markdown",
   "metadata": {
    "id": "zox1hWwnXBj8"
   },
   "source": [
    "## Refs\n",
    "\n",
    "Follow notebook `cat_dog_transfer_learning.ipynb`"
   ]
  },
  {
   "cell_type": "code",
   "execution_count": null,
   "metadata": {
    "colab": {
     "base_uri": "https://localhost:8080/"
    },
    "id": "WzZWQdbvXNYZ",
    "outputId": "b976e183-87ed-45b6-c655-6719c41d80b1"
   },
   "outputs": [
    {
     "name": "stdout",
     "output_type": "stream",
     "text": [
      "Mounted at /content/drive\n"
     ]
    }
   ],
   "source": [
    "# from google.colab import drive\n",
    "# # drive.mount('/content/drive')\n",
    "# drive.mount(\"/content/drive\", force_remount=True)"
   ]
  },
  {
   "cell_type": "code",
   "execution_count": 1,
   "metadata": {
    "colab": {
     "base_uri": "https://localhost:8080/"
    },
    "id": "XRBpJ2bkeFD_",
    "outputId": "cfa91fe2-e418-47dc-bf4e-5c0887e45ac4"
   },
   "outputs": [
    {
     "name": "stdout",
     "output_type": "stream",
     "text": [
      "dataset  datasetbeach_mountain\tpretrained  save\n"
     ]
    }
   ],
   "source": [
    "# !ls drive/MyDrive/ML_colab/"
   ]
  },
  {
   "cell_type": "code",
   "execution_count": 1,
   "metadata": {},
   "outputs": [],
   "source": [
    "from tensorflow.compat.v1 import ConfigProto\n",
    "from tensorflow.compat.v1 import InteractiveSession\n",
    "\n",
    "config = ConfigProto()\n",
    "config.gpu_options.allow_growth = True\n",
    "session = InteractiveSession(config=config)"
   ]
  },
  {
   "cell_type": "code",
   "execution_count": 2,
   "metadata": {
    "id": "ANT4DKquXBkE"
   },
   "outputs": [],
   "source": [
    "import os\n",
    "\n",
    "import tensorflow as tf\n",
    "from tensorflow.keras import layers\n",
    "from tensorflow.keras import Model\n",
    "from tensorflow.keras.optimizers import RMSprop\n",
    "from tensorflow.keras.preprocessing.image import ImageDataGenerator"
   ]
  },
  {
   "cell_type": "code",
   "execution_count": 3,
   "metadata": {
    "id": "Oqrf_5zUXBkG"
   },
   "outputs": [],
   "source": [
    "from tensorflow.keras.applications.inception_v3 import InceptionV3"
   ]
  },
  {
   "cell_type": "code",
   "execution_count": 4,
   "metadata": {
    "id": "WuLo_QcJXBkG"
   },
   "outputs": [],
   "source": [
    "# local_weights_file = '../pretrained/inception_v3_weights_tf_dim_ordering_tf_kernels_notop.h5'\n",
    "# local_weights_file = 'drive/MyDrive/ML_colab/pretrained/inception_v3_weights_tf_dim_ordering_tf_kernels_notop.h5'"
   ]
  },
  {
   "cell_type": "code",
   "execution_count": 5,
   "metadata": {
    "colab": {
     "base_uri": "https://localhost:8080/"
    },
    "id": "zI33-oaMXBkG",
    "outputId": "192acf92-bc36-48e5-e11b-e717caa0b508"
   },
   "outputs": [],
   "source": [
    "im_dim = (200, 200)\n",
    "pre_trained_model = InceptionV3(input_shape = (200, 200, 3), \n",
    "                                include_top = False, \n",
    "                                weights = \"imagenet\")\n",
    "\n",
    "# pre_trained_model.load_weights(local_weights_file)\n",
    "\n",
    "for layer in pre_trained_model.layers:\n",
    "    layer.trainable = False\n",
    "\n",
    "# pre_trained_model.summary()"
   ]
  },
  {
   "cell_type": "code",
   "execution_count": 6,
   "metadata": {},
   "outputs": [
    {
     "name": "stdout",
     "output_type": "stream",
     "text": [
      "last layer output shape:  (None, 10, 10, 768)\n"
     ]
    }
   ],
   "source": [
    "last_layer = pre_trained_model.get_layer('mixed7')\n",
    "print('last layer output shape: ', last_layer.output_shape)\n",
    "last_output = last_layer.output"
   ]
  },
  {
   "cell_type": "code",
   "execution_count": 7,
   "metadata": {
    "id": "J1Ol2A4uXBkI"
   },
   "outputs": [],
   "source": [
    "# Flatten the output layer to 1 dimension\n",
    "x = layers.Flatten()(last_output)\n",
    "# Add a fully connected layer with 1,024 hidden units and ReLU activation\n",
    "x = layers.Dense(512, activation='relu')(x)\n",
    "# Add a dropout rate of 0.2\n",
    "x = layers.Dropout(0.35)(x)                  \n",
    "# Add a final sigmoid layer for classification\n",
    "x = layers.Dense  (1, activation='sigmoid')(x)           \n",
    "\n",
    "model = Model( pre_trained_model.input, x) \n",
    "\n",
    "model.compile(optimizer = RMSprop(lr=1e-5), \n",
    "              loss = 'binary_crossentropy', \n",
    "              metrics = ['accuracy'])"
   ]
  },
  {
   "cell_type": "code",
   "execution_count": null,
   "metadata": {
    "id": "bT47ENDpZjTy"
   },
   "outputs": [],
   "source": [
    "# !mv drive/MyDrive/ML_colab/datasetbeach_mountain/beach_mountain drive/MyDrive/ML_colab/dataset/"
   ]
  },
  {
   "cell_type": "code",
   "execution_count": 7,
   "metadata": {
    "id": "eDO1gUnDZEpd"
   },
   "outputs": [],
   "source": [
    "# only on colab\n",
    "# import zipfile\n",
    "\n",
    "# dataset_dir = 'drive/MyDrive/ML_colab/dataset'\n",
    "# zip_file = dataset_dir + '/beach_mountain.zip'\n",
    "# zip_ref = zipfile.ZipFile(zip_file, 'r')\n",
    "# zip_ref.extractall(dataset_dir+'/b_m')\n",
    "# zip_ref.close()"
   ]
  },
  {
   "cell_type": "code",
   "execution_count": 10,
   "metadata": {
    "colab": {
     "base_uri": "https://localhost:8080/"
    },
    "id": "Wwy65VcwgwkE",
    "outputId": "3975ddc8-101d-4ce1-e36f-bc46ff78e920"
   },
   "outputs": [
    {
     "name": "stdout",
     "output_type": "stream",
     "text": [
      "train  validation\n"
     ]
    }
   ],
   "source": [
    "# !ls drive/MyDrive/ML_colab/dataset/b_m/beach_mountain/"
   ]
  },
  {
   "cell_type": "code",
   "execution_count": null,
   "metadata": {
    "id": "RzD6FmaYgjs6"
   },
   "outputs": [],
   "source": [
    "# %%time\n",
    "# import zipfile\n",
    "\n",
    "# dataset_dir = 'drive/MyDrive/ML_colab/dataset'\n",
    "# zip_file = dataset_dir + '/beach_mountain.zip'\n",
    "# zip_ref = zipfile.ZipFile(zip_file, 'r')\n",
    "# zip_ref.extractall(\"/tmp\")\n",
    "# zip_ref.close()"
   ]
  },
  {
   "cell_type": "code",
   "execution_count": 9,
   "metadata": {},
   "outputs": [],
   "source": [
    "import os\n",
    "import random\n",
    "from shutil import copyfile\n",
    "def split_data(SOURCE, TRAINING, TESTING, SPLIT_SIZE):\n",
    "    lst_cat_imgs = os.listdir(SOURCE)\n",
    "    lst_cat_imgs = random.sample(lst_cat_imgs, len(lst_cat_imgs))\n",
    "    for file in lst_cat_imgs[:int(SPLIT_SIZE*len(lst_cat_imgs))]:\n",
    "        source_file = os.path.join(SOURCE, file)\n",
    "        destination_file = os.path.join(TRAINING, file)\n",
    "        if os.path.getsize(source_file) > 0:\n",
    "            copyfile(source_file, destination_file)\n",
    "    for file in lst_cat_imgs[int(SPLIT_SIZE*len(lst_cat_imgs)):]:\n",
    "        source_file = os.path.join(SOURCE, file)\n",
    "        destination_file = os.path.join(TESTING, file)\n",
    "        if os.path.getsize(source_file) > 0:\n",
    "            copyfile(source_file, destination_file)"
   ]
  },
  {
   "cell_type": "code",
   "execution_count": 8,
   "metadata": {},
   "outputs": [],
   "source": [
    "# # CAT -> beach\n",
    "# CAT_SOURCE_DIR = \"../dataset/beach_mountain_more/beach/\"\n",
    "# TRAINING_CATS_DIR = \"../dataset/beach_mountain_more/train/beach/\"\n",
    "# TESTING_CATS_DIR = \"../dataset/beach_mountain_more/validation/beach/\"\n",
    "# split_size = .9\n",
    "# split_data(CAT_SOURCE_DIR, TRAINING_CATS_DIR, TESTING_CATS_DIR, split_size)"
   ]
  },
  {
   "cell_type": "code",
   "execution_count": 9,
   "metadata": {},
   "outputs": [],
   "source": [
    "# # CAT -> mountain\n",
    "# CAT_SOURCE_DIR = \"../dataset/beach_mountain_more/mountain/\"\n",
    "# TRAINING_CATS_DIR = \"../dataset/beach_mountain_more/train/mountain/\"\n",
    "# TESTING_CATS_DIR = \"../dataset/beach_mountain_more/validation/mountain/\"\n",
    "# split_size = .9\n",
    "# split_data(CAT_SOURCE_DIR, TRAINING_CATS_DIR, TESTING_CATS_DIR, split_size)"
   ]
  },
  {
   "cell_type": "code",
   "execution_count": 11,
   "metadata": {},
   "outputs": [],
   "source": [
    "# # FOR test\n",
    "# CAT_SOURCE_DIR = \"../dataset/beach_mountain_more/beach/\"\n",
    "# TRAINING_CATS_DIR = \"../dataset/beach_mountain_more/train/beach/\"\n",
    "# TESTING_CATS_DIR = \"../dataset/beach_mountain_more/test/beach/\"\n",
    "# split_size = .973\n",
    "# split_data(CAT_SOURCE_DIR, TRAINING_CATS_DIR, TESTING_CATS_DIR, split_size)"
   ]
  },
  {
   "cell_type": "code",
   "execution_count": 23,
   "metadata": {
    "id": "8e1MeiziXBkI"
   },
   "outputs": [],
   "source": [
    "# local data\n",
    "\n",
    "base_dir = \"../dataset/beach_mountain_more\"\n",
    "# base_dir = \"drive/MyDrive/ML_colab/dataset/beach_mountain\"\n",
    "# base_dir = \"drive/MyDrive/ML_colab/dataset/b_m/beach_mountain/\"\n",
    "\n",
    "train_dir = os.path.join(base_dir, 'train')\n",
    "validation_dir = os.path.join(base_dir, 'validation')\n",
    "test_dir = os.path.join(base_dir, 'test')\n",
    "\n",
    "train_beach_dir = os.path.join(train_dir, 'beach')\n",
    "train_moutain_dir = os.path.join(train_dir, 'mountain')\n",
    "\n",
    "validation_beach_dir = os.path.join(validation_dir, 'beach')\n",
    "validation_mountain_dir = os.path.join(validation_dir, 'mountain')\n",
    "\n",
    "test_beach_dir = os.path.join(test_dir, 'beach')\n",
    "test_moutain_dir = os.path.join(test_dir, 'mountain')"
   ]
  },
  {
   "cell_type": "code",
   "execution_count": 13,
   "metadata": {
    "colab": {
     "base_uri": "https://localhost:8080/"
    },
    "id": "OqujO8RLXBkJ",
    "outputId": "aee36064-cb7f-4fea-893a-e31edb307ca8"
   },
   "outputs": [
    {
     "name": "stdout",
     "output_type": "stream",
     "text": [
      "Found 26446 images belonging to 2 classes.\n",
      "Found 3020 images belonging to 2 classes.\n",
      "Found 929 images belonging to 2 classes.\n"
     ]
    }
   ],
   "source": [
    "train_datagen = ImageDataGenerator(rescale = 1./255.,\n",
    "                                   rotation_range = 40,\n",
    "                                   width_shift_range = 0.2,\n",
    "                                   height_shift_range = 0.2,\n",
    "                                   shear_range = 0.2,\n",
    "                                   zoom_range = 0.2,\n",
    "                                   horizontal_flip = True)\n",
    "\n",
    "test_datagen = ImageDataGenerator(rescale = 1.0/255.)\n",
    "\n",
    "batch_size = 50\n",
    "train_generator = train_datagen.flow_from_directory(train_dir,\n",
    "                                                    batch_size = batch_size,\n",
    "                                                    class_mode = 'binary', \n",
    "                                                    target_size = im_dim)\n",
    "\n",
    "validation_generator =  test_datagen.flow_from_directory(validation_dir,\n",
    "                                                         batch_size  = batch_size,\n",
    "                                                         class_mode  = 'binary', \n",
    "                                                         target_size = im_dim)"
   ]
  },
  {
   "cell_type": "code",
   "execution_count": 24,
   "metadata": {},
   "outputs": [
    {
     "name": "stdout",
     "output_type": "stream",
     "text": [
      "Found 929 images belonging to 2 classes.\n"
     ]
    }
   ],
   "source": [
    "test_datagen = ImageDataGenerator(rescale = 1.0/255.)\n",
    "test_generator =  test_datagen.flow_from_directory(test_dir,\n",
    "                                                         batch_size  = batch_size,\n",
    "                                                         class_mode  = 'binary', \n",
    "                                                         target_size = im_dim)"
   ]
  },
  {
   "cell_type": "code",
   "execution_count": 15,
   "metadata": {
    "id": "YrhUKao-XBkK"
   },
   "outputs": [],
   "source": [
    "class myCallback(tf.keras.callbacks.Callback):\n",
    "    def on_epoch_end(self, epoch, logs={}):\n",
    "        if(logs.get('val_accuracy') is not None and logs.get('val_accuracy') > 0.97) :\n",
    "            print(\"\\nReached 96.0% accuracy so cancelling training!\")\n",
    "            self.model.stop_training = True\n",
    "\n",
    "my_callback = myCallback()"
   ]
  },
  {
   "cell_type": "code",
   "execution_count": 16,
   "metadata": {
    "colab": {
     "base_uri": "https://localhost:8080/"
    },
    "id": "pkhkqKcGXBkK",
    "outputId": "b909fbea-d208-42a6-d2e2-86bcd6e9230f"
   },
   "outputs": [
    {
     "name": "stdout",
     "output_type": "stream",
     "text": [
      "Epoch 1/100\n",
      "60/60 - 31s - loss: 0.4314 - accuracy: 0.8030 - val_loss: 0.2836 - val_accuracy: 0.8960\n",
      "Epoch 2/100\n",
      "60/60 - 27s - loss: 0.3295 - accuracy: 0.8643 - val_loss: 0.2401 - val_accuracy: 0.9057\n",
      "Epoch 3/100\n",
      "60/60 - 27s - loss: 0.3013 - accuracy: 0.8750 - val_loss: 0.2299 - val_accuracy: 0.9103\n",
      "Epoch 4/100\n",
      "60/60 - 27s - loss: 0.2716 - accuracy: 0.8840 - val_loss: 0.2152 - val_accuracy: 0.9197\n",
      "Epoch 5/100\n",
      "60/60 - 27s - loss: 0.2812 - accuracy: 0.8810 - val_loss: 0.1994 - val_accuracy: 0.9267\n",
      "Epoch 6/100\n",
      "60/60 - 27s - loss: 0.2699 - accuracy: 0.8833 - val_loss: 0.1833 - val_accuracy: 0.9300\n",
      "Epoch 7/100\n",
      "60/60 - 26s - loss: 0.2618 - accuracy: 0.8963 - val_loss: 0.1828 - val_accuracy: 0.9313\n",
      "Epoch 8/100\n",
      "60/60 - 26s - loss: 0.2284 - accuracy: 0.9060 - val_loss: 0.1924 - val_accuracy: 0.9263\n",
      "Epoch 9/100\n",
      "60/60 - 26s - loss: 0.2281 - accuracy: 0.9063 - val_loss: 0.1778 - val_accuracy: 0.9347\n",
      "Epoch 10/100\n",
      "60/60 - 26s - loss: 0.2376 - accuracy: 0.9067 - val_loss: 0.1983 - val_accuracy: 0.9267\n",
      "Epoch 11/100\n",
      "60/60 - 27s - loss: 0.2359 - accuracy: 0.9083 - val_loss: 0.1791 - val_accuracy: 0.9337\n",
      "Epoch 12/100\n",
      "60/60 - 27s - loss: 0.2397 - accuracy: 0.9022 - val_loss: 0.1724 - val_accuracy: 0.9347\n",
      "Epoch 13/100\n",
      "60/60 - 26s - loss: 0.2320 - accuracy: 0.8992 - val_loss: 0.1761 - val_accuracy: 0.9320\n",
      "Epoch 14/100\n",
      "60/60 - 26s - loss: 0.2367 - accuracy: 0.9090 - val_loss: 0.1726 - val_accuracy: 0.9327\n",
      "Epoch 15/100\n",
      "60/60 - 26s - loss: 0.2171 - accuracy: 0.9107 - val_loss: 0.1763 - val_accuracy: 0.9320\n",
      "Epoch 16/100\n",
      "60/60 - 26s - loss: 0.2269 - accuracy: 0.9090 - val_loss: 0.1739 - val_accuracy: 0.9347\n",
      "Epoch 17/100\n",
      "60/60 - 26s - loss: 0.2203 - accuracy: 0.9137 - val_loss: 0.1784 - val_accuracy: 0.9353\n",
      "Epoch 18/100\n",
      "60/60 - 26s - loss: 0.2102 - accuracy: 0.9167 - val_loss: 0.1805 - val_accuracy: 0.9310\n",
      "Epoch 19/100\n",
      "60/60 - 27s - loss: 0.2175 - accuracy: 0.9123 - val_loss: 0.1708 - val_accuracy: 0.9310\n",
      "Epoch 20/100\n",
      "60/60 - 26s - loss: 0.2211 - accuracy: 0.9147 - val_loss: 0.2036 - val_accuracy: 0.9257\n",
      "Epoch 21/100\n",
      "60/60 - 26s - loss: 0.2080 - accuracy: 0.9217 - val_loss: 0.1915 - val_accuracy: 0.9317\n",
      "Epoch 22/100\n",
      "60/60 - 27s - loss: 0.2138 - accuracy: 0.9107 - val_loss: 0.1899 - val_accuracy: 0.9303\n",
      "Epoch 23/100\n",
      "60/60 - 26s - loss: 0.2138 - accuracy: 0.9170 - val_loss: 0.1726 - val_accuracy: 0.9343\n",
      "Epoch 24/100\n",
      "60/60 - 26s - loss: 0.2170 - accuracy: 0.9227 - val_loss: 0.1658 - val_accuracy: 0.9363\n",
      "Epoch 25/100\n",
      "60/60 - 26s - loss: 0.2030 - accuracy: 0.9190 - val_loss: 0.1667 - val_accuracy: 0.9390\n",
      "Epoch 26/100\n",
      "60/60 - 27s - loss: 0.2093 - accuracy: 0.9163 - val_loss: 0.1662 - val_accuracy: 0.9403\n",
      "Epoch 27/100\n",
      "60/60 - 26s - loss: 0.2515 - accuracy: 0.9040 - val_loss: 0.1729 - val_accuracy: 0.9353\n",
      "Epoch 28/100\n",
      "60/60 - 27s - loss: 0.2008 - accuracy: 0.9217 - val_loss: 0.1654 - val_accuracy: 0.9377\n",
      "Epoch 29/100\n",
      "60/60 - 26s - loss: 0.2133 - accuracy: 0.9143 - val_loss: 0.1627 - val_accuracy: 0.9383\n",
      "Epoch 30/100\n",
      "60/60 - 27s - loss: 0.1942 - accuracy: 0.9220 - val_loss: 0.1678 - val_accuracy: 0.9400\n",
      "Epoch 31/100\n",
      "60/60 - 26s - loss: 0.2026 - accuracy: 0.9177 - val_loss: 0.1644 - val_accuracy: 0.9383\n",
      "Epoch 32/100\n",
      "60/60 - 26s - loss: 0.2177 - accuracy: 0.9160 - val_loss: 0.1674 - val_accuracy: 0.9403\n",
      "Epoch 33/100\n",
      "60/60 - 26s - loss: 0.1989 - accuracy: 0.9230 - val_loss: 0.1675 - val_accuracy: 0.9380\n",
      "Epoch 34/100\n",
      "60/60 - 26s - loss: 0.2038 - accuracy: 0.9207 - val_loss: 0.1667 - val_accuracy: 0.9413\n",
      "Epoch 35/100\n",
      "60/60 - 26s - loss: 0.2010 - accuracy: 0.9196 - val_loss: 0.1656 - val_accuracy: 0.9367\n",
      "Epoch 36/100\n",
      "60/60 - 26s - loss: 0.2114 - accuracy: 0.9157 - val_loss: 0.1616 - val_accuracy: 0.9437\n",
      "Epoch 37/100\n",
      "60/60 - 27s - loss: 0.2172 - accuracy: 0.9119 - val_loss: 0.1603 - val_accuracy: 0.9437\n",
      "Epoch 38/100\n",
      "60/60 - 27s - loss: 0.1892 - accuracy: 0.9293 - val_loss: 0.1745 - val_accuracy: 0.9373\n",
      "Epoch 39/100\n",
      "60/60 - 26s - loss: 0.1946 - accuracy: 0.9256 - val_loss: 0.1646 - val_accuracy: 0.9413\n",
      "Epoch 40/100\n",
      "60/60 - 27s - loss: 0.2075 - accuracy: 0.9190 - val_loss: 0.1572 - val_accuracy: 0.9420\n",
      "Epoch 41/100\n",
      "60/60 - 26s - loss: 0.2211 - accuracy: 0.9103 - val_loss: 0.1566 - val_accuracy: 0.9427\n",
      "Epoch 42/100\n",
      "60/60 - 26s - loss: 0.2063 - accuracy: 0.9193 - val_loss: 0.1613 - val_accuracy: 0.9413\n",
      "Epoch 43/100\n",
      "60/60 - 26s - loss: 0.1751 - accuracy: 0.9350 - val_loss: 0.1664 - val_accuracy: 0.9437\n",
      "Epoch 44/100\n",
      "60/60 - 26s - loss: 0.2071 - accuracy: 0.9257 - val_loss: 0.1601 - val_accuracy: 0.9413\n",
      "Epoch 45/100\n",
      "60/60 - 26s - loss: 0.2037 - accuracy: 0.9147 - val_loss: 0.1599 - val_accuracy: 0.9417\n",
      "Epoch 46/100\n",
      "60/60 - 27s - loss: 0.2083 - accuracy: 0.9143 - val_loss: 0.1636 - val_accuracy: 0.9423\n",
      "Epoch 47/100\n",
      "60/60 - 26s - loss: 0.2052 - accuracy: 0.9157 - val_loss: 0.1579 - val_accuracy: 0.9437\n",
      "Epoch 48/100\n",
      "60/60 - 27s - loss: 0.1882 - accuracy: 0.9247 - val_loss: 0.1801 - val_accuracy: 0.9403\n",
      "Epoch 49/100\n",
      "60/60 - 26s - loss: 0.2003 - accuracy: 0.9247 - val_loss: 0.1672 - val_accuracy: 0.9397\n",
      "Epoch 50/100\n",
      "60/60 - 26s - loss: 0.1880 - accuracy: 0.9260 - val_loss: 0.1661 - val_accuracy: 0.9420\n",
      "Epoch 51/100\n",
      "60/60 - 27s - loss: 0.1930 - accuracy: 0.9247 - val_loss: 0.1599 - val_accuracy: 0.9447\n",
      "Epoch 52/100\n",
      "60/60 - 26s - loss: 0.2002 - accuracy: 0.9223 - val_loss: 0.1648 - val_accuracy: 0.9417\n",
      "Epoch 53/100\n",
      "60/60 - 26s - loss: 0.1920 - accuracy: 0.9263 - val_loss: 0.1676 - val_accuracy: 0.9427\n",
      "Epoch 54/100\n",
      "60/60 - 26s - loss: 0.2032 - accuracy: 0.9257 - val_loss: 0.1641 - val_accuracy: 0.9433\n",
      "Epoch 55/100\n",
      "60/60 - 26s - loss: 0.1978 - accuracy: 0.9250 - val_loss: 0.1602 - val_accuracy: 0.9443\n",
      "Epoch 56/100\n",
      "60/60 - 26s - loss: 0.2087 - accuracy: 0.9190 - val_loss: 0.1776 - val_accuracy: 0.9383\n",
      "Epoch 57/100\n",
      "60/60 - 26s - loss: 0.1958 - accuracy: 0.9227 - val_loss: 0.1746 - val_accuracy: 0.9407\n",
      "Epoch 58/100\n",
      "60/60 - 26s - loss: 0.1933 - accuracy: 0.9297 - val_loss: 0.1646 - val_accuracy: 0.9427\n",
      "Epoch 59/100\n",
      "60/60 - 26s - loss: 0.1751 - accuracy: 0.9360 - val_loss: 0.1668 - val_accuracy: 0.9433\n",
      "Epoch 60/100\n",
      "60/60 - 26s - loss: 0.1794 - accuracy: 0.9332 - val_loss: 0.1636 - val_accuracy: 0.9450\n",
      "Epoch 61/100\n",
      "60/60 - 26s - loss: 0.1880 - accuracy: 0.9330 - val_loss: 0.1657 - val_accuracy: 0.9457\n",
      "Epoch 62/100\n",
      "60/60 - 27s - loss: 0.1853 - accuracy: 0.9233 - val_loss: 0.1812 - val_accuracy: 0.9393\n",
      "Epoch 63/100\n",
      "60/60 - 27s - loss: 0.1922 - accuracy: 0.9232 - val_loss: 0.1678 - val_accuracy: 0.9420\n",
      "Epoch 64/100\n",
      "60/60 - 26s - loss: 0.2023 - accuracy: 0.9263 - val_loss: 0.1595 - val_accuracy: 0.9487\n",
      "Epoch 65/100\n",
      "60/60 - 27s - loss: 0.1831 - accuracy: 0.9287 - val_loss: 0.1893 - val_accuracy: 0.9343\n",
      "Epoch 66/100\n",
      "60/60 - 26s - loss: 0.2022 - accuracy: 0.9217 - val_loss: 0.1666 - val_accuracy: 0.9417\n",
      "Epoch 67/100\n",
      "60/60 - 26s - loss: 0.1729 - accuracy: 0.9340 - val_loss: 0.1683 - val_accuracy: 0.9430\n",
      "Epoch 68/100\n",
      "60/60 - 26s - loss: 0.2124 - accuracy: 0.9207 - val_loss: 0.1637 - val_accuracy: 0.9437\n",
      "Epoch 69/100\n",
      "60/60 - 27s - loss: 0.1836 - accuracy: 0.9293 - val_loss: 0.1655 - val_accuracy: 0.9450\n",
      "Epoch 70/100\n",
      "60/60 - 27s - loss: 0.1953 - accuracy: 0.9230 - val_loss: 0.1634 - val_accuracy: 0.9453\n",
      "Epoch 71/100\n",
      "60/60 - 26s - loss: 0.1977 - accuracy: 0.9247 - val_loss: 0.1652 - val_accuracy: 0.9440\n",
      "Epoch 72/100\n",
      "60/60 - 27s - loss: 0.1937 - accuracy: 0.9306 - val_loss: 0.1617 - val_accuracy: 0.9457\n",
      "Epoch 73/100\n",
      "60/60 - 26s - loss: 0.1746 - accuracy: 0.9317 - val_loss: 0.1667 - val_accuracy: 0.9433\n",
      "Epoch 74/100\n",
      "60/60 - 26s - loss: 0.1873 - accuracy: 0.9293 - val_loss: 0.1635 - val_accuracy: 0.9473\n",
      "Epoch 75/100\n",
      "60/60 - 26s - loss: 0.1962 - accuracy: 0.9263 - val_loss: 0.1644 - val_accuracy: 0.9450\n",
      "Epoch 76/100\n",
      "60/60 - 27s - loss: 0.1868 - accuracy: 0.9263 - val_loss: 0.1691 - val_accuracy: 0.9440\n",
      "Epoch 77/100\n",
      "60/60 - 26s - loss: 0.1794 - accuracy: 0.9327 - val_loss: 0.1703 - val_accuracy: 0.9440\n",
      "Epoch 78/100\n",
      "60/60 - 26s - loss: 0.1873 - accuracy: 0.9370 - val_loss: 0.1730 - val_accuracy: 0.9430\n",
      "Epoch 79/100\n",
      "60/60 - 26s - loss: 0.1926 - accuracy: 0.9263 - val_loss: 0.1647 - val_accuracy: 0.9473\n",
      "Epoch 80/100\n",
      "60/60 - 26s - loss: 0.1740 - accuracy: 0.9367 - val_loss: 0.1703 - val_accuracy: 0.9430\n",
      "Epoch 81/100\n",
      "60/60 - 26s - loss: 0.1927 - accuracy: 0.9323 - val_loss: 0.1642 - val_accuracy: 0.9457\n",
      "Epoch 82/100\n",
      "60/60 - 26s - loss: 0.1854 - accuracy: 0.9287 - val_loss: 0.1682 - val_accuracy: 0.9463\n",
      "Epoch 83/100\n",
      "60/60 - 26s - loss: 0.2123 - accuracy: 0.9217 - val_loss: 0.1692 - val_accuracy: 0.9417\n",
      "Epoch 84/100\n",
      "60/60 - 26s - loss: 0.1960 - accuracy: 0.9243 - val_loss: 0.1683 - val_accuracy: 0.9437\n",
      "Epoch 85/100\n",
      "60/60 - 26s - loss: 0.2046 - accuracy: 0.9223 - val_loss: 0.1661 - val_accuracy: 0.9430\n",
      "Epoch 86/100\n",
      "60/60 - 26s - loss: 0.1917 - accuracy: 0.9307 - val_loss: 0.1693 - val_accuracy: 0.9443\n",
      "Epoch 87/100\n",
      "60/60 - 27s - loss: 0.1792 - accuracy: 0.9320 - val_loss: 0.1704 - val_accuracy: 0.9447\n",
      "Epoch 88/100\n",
      "60/60 - 26s - loss: 0.1860 - accuracy: 0.9270 - val_loss: 0.1666 - val_accuracy: 0.9460\n",
      "Epoch 89/100\n",
      "60/60 - 27s - loss: 0.1888 - accuracy: 0.9257 - val_loss: 0.1687 - val_accuracy: 0.9477\n",
      "Epoch 90/100\n",
      "60/60 - 26s - loss: 0.1871 - accuracy: 0.9250 - val_loss: 0.1675 - val_accuracy: 0.9477\n",
      "Epoch 91/100\n",
      "60/60 - 27s - loss: 0.1954 - accuracy: 0.9243 - val_loss: 0.1710 - val_accuracy: 0.9447\n",
      "Epoch 92/100\n",
      "60/60 - 27s - loss: 0.1946 - accuracy: 0.9273 - val_loss: 0.1843 - val_accuracy: 0.9360\n",
      "Epoch 93/100\n",
      "60/60 - 26s - loss: 0.1921 - accuracy: 0.9287 - val_loss: 0.1722 - val_accuracy: 0.9420\n",
      "Epoch 94/100\n",
      "60/60 - 26s - loss: 0.1964 - accuracy: 0.9243 - val_loss: 0.1676 - val_accuracy: 0.9473\n",
      "Epoch 95/100\n",
      "60/60 - 26s - loss: 0.1768 - accuracy: 0.9339 - val_loss: 0.1683 - val_accuracy: 0.9473\n",
      "Epoch 96/100\n",
      "60/60 - 26s - loss: 0.1745 - accuracy: 0.9317 - val_loss: 0.1765 - val_accuracy: 0.9453\n",
      "Epoch 97/100\n",
      "60/60 - 26s - loss: 0.1937 - accuracy: 0.9273 - val_loss: 0.1704 - val_accuracy: 0.9473\n",
      "Epoch 98/100\n",
      "60/60 - 27s - loss: 0.1897 - accuracy: 0.9297 - val_loss: 0.1655 - val_accuracy: 0.9500\n",
      "Epoch 99/100\n",
      "60/60 - 26s - loss: 0.2025 - accuracy: 0.9233 - val_loss: 0.1685 - val_accuracy: 0.9480\n",
      "Epoch 100/100\n",
      "60/60 - 26s - loss: 0.1978 - accuracy: 0.9270 - val_loss: 0.1676 - val_accuracy: 0.9463\n"
     ]
    }
   ],
   "source": [
    "history = model.fit(\n",
    "            train_generator,\n",
    "            validation_data = validation_generator,\n",
    "            steps_per_epoch = validation_generator.n//validation_generator.batch_size,\n",
    "            epochs = 100,\n",
    "            validation_steps = validation_generator.n//validation_generator.batch_size,\n",
    "            verbose = 2,\n",
    "            callbacks=[my_callback])"
   ]
  },
  {
   "cell_type": "code",
   "execution_count": 29,
   "metadata": {},
   "outputs": [
    {
     "name": "stdout",
     "output_type": "stream",
     "text": [
      "INFO:tensorflow:Assets written to: ../saved_model/SavedModel_100e_945_pre_imagenet_inceptionv3_200_moredata/assets\n"
     ]
    }
   ],
   "source": [
    "saved_model_path = \"../saved_model\"\n",
    "\n",
    "model.save(saved_model_path + '/SavedModel_100e_945_pre_imagenet_inceptionv3_200_moredata')\n",
    "model.save(saved_model_path + '/model_100e_945_pre_imagenet_inceptionv3_200_moredata.h5')\n",
    "\n",
    "# model.save(\"drive/MyDrive/ML_colab/save/beach_mountain/100epochs/SavedModel_100e_94\")"
   ]
  },
  {
   "cell_type": "code",
   "execution_count": 2,
   "metadata": {},
   "outputs": [
    {
     "name": "stdout",
     "output_type": "stream",
     "text": [
      "/learning/ds-sub/mountain-vs-beach-a-z-web/notebooks\n"
     ]
    }
   ],
   "source": [
    "!pwd"
   ]
  },
  {
   "cell_type": "code",
   "execution_count": null,
   "metadata": {},
   "outputs": [],
   "source": [
    "# Convert to TFJS\n",
    "!cd ../saved_model\n",
    "!tensorflowjs_converter --input_format=tf_saved_model --output_node_names='mountain_beach' --saved_model_tags=serve SavedModel_100e_945_pre_imagenet_inceptionv3_200_moredata web_model"
   ]
  },
  {
   "cell_type": "code",
   "execution_count": 17,
   "metadata": {
    "colab": {
     "base_uri": "https://localhost:8080/",
     "height": 298
    },
    "id": "KbTIzHqXXBkK",
    "outputId": "3cbfc65f-b03c-487c-cbca-d513439bf272"
   },
   "outputs": [
    {
     "data": {
      "image/png": "[encoded data removed]",
      "text/plain": [
       "<Figure size 432x288 with 1 Axes>"
      ]
     },
     "metadata": {
      "needs_background": "light"
     },
     "output_type": "display_data"
    },
    {
     "data": {
      "text/plain": [
       "<Figure size 432x288 with 0 Axes>"
      ]
     },
     "metadata": {},
     "output_type": "display_data"
    }
   ],
   "source": [
    "%matplotlib inline\n",
    "import matplotlib.pyplot as plt\n",
    "acc = history.history['accuracy']\n",
    "val_acc = history.history['val_accuracy']\n",
    "loss = history.history['loss']\n",
    "val_loss = history.history['val_loss']\n",
    "\n",
    "# loss\n",
    "epochs = range(len(loss))\n",
    "plt.plot(epochs, loss, 'r', label='Training loss')\n",
    "plt.plot(epochs, val_loss, 'b', label='Validation loss')\n",
    "plt.title('Training and validation loss')\n",
    "plt.legend(loc=0)\n",
    "plt.figure()\n",
    "plt.show()"
   ]
  },
  {
   "cell_type": "code",
   "execution_count": 18,
   "metadata": {},
   "outputs": [
    {
     "data": {
      "image/png": "[encoded data removed]",
      "text/plain": [
       "<Figure size 432x288 with 1 Axes>"
      ]
     },
     "metadata": {
      "needs_background": "light"
     },
     "output_type": "display_data"
    },
    {
     "data": {
      "text/plain": [
       "<Figure size 432x288 with 0 Axes>"
      ]
     },
     "metadata": {},
     "output_type": "display_data"
    }
   ],
   "source": [
    "# accuracy\n",
    "epochs = range(len(acc))\n",
    "plt.plot(epochs, acc, 'r', label='Training accuracy')\n",
    "plt.plot(epochs, val_acc, 'b', label='Validation accuracy')\n",
    "plt.title('Training and validation accuracy')\n",
    "plt.legend(loc=0)\n",
    "plt.figure()\n",
    "plt.show()"
   ]
  },
  {
   "cell_type": "code",
   "execution_count": 25,
   "metadata": {},
   "outputs": [
    {
     "name": "stdout",
     "output_type": "stream",
     "text": [
      "19/19 [==============================] - 2s 107ms/step - loss: 0.1661 - accuracy: 0.9429\n"
     ]
    },
    {
     "data": {
      "text/plain": [
       "[0.1661180853843689, 0.9429494142532349]"
      ]
     },
     "execution_count": 25,
     "metadata": {},
     "output_type": "execute_result"
    }
   ],
   "source": [
    "test_generator.reset()\n",
    "model.evaluate(test_generator)"
   ]
  },
  {
   "cell_type": "code",
   "execution_count": 21,
   "metadata": {},
   "outputs": [],
   "source": [
    "# test_dir = os.path.join(base_dir, 'internet')\n",
    "\n",
    "# test_datagen = ImageDataGenerator(rescale = 1.0/255.)\n",
    "\n",
    "# test_beach_dir = os.path.join(test_dir, 'beach')\n",
    "# test_moutain_dir = os.path.join(test_dir, 'mountain')\n",
    "\n",
    "# test_generator =  test_datagen.flow_from_directory(test_dir,\n",
    "#                                                          batch_size  = batch_size,\n",
    "#                                                          class_mode  = 'binary', \n",
    "#                                                          target_size = im_dim)\n",
    "\n",
    "# test_generator.reset()\n",
    "# model.evaluate(test_generator)"
   ]
  },
  {
   "cell_type": "code",
   "execution_count": 26,
   "metadata": {},
   "outputs": [
    {
     "data": {
      "text/plain": [
       "{0: 'beach', 1: 'mountain'}"
      ]
     },
     "execution_count": 26,
     "metadata": {},
     "output_type": "execute_result"
    }
   ],
   "source": [
    "# check the labels\n",
    "labels = (train_generator.class_indices)\n",
    "labels = dict((v,k) for k,v in labels.items())\n",
    "labels"
   ]
  },
  {
   "cell_type": "code",
   "execution_count": 27,
   "metadata": {},
   "outputs": [],
   "source": [
    "import numpy as np"
   ]
  },
  {
   "cell_type": "code",
   "execution_count": 28,
   "metadata": {},
   "outputs": [],
   "source": [
    "# test_generator.reset()\n",
    "# pred = model.predict(test_generator, verbose=1)\n",
    "# predicted_class_indices=(pred>0.5).astype(\"int32\")\n",
    "# predictions = [labels[k[0]] for k in predicted_class_indices]\n",
    "# predictions"
   ]
  },
  {
   "cell_type": "code",
   "execution_count": 30,
   "metadata": {},
   "outputs": [
    {
     "data": {
      "text/plain": [
       "(200, 200)"
      ]
     },
     "execution_count": 30,
     "metadata": {},
     "output_type": "execute_result"
    }
   ],
   "source": [
    "im_dim"
   ]
  },
  {
   "cell_type": "code",
   "execution_count": 31,
   "metadata": {},
   "outputs": [],
   "source": [
    "from tensorflow.keras.preprocessing import image"
   ]
  },
  {
   "cell_type": "code",
   "execution_count": 39,
   "metadata": {},
   "outputs": [
    {
     "name": "stdout",
     "output_type": "stream",
     "text": [
      "beach11.jpeg is a beach\n",
      "mountain6.jpg is a mountain\n",
      "mountain9.jpg is a mountain\n",
      "beach9.jpg is a beach\n",
      "beach12.jpeg is a beach\n",
      "beach8.jpeg is a mountain\n",
      "mountain2.jpg is a mountain\n",
      "mountain5.jpg is a mountain\n",
      "mountain1.jpg is a mountain\n",
      "mountain5.jpeg is a mountain\n",
      "beach1.jpg is a mountain\n",
      "mountain3.jpg is a mountain\n",
      "beach5.jpeg is a beach\n",
      "beach3.jpg is a beach\n",
      "mountain4.png is a beach\n",
      "beach6.jpg is a beach\n",
      "beach10.jpeg is a beach\n",
      "beach4.jpeg is a beach\n",
      "beach2.jpeg is a beach\n",
      "beach7.jpeg is a beach\n",
      "mountain8.jpeg is a mountain\n",
      "mountain7.jpg is a mountain\n"
     ]
    }
   ],
   "source": [
    "# predict for an uploaded image\n",
    "file_path = '../dataset/beach_mountain/internet/' # current dir\n",
    "# file_path = '../dataset/beach_mountain/test/beach/' # current dir\n",
    "# file_path = '../dataset/beach_mountain/test/mountain/' # current dir\n",
    "test_files = os.listdir(file_path)\n",
    "\n",
    "for file in test_files:\n",
    "    # predicting images\n",
    "    path=file_path + file\n",
    "    img=image.load_img(path, target_size=im_dim)\n",
    "    x=image.img_to_array(img)\n",
    "    x=x/255\n",
    "    x=np.expand_dims(x, axis=0)\n",
    "    images = np.vstack([x])\n",
    "    \n",
    "    classes = model.predict(images)\n",
    "    classes = (classes > 0.5).astype(\"int32\")[0][0]\n",
    "#     print(classes)\n",
    "\n",
    "    if classes>0:\n",
    "        print(file + \" is a mountain\")\n",
    "    else:\n",
    "        print(file + \" is a beach\")"
   ]
  },
  {
   "cell_type": "code",
   "execution_count": 37,
   "metadata": {},
   "outputs": [
    {
     "name": "stdout",
     "output_type": "stream",
     "text": [
      "mountain1.jpg is a mountain\n"
     ]
    }
   ],
   "source": [
    "# from an image\n",
    "test_file = \"../dataset/beach_mountain/internet/mountain1.jpg\"\n",
    "img = image.load_img(test_file, target_size=im_dim)\n",
    "x = image.img_to_array(img)\n",
    "x = x/255\n",
    "x = np.expand_dims(x, axis=0)\n",
    "images = np.vstack([x])\n",
    "\n",
    "classes = model.predict(images)\n",
    "classes = (classes > 0.5).astype(\"int32\")[0]\n",
    "\n",
    "if classes>0:\n",
    "    print(test_file.split(\"/\")[-1] + \" is a mountain\")\n",
    "else:\n",
    "    print(test_file.split(\"/\")[-1] + \" is a beach\")"
   ]
  },
  {
   "cell_type": "code",
   "execution_count": 21,
   "metadata": {
    "id": "SloSiiRfjLtU"
   },
   "outputs": [],
   "source": [
    "# model.save(\"drive/MyDrive/ML_colab/save/beach_mountain/100epochs/model_100e_94.h5\")"
   ]
  },
  {
   "cell_type": "code",
   "execution_count": null,
   "metadata": {
    "id": "ecP4VC0Gjcgj"
   },
   "outputs": [],
   "source": [
    "# keep colab alive\n",
    "# while True:pass"
   ]
  }
 ],
 "metadata": {
  "accelerator": "GPU",
  "colab": {
   "collapsed_sections": [],
   "name": "mountain_beach_tf_course_catdog.ipynb",
   "provenance": [],
   "toc_visible": true
  },
  "kernelspec": {
   "display_name": "Python 3",
   "language": "python",
   "name": "python3"
  },
  "language_info": {
   "codemirror_mode": {
    "name": "ipython",
    "version": 3
   },
   "file_extension": ".py",
   "mimetype": "text/x-python",
   "name": "python",
   "nbconvert_exporter": "python",
   "pygments_lexer": "ipython3",
   "version": "3.6.9"
  }
 },
 "nbformat": 4,
 "nbformat_minor": 4
}
