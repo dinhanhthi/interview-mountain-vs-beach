{
 "cells": [
  {
   "cell_type": "markdown",
   "metadata": {
    "id": "zox1hWwnXBj8"
   },
   "source": [
    "## Refs\n",
    "\n",
    "Follow notebook `cat_dog_transfer_learning.ipynb`"
   ]
  },
  {
   "cell_type": "code",
   "execution_count": 1,
   "metadata": {
    "colab": {
     "base_uri": "https://localhost:8080/"
    },
    "id": "WzZWQdbvXNYZ",
    "outputId": "b976e183-87ed-45b6-c655-6719c41d80b1"
   },
   "outputs": [],
   "source": [
    "# from google.colab import drive\n",
    "# # drive.mount('/content/drive')\n",
    "# drive.mount(\"/content/drive\", force_remount=True)"
   ]
  },
  {
   "cell_type": "code",
   "execution_count": 2,
   "metadata": {
    "colab": {
     "base_uri": "https://localhost:8080/"
    },
    "id": "XRBpJ2bkeFD_",
    "outputId": "cfa91fe2-e418-47dc-bf4e-5c0887e45ac4"
   },
   "outputs": [],
   "source": [
    "# !ls drive/MyDrive/ML_colab/"
   ]
  },
  {
   "cell_type": "code",
   "execution_count": 3,
   "metadata": {},
   "outputs": [],
   "source": [
    "from tensorflow.compat.v1 import ConfigProto\n",
    "from tensorflow.compat.v1 import InteractiveSession\n",
    "\n",
    "config = ConfigProto()\n",
    "config.gpu_options.allow_growth = True\n",
    "session = InteractiveSession(config=config)"
   ]
  },
  {
   "cell_type": "code",
   "execution_count": 4,
   "metadata": {
    "id": "ANT4DKquXBkE"
   },
   "outputs": [],
   "source": [
    "import os\n",
    "\n",
    "import tensorflow as tf\n",
    "from tensorflow.keras import layers\n",
    "from tensorflow.keras import Model\n",
    "from tensorflow.keras.optimizers import RMSprop\n",
    "from tensorflow.keras.preprocessing.image import ImageDataGenerator"
   ]
  },
  {
   "cell_type": "code",
   "execution_count": 5,
   "metadata": {
    "id": "Oqrf_5zUXBkG"
   },
   "outputs": [],
   "source": [
    "from tensorflow.keras.applications.inception_v3 import InceptionV3"
   ]
  },
  {
   "cell_type": "code",
   "execution_count": 6,
   "metadata": {},
   "outputs": [],
   "source": [
    "# vgg16 places365 pretrained\n",
    "local_weights_file_vgg = '../pretrained/vgg16-places365_weights_tf_dim_ordering_tf_kernels_notop.h5'\n",
    "from tensorflow.keras.applications.vgg16 import VGG16\n",
    "\n",
    "pre_trained_model_vgg = VGG16(input_shape = (150, 150, 3), \n",
    "                                include_top = False, \n",
    "                                weights = None)\n",
    "\n",
    "pre_trained_model_vgg.load_weights(local_weights_file_vgg)\n",
    "\n",
    "for layer in pre_trained_model_vgg.layers:\n",
    "    layer.trainable = False"
   ]
  },
  {
   "cell_type": "code",
   "execution_count": 7,
   "metadata": {},
   "outputs": [
    {
     "name": "stdout",
     "output_type": "stream",
     "text": [
      "Model: \"vgg16\"\n",
      "_________________________________________________________________\n",
      "Layer (type)                 Output Shape              Param #   \n",
      "=================================================================\n",
      "input_1 (InputLayer)         [(None, 150, 150, 3)]     0         \n",
      "_________________________________________________________________\n",
      "block1_conv1 (Conv2D)        (None, 150, 150, 64)      1792      \n",
      "_________________________________________________________________\n",
      "block1_conv2 (Conv2D)        (None, 150, 150, 64)      36928     \n",
      "_________________________________________________________________\n",
      "block1_pool (MaxPooling2D)   (None, 75, 75, 64)        0         \n",
      "_________________________________________________________________\n",
      "block2_conv1 (Conv2D)        (None, 75, 75, 128)       73856     \n",
      "_________________________________________________________________\n",
      "block2_conv2 (Conv2D)        (None, 75, 75, 128)       147584    \n",
      "_________________________________________________________________\n",
      "block2_pool (MaxPooling2D)   (None, 37, 37, 128)       0         \n",
      "_________________________________________________________________\n",
      "block3_conv1 (Conv2D)        (None, 37, 37, 256)       295168    \n",
      "_________________________________________________________________\n",
      "block3_conv2 (Conv2D)        (None, 37, 37, 256)       590080    \n",
      "_________________________________________________________________\n",
      "block3_conv3 (Conv2D)        (None, 37, 37, 256)       590080    \n",
      "_________________________________________________________________\n",
      "block3_pool (MaxPooling2D)   (None, 18, 18, 256)       0         \n",
      "_________________________________________________________________\n",
      "block4_conv1 (Conv2D)        (None, 18, 18, 512)       1180160   \n",
      "_________________________________________________________________\n",
      "block4_conv2 (Conv2D)        (None, 18, 18, 512)       2359808   \n",
      "_________________________________________________________________\n",
      "block4_conv3 (Conv2D)        (None, 18, 18, 512)       2359808   \n",
      "_________________________________________________________________\n",
      "block4_pool (MaxPooling2D)   (None, 9, 9, 512)         0         \n",
      "_________________________________________________________________\n",
      "block5_conv1 (Conv2D)        (None, 9, 9, 512)         2359808   \n",
      "_________________________________________________________________\n",
      "block5_conv2 (Conv2D)        (None, 9, 9, 512)         2359808   \n",
      "_________________________________________________________________\n",
      "block5_conv3 (Conv2D)        (None, 9, 9, 512)         2359808   \n",
      "_________________________________________________________________\n",
      "block5_pool (MaxPooling2D)   (None, 4, 4, 512)         0         \n",
      "=================================================================\n",
      "Total params: 14,714,688\n",
      "Trainable params: 0\n",
      "Non-trainable params: 14,714,688\n",
      "_________________________________________________________________\n"
     ]
    }
   ],
   "source": [
    "pre_trained_model_vgg.summary()"
   ]
  },
  {
   "cell_type": "code",
   "execution_count": 8,
   "metadata": {},
   "outputs": [],
   "source": [
    "# im_dim = (200, 200)\n",
    "im_dim = (150, 150)"
   ]
  },
  {
   "cell_type": "code",
   "execution_count": 9,
   "metadata": {},
   "outputs": [
    {
     "name": "stdout",
     "output_type": "stream",
     "text": [
      "last layer output shape:  (None, 9, 9, 512)\n"
     ]
    }
   ],
   "source": [
    "last_layer_vgg = pre_trained_model_vgg.get_layer('block5_conv3')\n",
    "print('last layer output shape: ', last_layer_vgg.output_shape)\n",
    "last_output = last_layer_vgg.output"
   ]
  },
  {
   "cell_type": "code",
   "execution_count": 10,
   "metadata": {
    "id": "J1Ol2A4uXBkI"
   },
   "outputs": [],
   "source": [
    "# Flatten the output layer to 1 dimension\n",
    "x = layers.Flatten()(last_output)\n",
    "# Add a fully connected layer with 1,024 hidden units and ReLU activation\n",
    "x = layers.Dense(512, activation='relu')(x)\n",
    "# Add a dropout rate of 0.2\n",
    "x = layers.Dropout(0.35)(x)                  \n",
    "# Add a final sigmoid layer for classification\n",
    "x = layers.Dense  (1, activation='sigmoid')(x)           \n",
    "\n",
    "model = Model( pre_trained_model_vgg.input, x) \n",
    "\n",
    "model.compile(optimizer = RMSprop(lr=0.0001), \n",
    "              loss = 'binary_crossentropy', \n",
    "              metrics = ['accuracy'])"
   ]
  },
  {
   "cell_type": "code",
   "execution_count": 11,
   "metadata": {
    "id": "bT47ENDpZjTy"
   },
   "outputs": [],
   "source": [
    "# !mv drive/MyDrive/ML_colab/datasetbeach_mountain/beach_mountain drive/MyDrive/ML_colab/dataset/"
   ]
  },
  {
   "cell_type": "code",
   "execution_count": 12,
   "metadata": {
    "id": "eDO1gUnDZEpd"
   },
   "outputs": [],
   "source": [
    "# only on colab\n",
    "# import zipfile\n",
    "\n",
    "# dataset_dir = 'drive/MyDrive/ML_colab/dataset'\n",
    "# zip_file = dataset_dir + '/beach_mountain.zip'\n",
    "# zip_ref = zipfile.ZipFile(zip_file, 'r')\n",
    "# zip_ref.extractall(dataset_dir+'/b_m')\n",
    "# zip_ref.close()"
   ]
  },
  {
   "cell_type": "code",
   "execution_count": 13,
   "metadata": {
    "colab": {
     "base_uri": "https://localhost:8080/"
    },
    "id": "Wwy65VcwgwkE",
    "outputId": "3975ddc8-101d-4ce1-e36f-bc46ff78e920"
   },
   "outputs": [],
   "source": [
    "# !ls drive/MyDrive/ML_colab/dataset/b_m/beach_mountain/"
   ]
  },
  {
   "cell_type": "code",
   "execution_count": 14,
   "metadata": {
    "id": "RzD6FmaYgjs6"
   },
   "outputs": [],
   "source": [
    "# %%time\n",
    "# import zipfile\n",
    "\n",
    "# dataset_dir = 'drive/MyDrive/ML_colab/dataset'\n",
    "# zip_file = dataset_dir + '/beach_mountain.zip'\n",
    "# zip_ref = zipfile.ZipFile(zip_file, 'r')\n",
    "# zip_ref.extractall(\"/tmp\")\n",
    "# zip_ref.close()"
   ]
  },
  {
   "cell_type": "code",
   "execution_count": 15,
   "metadata": {},
   "outputs": [],
   "source": [
    "import os\n",
    "import random\n",
    "from shutil import copyfile\n",
    "def split_data(SOURCE, TRAINING, TESTING, SPLIT_SIZE):\n",
    "    lst_cat_imgs = os.listdir(SOURCE)\n",
    "    lst_cat_imgs = random.sample(lst_cat_imgs, len(lst_cat_imgs))\n",
    "    for file in lst_cat_imgs[:int(SPLIT_SIZE*len(lst_cat_imgs))]:\n",
    "        source_file = os.path.join(SOURCE, file)\n",
    "        destination_file = os.path.join(TRAINING, file)\n",
    "        if os.path.getsize(source_file) > 0:\n",
    "            copyfile(source_file, destination_file)\n",
    "    for file in lst_cat_imgs[int(SPLIT_SIZE*len(lst_cat_imgs)):]:\n",
    "        source_file = os.path.join(SOURCE, file)\n",
    "        destination_file = os.path.join(TESTING, file)\n",
    "        if os.path.getsize(source_file) > 0:\n",
    "            copyfile(source_file, destination_file)"
   ]
  },
  {
   "cell_type": "code",
   "execution_count": 16,
   "metadata": {
    "id": "8e1MeiziXBkI"
   },
   "outputs": [],
   "source": [
    "# local data\n",
    "\n",
    "base_dir = \"../dataset/beach_mountain_more\"\n",
    "# base_dir = \"drive/MyDrive/ML_colab/dataset/beach_mountain\"\n",
    "# base_dir = \"drive/MyDrive/ML_colab/dataset/b_m/beach_mountain/\"\n",
    "\n",
    "train_dir = os.path.join(base_dir, 'train')\n",
    "validation_dir = os.path.join(base_dir, 'validation')\n",
    "test_dir = os.path.join(base_dir, 'test')\n",
    "\n",
    "train_beach_dir = os.path.join(train_dir, 'beach')\n",
    "train_moutain_dir = os.path.join(train_dir, 'mountain')\n",
    "\n",
    "validation_beach_dir = os.path.join(validation_dir, 'beach')\n",
    "validation_mountain_dir = os.path.join(validation_dir, 'mountain')\n",
    "\n",
    "test_beach_dir = os.path.join(test_dir, 'beach')\n",
    "test_moutain_dir = os.path.join(test_dir, 'mountain')"
   ]
  },
  {
   "cell_type": "code",
   "execution_count": 17,
   "metadata": {
    "colab": {
     "base_uri": "https://localhost:8080/"
    },
    "id": "OqujO8RLXBkJ",
    "outputId": "aee36064-cb7f-4fea-893a-e31edb307ca8"
   },
   "outputs": [
    {
     "name": "stdout",
     "output_type": "stream",
     "text": [
      "Found 26446 images belonging to 2 classes.\n",
      "Found 3020 images belonging to 2 classes.\n"
     ]
    }
   ],
   "source": [
    "train_datagen = ImageDataGenerator(rescale = 1./255.,\n",
    "                                   rotation_range = 40,\n",
    "                                   width_shift_range = 0.2,\n",
    "                                   height_shift_range = 0.2,\n",
    "                                   shear_range = 0.2,\n",
    "                                   zoom_range = 0.2,\n",
    "                                   horizontal_flip = True)\n",
    "\n",
    "test_datagen = ImageDataGenerator(rescale = 1.0/255.)\n",
    "\n",
    "batch_size = 30\n",
    "train_generator = train_datagen.flow_from_directory(train_dir,\n",
    "                                                    batch_size = batch_size,\n",
    "                                                    class_mode = 'binary', \n",
    "                                                    target_size = im_dim)\n",
    "\n",
    "validation_generator =  test_datagen.flow_from_directory(validation_dir,\n",
    "                                                         batch_size  = batch_size,\n",
    "                                                         class_mode  = 'binary', \n",
    "                                                         target_size = im_dim)"
   ]
  },
  {
   "cell_type": "code",
   "execution_count": 18,
   "metadata": {},
   "outputs": [
    {
     "name": "stdout",
     "output_type": "stream",
     "text": [
      "Found 929 images belonging to 2 classes.\n"
     ]
    }
   ],
   "source": [
    "test_datagen = ImageDataGenerator(rescale = 1.0/255.)\n",
    "test_generator =  test_datagen.flow_from_directory(test_dir,\n",
    "                                                         batch_size  = batch_size,\n",
    "                                                         class_mode  = 'binary', \n",
    "                                                         target_size = im_dim)"
   ]
  },
  {
   "cell_type": "code",
   "execution_count": 19,
   "metadata": {
    "id": "YrhUKao-XBkK"
   },
   "outputs": [],
   "source": [
    "class myCallback(tf.keras.callbacks.Callback):\n",
    "    def on_epoch_end(self, epoch, logs={}):\n",
    "        if(logs.get('val_accuracy') is not None and logs.get('val_accuracy') > 0.96) :\n",
    "            print(\"\\nReached 96.0% accuracy so cancelling training!\")\n",
    "            self.model.stop_training = True\n",
    "\n",
    "my_callback = myCallback()"
   ]
  },
  {
   "cell_type": "code",
   "execution_count": null,
   "metadata": {},
   "outputs": [],
   "source": [
    "print(\"train_steps: \", validation_generator.n//validation_generator.batch_size)\n",
    "print(\"test_steps: \", validation_generator.n//validation_generator.batch_size)"
   ]
  },
  {
   "cell_type": "code",
   "execution_count": 20,
   "metadata": {
    "colab": {
     "base_uri": "https://localhost:8080/"
    },
    "id": "pkhkqKcGXBkK",
    "outputId": "b909fbea-d208-42a6-d2e2-86bcd6e9230f"
   },
   "outputs": [
    {
     "name": "stdout",
     "output_type": "stream",
     "text": [
      "Epoch 1/100\n",
      "100/100 - 32s - loss: 0.7161 - accuracy: 0.6773 - val_loss: 0.4594 - val_accuracy: 0.7823\n",
      "Epoch 2/100\n",
      "100/100 - 25s - loss: 0.5406 - accuracy: 0.7463 - val_loss: 0.4730 - val_accuracy: 0.7893\n",
      "Epoch 3/100\n",
      "100/100 - 25s - loss: 0.5069 - accuracy: 0.7567 - val_loss: 0.4319 - val_accuracy: 0.8147\n",
      "Epoch 4/100\n",
      "100/100 - 25s - loss: 0.4926 - accuracy: 0.7743 - val_loss: 0.4505 - val_accuracy: 0.8027\n",
      "Epoch 5/100\n",
      "100/100 - 25s - loss: 0.4887 - accuracy: 0.7767 - val_loss: 0.4809 - val_accuracy: 0.7897\n",
      "Epoch 6/100\n",
      "100/100 - 25s - loss: 0.4848 - accuracy: 0.7817 - val_loss: 0.4267 - val_accuracy: 0.8133\n",
      "Epoch 7/100\n",
      "100/100 - 25s - loss: 0.4524 - accuracy: 0.7860 - val_loss: 0.4239 - val_accuracy: 0.8243\n",
      "Epoch 8/100\n",
      "100/100 - 25s - loss: 0.4368 - accuracy: 0.8013 - val_loss: 0.4307 - val_accuracy: 0.8273\n",
      "Epoch 9/100\n",
      "100/100 - 25s - loss: 0.4350 - accuracy: 0.8080 - val_loss: 0.4204 - val_accuracy: 0.8173\n",
      "Epoch 10/100\n",
      "100/100 - 25s - loss: 0.4589 - accuracy: 0.7963 - val_loss: 0.4167 - val_accuracy: 0.8233\n",
      "Epoch 11/100\n",
      "100/100 - 25s - loss: 0.4396 - accuracy: 0.8070 - val_loss: 0.4158 - val_accuracy: 0.8270\n",
      "Epoch 12/100\n",
      "100/100 - 25s - loss: 0.4600 - accuracy: 0.7997 - val_loss: 0.4168 - val_accuracy: 0.8227\n",
      "Epoch 13/100\n",
      "100/100 - 25s - loss: 0.4511 - accuracy: 0.7900 - val_loss: 0.4281 - val_accuracy: 0.8303\n",
      "Epoch 14/100\n",
      "100/100 - 25s - loss: 0.4293 - accuracy: 0.8130 - val_loss: 0.4629 - val_accuracy: 0.8097\n",
      "Epoch 15/100\n",
      "100/100 - 25s - loss: 0.4431 - accuracy: 0.7993 - val_loss: 0.4117 - val_accuracy: 0.8367\n",
      "Epoch 16/100\n",
      "100/100 - 25s - loss: 0.4357 - accuracy: 0.8047 - val_loss: 0.4580 - val_accuracy: 0.8110\n",
      "Epoch 17/100\n",
      "100/100 - 25s - loss: 0.4338 - accuracy: 0.8140 - val_loss: 0.4539 - val_accuracy: 0.8263\n",
      "Epoch 18/100\n",
      "100/100 - 25s - loss: 0.4580 - accuracy: 0.7967 - val_loss: 0.4184 - val_accuracy: 0.8353\n",
      "Epoch 19/100\n",
      "100/100 - 25s - loss: 0.4435 - accuracy: 0.8017 - val_loss: 0.4488 - val_accuracy: 0.8277\n",
      "Epoch 20/100\n",
      "100/100 - 25s - loss: 0.4266 - accuracy: 0.8157 - val_loss: 0.4593 - val_accuracy: 0.8283\n",
      "Epoch 21/100\n",
      "100/100 - 25s - loss: 0.4664 - accuracy: 0.7947 - val_loss: 0.4225 - val_accuracy: 0.8397\n",
      "Epoch 22/100\n",
      "100/100 - 25s - loss: 0.4381 - accuracy: 0.8023 - val_loss: 0.4128 - val_accuracy: 0.8343\n",
      "Epoch 23/100\n",
      "100/100 - 25s - loss: 0.4266 - accuracy: 0.8033 - val_loss: 0.4141 - val_accuracy: 0.8287\n",
      "Epoch 24/100\n",
      "100/100 - 25s - loss: 0.4527 - accuracy: 0.7970 - val_loss: 0.4427 - val_accuracy: 0.8363\n",
      "Epoch 25/100\n",
      "100/100 - 26s - loss: 0.4183 - accuracy: 0.8153 - val_loss: 0.4262 - val_accuracy: 0.8377\n",
      "Epoch 26/100\n",
      "100/100 - 25s - loss: 0.4165 - accuracy: 0.8197 - val_loss: 0.4418 - val_accuracy: 0.8390\n",
      "Epoch 27/100\n",
      "100/100 - 26s - loss: 0.4417 - accuracy: 0.8107 - val_loss: 0.4247 - val_accuracy: 0.8427\n",
      "Epoch 28/100\n",
      "100/100 - 26s - loss: 0.4020 - accuracy: 0.8287 - val_loss: 0.4241 - val_accuracy: 0.8393\n",
      "Epoch 29/100\n",
      "100/100 - 25s - loss: 0.4236 - accuracy: 0.8300 - val_loss: 0.4881 - val_accuracy: 0.8207\n",
      "Epoch 30/100\n",
      "100/100 - 28s - loss: 0.4179 - accuracy: 0.8145 - val_loss: 0.4481 - val_accuracy: 0.8380\n",
      "Epoch 31/100\n",
      "100/100 - 26s - loss: 0.4261 - accuracy: 0.8213 - val_loss: 0.4519 - val_accuracy: 0.8333\n",
      "Epoch 32/100\n",
      "100/100 - 25s - loss: 0.4333 - accuracy: 0.8103 - val_loss: 0.4176 - val_accuracy: 0.8417\n",
      "Epoch 33/100\n",
      "100/100 - 26s - loss: 0.4244 - accuracy: 0.8213 - val_loss: 0.4567 - val_accuracy: 0.8317\n",
      "Epoch 34/100\n",
      "100/100 - 25s - loss: 0.4373 - accuracy: 0.8177 - val_loss: 0.4393 - val_accuracy: 0.8190\n",
      "Epoch 35/100\n",
      "100/100 - 26s - loss: 0.4286 - accuracy: 0.8157 - val_loss: 0.3994 - val_accuracy: 0.8477\n",
      "Epoch 36/100\n",
      "100/100 - 26s - loss: 0.4107 - accuracy: 0.8247 - val_loss: 0.4361 - val_accuracy: 0.8317\n",
      "Epoch 37/100\n",
      "100/100 - 26s - loss: 0.4134 - accuracy: 0.8263 - val_loss: 0.4946 - val_accuracy: 0.8220\n",
      "Epoch 38/100\n",
      "100/100 - 25s - loss: 0.4222 - accuracy: 0.8200 - val_loss: 0.4368 - val_accuracy: 0.8457\n",
      "Epoch 39/100\n",
      "100/100 - 26s - loss: 0.4023 - accuracy: 0.8300 - val_loss: 0.4192 - val_accuracy: 0.8477\n",
      "Epoch 40/100\n",
      "100/100 - 25s - loss: 0.4089 - accuracy: 0.8218 - val_loss: 0.4430 - val_accuracy: 0.8397\n",
      "Epoch 41/100\n",
      "100/100 - 26s - loss: 0.4089 - accuracy: 0.8203 - val_loss: 0.4405 - val_accuracy: 0.8433\n",
      "Epoch 42/100\n",
      "100/100 - 26s - loss: 0.4003 - accuracy: 0.8313 - val_loss: 0.4328 - val_accuracy: 0.8430\n",
      "Epoch 43/100\n",
      "100/100 - 26s - loss: 0.4305 - accuracy: 0.8140 - val_loss: 0.4446 - val_accuracy: 0.8457\n",
      "Epoch 44/100\n",
      "100/100 - 26s - loss: 0.4232 - accuracy: 0.8203 - val_loss: 0.4421 - val_accuracy: 0.8393\n",
      "Epoch 45/100\n",
      "100/100 - 26s - loss: 0.4100 - accuracy: 0.8240 - val_loss: 0.4305 - val_accuracy: 0.8473\n",
      "Epoch 46/100\n",
      "100/100 - 26s - loss: 0.4189 - accuracy: 0.8250 - val_loss: 0.4303 - val_accuracy: 0.8427\n",
      "Epoch 47/100\n",
      "100/100 - 26s - loss: 0.4284 - accuracy: 0.8190 - val_loss: 0.4365 - val_accuracy: 0.8380\n",
      "Epoch 48/100\n",
      "100/100 - 26s - loss: 0.4264 - accuracy: 0.8260 - val_loss: 0.4159 - val_accuracy: 0.8477\n",
      "Epoch 49/100\n",
      "100/100 - 26s - loss: 0.4181 - accuracy: 0.8270 - val_loss: 0.4831 - val_accuracy: 0.8097\n",
      "Epoch 50/100\n",
      "100/100 - 26s - loss: 0.4277 - accuracy: 0.8190 - val_loss: 0.4165 - val_accuracy: 0.8393\n",
      "Epoch 51/100\n",
      "100/100 - 26s - loss: 0.4247 - accuracy: 0.8230 - val_loss: 0.4200 - val_accuracy: 0.8447\n",
      "Epoch 52/100\n",
      "100/100 - 26s - loss: 0.4073 - accuracy: 0.8287 - val_loss: 0.4163 - val_accuracy: 0.8477\n",
      "Epoch 53/100\n",
      "100/100 - 26s - loss: 0.4092 - accuracy: 0.8267 - val_loss: 0.4396 - val_accuracy: 0.8443\n",
      "Epoch 54/100\n",
      "100/100 - 26s - loss: 0.4060 - accuracy: 0.8245 - val_loss: 0.4559 - val_accuracy: 0.8443\n",
      "Epoch 55/100\n",
      "100/100 - 26s - loss: 0.4169 - accuracy: 0.8307 - val_loss: 0.4194 - val_accuracy: 0.8420\n",
      "Epoch 56/100\n",
      "100/100 - 25s - loss: 0.4338 - accuracy: 0.8217 - val_loss: 0.3931 - val_accuracy: 0.8490\n",
      "Epoch 57/100\n",
      "100/100 - 25s - loss: 0.3886 - accuracy: 0.8379 - val_loss: 0.4097 - val_accuracy: 0.8507\n",
      "Epoch 58/100\n",
      "100/100 - 26s - loss: 0.4114 - accuracy: 0.8247 - val_loss: 0.4182 - val_accuracy: 0.8490\n",
      "Epoch 59/100\n",
      "100/100 - 26s - loss: 0.4138 - accuracy: 0.8280 - val_loss: 0.4190 - val_accuracy: 0.8497\n",
      "Epoch 60/100\n",
      "100/100 - 26s - loss: 0.4020 - accuracy: 0.8300 - val_loss: 0.4240 - val_accuracy: 0.8460\n",
      "Epoch 61/100\n",
      "100/100 - 26s - loss: 0.4281 - accuracy: 0.8233 - val_loss: 0.4008 - val_accuracy: 0.8507\n",
      "Epoch 62/100\n",
      "100/100 - 26s - loss: 0.4020 - accuracy: 0.8342 - val_loss: 0.4338 - val_accuracy: 0.8320\n",
      "Epoch 63/100\n",
      "100/100 - 26s - loss: 0.3985 - accuracy: 0.8403 - val_loss: 0.4388 - val_accuracy: 0.8460\n",
      "Epoch 64/100\n",
      "100/100 - 26s - loss: 0.4118 - accuracy: 0.8310 - val_loss: 0.4174 - val_accuracy: 0.8543\n",
      "Epoch 65/100\n",
      "100/100 - 26s - loss: 0.3948 - accuracy: 0.8340 - val_loss: 0.4349 - val_accuracy: 0.8523\n",
      "Epoch 66/100\n",
      "100/100 - 26s - loss: 0.4122 - accuracy: 0.8317 - val_loss: 0.4383 - val_accuracy: 0.8460\n",
      "Epoch 67/100\n",
      "100/100 - 26s - loss: 0.4049 - accuracy: 0.8393 - val_loss: 0.4525 - val_accuracy: 0.8500\n",
      "Epoch 68/100\n",
      "100/100 - 26s - loss: 0.3956 - accuracy: 0.8370 - val_loss: 0.4383 - val_accuracy: 0.8523\n",
      "Epoch 69/100\n",
      "100/100 - 25s - loss: 0.3976 - accuracy: 0.8262 - val_loss: 0.4406 - val_accuracy: 0.8507\n",
      "Epoch 70/100\n",
      "100/100 - 26s - loss: 0.4173 - accuracy: 0.8257 - val_loss: 0.4241 - val_accuracy: 0.8493\n",
      "Epoch 71/100\n",
      "100/100 - 26s - loss: 0.3955 - accuracy: 0.8360 - val_loss: 0.4100 - val_accuracy: 0.8520\n",
      "Epoch 72/100\n",
      "100/100 - 26s - loss: 0.4058 - accuracy: 0.8403 - val_loss: 0.4286 - val_accuracy: 0.8487\n",
      "Epoch 73/100\n",
      "100/100 - 26s - loss: 0.4079 - accuracy: 0.8267 - val_loss: 0.4222 - val_accuracy: 0.8517\n",
      "Epoch 74/100\n",
      "100/100 - 26s - loss: 0.3988 - accuracy: 0.8393 - val_loss: 0.4419 - val_accuracy: 0.8473\n",
      "Epoch 75/100\n",
      "100/100 - 26s - loss: 0.4223 - accuracy: 0.8280 - val_loss: 0.4287 - val_accuracy: 0.8477\n",
      "Epoch 76/100\n",
      "100/100 - 26s - loss: 0.3948 - accuracy: 0.8339 - val_loss: 0.4306 - val_accuracy: 0.8550\n",
      "Epoch 77/100\n",
      "100/100 - 26s - loss: 0.3992 - accuracy: 0.8327 - val_loss: 0.4055 - val_accuracy: 0.8567\n",
      "Epoch 78/100\n",
      "100/100 - 26s - loss: 0.4038 - accuracy: 0.8382 - val_loss: 0.4048 - val_accuracy: 0.8513\n",
      "Epoch 79/100\n",
      "100/100 - 26s - loss: 0.4023 - accuracy: 0.8333 - val_loss: 0.4276 - val_accuracy: 0.8503\n",
      "Epoch 80/100\n",
      "100/100 - 26s - loss: 0.3902 - accuracy: 0.8363 - val_loss: 0.4307 - val_accuracy: 0.8517\n",
      "Epoch 81/100\n",
      "100/100 - 26s - loss: 0.4039 - accuracy: 0.8303 - val_loss: 0.4089 - val_accuracy: 0.8533\n",
      "Epoch 82/100\n",
      "100/100 - 26s - loss: 0.4024 - accuracy: 0.8327 - val_loss: 0.4130 - val_accuracy: 0.8483\n",
      "Epoch 83/100\n",
      "100/100 - 26s - loss: 0.4106 - accuracy: 0.8283 - val_loss: 0.4139 - val_accuracy: 0.8543\n",
      "Epoch 84/100\n",
      "100/100 - 26s - loss: 0.3893 - accuracy: 0.8367 - val_loss: 0.4416 - val_accuracy: 0.8453\n",
      "Epoch 85/100\n",
      "100/100 - 26s - loss: 0.3934 - accuracy: 0.8287 - val_loss: 0.4257 - val_accuracy: 0.8427\n",
      "Epoch 86/100\n",
      "100/100 - 26s - loss: 0.4088 - accuracy: 0.8297 - val_loss: 0.4187 - val_accuracy: 0.8547\n",
      "Epoch 87/100\n",
      "100/100 - 26s - loss: 0.4079 - accuracy: 0.8307 - val_loss: 0.4324 - val_accuracy: 0.8570\n",
      "Epoch 88/100\n",
      "100/100 - 26s - loss: 0.3975 - accuracy: 0.8397 - val_loss: 0.4231 - val_accuracy: 0.8497\n",
      "Epoch 89/100\n",
      "100/100 - 26s - loss: 0.3994 - accuracy: 0.8310 - val_loss: 0.4382 - val_accuracy: 0.8530\n",
      "Epoch 90/100\n",
      "100/100 - 26s - loss: 0.3940 - accuracy: 0.8399 - val_loss: 0.4354 - val_accuracy: 0.8467\n",
      "Epoch 91/100\n",
      "100/100 - 26s - loss: 0.3990 - accuracy: 0.8279 - val_loss: 0.4372 - val_accuracy: 0.8530\n",
      "Epoch 92/100\n",
      "100/100 - 25s - loss: 0.4071 - accuracy: 0.8238 - val_loss: 0.4157 - val_accuracy: 0.8527\n",
      "Epoch 93/100\n",
      "100/100 - 26s - loss: 0.3876 - accuracy: 0.8477 - val_loss: 0.4712 - val_accuracy: 0.8507\n",
      "Epoch 94/100\n",
      "100/100 - 26s - loss: 0.3933 - accuracy: 0.8333 - val_loss: 0.4586 - val_accuracy: 0.8560\n",
      "Epoch 95/100\n",
      "100/100 - 26s - loss: 0.3759 - accuracy: 0.8373 - val_loss: 0.4464 - val_accuracy: 0.8553\n",
      "Epoch 96/100\n",
      "100/100 - 26s - loss: 0.4164 - accuracy: 0.8417 - val_loss: 0.4270 - val_accuracy: 0.8507\n",
      "Epoch 97/100\n",
      "100/100 - 25s - loss: 0.3700 - accuracy: 0.8473 - val_loss: 0.4495 - val_accuracy: 0.8560\n",
      "Epoch 98/100\n",
      "100/100 - 26s - loss: 0.3856 - accuracy: 0.8493 - val_loss: 0.4389 - val_accuracy: 0.8590\n",
      "Epoch 99/100\n",
      "100/100 - 26s - loss: 0.4131 - accuracy: 0.8300 - val_loss: 0.4440 - val_accuracy: 0.8573\n",
      "Epoch 100/100\n",
      "100/100 - 26s - loss: 0.3910 - accuracy: 0.8467 - val_loss: 0.4451 - val_accuracy: 0.8597\n"
     ]
    }
   ],
   "source": [
    "history = model.fit(\n",
    "            train_generator,\n",
    "            validation_data = validation_generator,\n",
    "            steps_per_epoch = validation_generator.n//validation_generator.batch_size,\n",
    "            epochs = 100,\n",
    "            validation_steps = validation_generator.n//validation_generator.batch_size,\n",
    "            verbose = 2,\n",
    "            callbacks=[my_callback])"
   ]
  },
  {
   "cell_type": "code",
   "execution_count": 21,
   "metadata": {},
   "outputs": [
    {
     "name": "stdout",
     "output_type": "stream",
     "text": [
      "INFO:tensorflow:Assets written to: ../saved_model/SavedModel_100e_place_vgg16_200_moredata/assets\n"
     ]
    }
   ],
   "source": [
    "saved_model_path = \"../saved_model\"\n",
    "\n",
    "model.save(saved_model_path + '/SavedModel_100e_place_vgg16_200_moredata')\n",
    "model.save(saved_model_path + '/model_100e_place_vgg16_200_moredata.h5')\n",
    "\n",
    "# model.save(\"drive/MyDrive/ML_colab/save/beach_mountain/100epochs/SavedModel_100e_94\")"
   ]
  },
  {
   "cell_type": "code",
   "execution_count": 22,
   "metadata": {
    "colab": {
     "base_uri": "https://localhost:8080/",
     "height": 298
    },
    "id": "KbTIzHqXXBkK",
    "outputId": "3cbfc65f-b03c-487c-cbca-d513439bf272"
   },
   "outputs": [
    {
     "data": {
      "image/png": "[encoded data removed]",
      "text/plain": [
       "<Figure size 432x288 with 1 Axes>"
      ]
     },
     "metadata": {
      "needs_background": "light"
     },
     "output_type": "display_data"
    },
    {
     "data": {
      "text/plain": [
       "<Figure size 432x288 with 0 Axes>"
      ]
     },
     "metadata": {},
     "output_type": "display_data"
    }
   ],
   "source": [
    "%matplotlib inline\n",
    "import matplotlib.pyplot as plt\n",
    "acc = history.history['accuracy']\n",
    "val_acc = history.history['val_accuracy']\n",
    "loss = history.history['loss']\n",
    "val_loss = history.history['val_loss']\n",
    "\n",
    "# loss\n",
    "epochs = range(len(loss))\n",
    "plt.plot(epochs, loss, 'r', label='Training loss')\n",
    "plt.plot(epochs, val_loss, 'b', label='Validation loss')\n",
    "plt.title('Training and validation loss')\n",
    "plt.legend(loc=0)\n",
    "plt.figure()\n",
    "plt.show()"
   ]
  },
  {
   "cell_type": "code",
   "execution_count": 23,
   "metadata": {},
   "outputs": [
    {
     "data": {
      "image/png": "[encoded data removed]",
      "text/plain": [
       "<Figure size 432x288 with 1 Axes>"
      ]
     },
     "metadata": {
      "needs_background": "light"
     },
     "output_type": "display_data"
    },
    {
     "data": {
      "text/plain": [
       "<Figure size 432x288 with 0 Axes>"
      ]
     },
     "metadata": {},
     "output_type": "display_data"
    }
   ],
   "source": [
    "# accuracy\n",
    "epochs = range(len(acc))\n",
    "plt.plot(epochs, acc, 'r', label='Training accuracy')\n",
    "plt.plot(epochs, val_acc, 'b', label='Validation accuracy')\n",
    "plt.title('Training and validation accuracy')\n",
    "plt.legend(loc=0)\n",
    "plt.figure()\n",
    "plt.show()"
   ]
  },
  {
   "cell_type": "code",
   "execution_count": 24,
   "metadata": {},
   "outputs": [
    {
     "name": "stdout",
     "output_type": "stream",
     "text": [
      "31/31 [==============================] - 8s 268ms/step - loss: 0.3666 - accuracy: 0.8547\n"
     ]
    },
    {
     "data": {
      "text/plain": [
       "[0.36658287048339844, 0.854682445526123]"
      ]
     },
     "execution_count": 24,
     "metadata": {},
     "output_type": "execute_result"
    }
   ],
   "source": [
    "test_generator.reset()\n",
    "model.evaluate(test_generator)"
   ]
  },
  {
   "cell_type": "code",
   "execution_count": 25,
   "metadata": {},
   "outputs": [
    {
     "data": {
      "text/plain": [
       "{0: 'beach', 1: 'mountain'}"
      ]
     },
     "execution_count": 25,
     "metadata": {},
     "output_type": "execute_result"
    }
   ],
   "source": [
    "# check the labels\n",
    "labels = (train_generator.class_indices)\n",
    "labels = dict((v,k) for k,v in labels.items())\n",
    "labels"
   ]
  },
  {
   "cell_type": "code",
   "execution_count": 26,
   "metadata": {},
   "outputs": [],
   "source": [
    "import numpy as np"
   ]
  },
  {
   "cell_type": "code",
   "execution_count": 27,
   "metadata": {},
   "outputs": [],
   "source": [
    "# test_generator.reset()\n",
    "# pred = model.predict(test_generator, verbose=1)\n",
    "# predicted_class_indices=(pred>0.5).astype(\"int32\")\n",
    "# predictions = [labels[k[0]] for k in predicted_class_indices]\n",
    "# predictions"
   ]
  },
  {
   "cell_type": "code",
   "execution_count": 28,
   "metadata": {},
   "outputs": [
    {
     "data": {
      "text/plain": [
       "(150, 150)"
      ]
     },
     "execution_count": 28,
     "metadata": {},
     "output_type": "execute_result"
    }
   ],
   "source": [
    "im_dim"
   ]
  },
  {
   "cell_type": "code",
   "execution_count": 29,
   "metadata": {},
   "outputs": [],
   "source": [
    "from tensorflow.keras.preprocessing import image"
   ]
  },
  {
   "cell_type": "code",
   "execution_count": 30,
   "metadata": {},
   "outputs": [
    {
     "name": "stdout",
     "output_type": "stream",
     "text": [
      "beach11.jpeg is a beach\n",
      "mountain6.jpg is a mountain\n",
      "mountain9.jpg is a mountain\n",
      "beach9.jpg is a beach\n",
      "beach12.jpeg is a mountain\n",
      "beach8.jpeg is a mountain\n",
      "mountain2.jpg is a mountain\n",
      "mountain5.jpg is a mountain\n",
      "mountain1.jpg is a mountain\n",
      "mountain5.jpeg is a mountain\n",
      "beach1.jpg is a mountain\n",
      "mountain3.jpg is a mountain\n",
      "beach5.jpeg is a beach\n",
      "beach3.jpg is a beach\n",
      "mountain4.png is a beach\n",
      "beach6.jpg is a beach\n",
      "beach10.jpeg is a beach\n",
      "beach4.jpeg is a beach\n",
      "beach2.jpeg is a mountain\n",
      "beach7.jpeg is a mountain\n",
      "mountain8.jpeg is a mountain\n",
      "mountain7.jpg is a mountain\n"
     ]
    }
   ],
   "source": [
    "# predict for an uploaded image\n",
    "file_path = '../dataset/beach_mountain/internet/' # current dir\n",
    "# file_path = '../dataset/beach_mountain/test/beach/' # current dir\n",
    "# file_path = '../dataset/beach_mountain/test/mountain/' # current dir\n",
    "test_files = os.listdir(file_path)\n",
    "\n",
    "for file in test_files:\n",
    "    # predicting images\n",
    "    path=file_path + file\n",
    "    img=image.load_img(path, target_size=im_dim)\n",
    "    x=image.img_to_array(img)\n",
    "    x=x/255\n",
    "    x=np.expand_dims(x, axis=0)\n",
    "    images = np.vstack([x])\n",
    "    \n",
    "    classes = model.predict(images)\n",
    "    classes = (classes > 0.5).astype(\"int32\")[0][0]\n",
    "#     print(classes)\n",
    "\n",
    "    if classes>0:\n",
    "        print(file + \" is a mountain\")\n",
    "    else:\n",
    "        print(file + \" is a beach\")"
   ]
  },
  {
   "cell_type": "code",
   "execution_count": 31,
   "metadata": {},
   "outputs": [
    {
     "name": "stdout",
     "output_type": "stream",
     "text": [
      "mountain1.jpg is a mountain\n"
     ]
    }
   ],
   "source": [
    "# from an image\n",
    "test_file = \"../dataset/beach_mountain/internet/mountain1.jpg\"\n",
    "img = image.load_img(test_file, target_size=im_dim)\n",
    "x = image.img_to_array(img)\n",
    "x = x/255\n",
    "x = np.expand_dims(x, axis=0)\n",
    "images = np.vstack([x])\n",
    "\n",
    "classes = model.predict(images)\n",
    "classes = (classes > 0.5).astype(\"int32\")[0]\n",
    "\n",
    "if classes>0:\n",
    "    print(test_file.split(\"/\")[-1] + \" is a mountain\")\n",
    "else:\n",
    "    print(test_file.split(\"/\")[-1] + \" is a beach\")"
   ]
  },
  {
   "cell_type": "code",
   "execution_count": 32,
   "metadata": {
    "id": "SloSiiRfjLtU"
   },
   "outputs": [],
   "source": [
    "# model.save(\"drive/MyDrive/ML_colab/save/beach_mountain/100epochs/model_100e_94.h5\")"
   ]
  },
  {
   "cell_type": "code",
   "execution_count": 33,
   "metadata": {
    "id": "ecP4VC0Gjcgj"
   },
   "outputs": [],
   "source": [
    "# keep colab alive\n",
    "# while True:pass"
   ]
  }
 ],
 "metadata": {
  "accelerator": "GPU",
  "colab": {
   "collapsed_sections": [],
   "name": "mountain_beach_tf_course_catdog.ipynb",
   "provenance": [],
   "toc_visible": true
  },
  "kernelspec": {
   "display_name": "Python 3",
   "language": "python",
   "name": "python3"
  },
  "language_info": {
   "codemirror_mode": {
    "name": "ipython",
    "version": 3
   },
   "file_extension": ".py",
   "mimetype": "text/x-python",
   "name": "python",
   "nbconvert_exporter": "python",
   "pygments_lexer": "ipython3",
   "version": "3.6.9"
  }
 },
 "nbformat": 4,
 "nbformat_minor": 4
}
