{
 "cells": [
  {
   "cell_type": "markdown",
   "metadata": {
    "id": "rX8mhOLljYeM"
   },
   "source": [
    "##### Copyright 2019 The TensorFlow Authors."
   ]
  },
  {
   "cell_type": "code",
   "execution_count": null,
   "metadata": {
    "cellView": "form",
    "id": "BZSlp3DAjdYf"
   },
   "outputs": [],
   "source": [
    "#@title Licensed under the Apache License, Version 2.0 (the \"License\");\n",
    "# you may not use this file except in compliance with the License.\n",
    "# You may obtain a copy of the License at\n",
    "#\n",
    "# https://www.apache.org/licenses/LICENSE-2.0\n",
    "#\n",
    "# Unless required by applicable law or agreed to in writing, software\n",
    "# distributed under the License is distributed on an \"AS IS\" BASIS,\n",
    "# WITHOUT WARRANTIES OR CONDITIONS OF ANY KIND, either express or implied.\n",
    "# See the License for the specific language governing permissions and\n",
    "# limitations under the License."
   ]
  },
  {
   "cell_type": "code",
   "execution_count": 1,
   "metadata": {
    "colab": {
     "base_uri": "https://localhost:8080/"
    },
    "id": "1xJZ5glPPCRz",
    "outputId": "9b6f2589-f6a5-4115-fa67-9789822012f7"
   },
   "outputs": [
    {
     "name": "stdout",
     "output_type": "stream",
     "text": [
      "--2021-01-10 14:22:21--  https://storage.googleapis.com/mledu-datasets/inception_v3_weights_tf_dim_ordering_tf_kernels_notop.h5\n",
      "Resolving storage.googleapis.com (storage.googleapis.com)... 64.233.167.128, 74.125.133.128, 74.125.140.128, ...\n",
      "Connecting to storage.googleapis.com (storage.googleapis.com)|64.233.167.128|:443... connected.\n",
      "HTTP request sent, awaiting response... 200 OK\n",
      "Length: 87910968 (84M) [application/x-hdf]\n",
      "Saving to: ‘/tmp/inception_v3_weights_tf_dim_ordering_tf_kernels_notop.h5’\n",
      "\n",
      "/tmp/inception_v3_w 100%[===================>]  83.84M  96.0MB/s    in 0.9s    \n",
      "\n",
      "2021-01-10 14:22:22 (96.0 MB/s) - ‘/tmp/inception_v3_weights_tf_dim_ordering_tf_kernels_notop.h5’ saved [87910968/87910968]\n",
      "\n",
      "last layer output shape:  (None, 7, 7, 768)\n"
     ]
    }
   ],
   "source": [
    "import os\n",
    "\n",
    "from tensorflow.keras import layers\n",
    "from tensorflow.keras import Model\n",
    "\n",
    "!wget --no-check-certificate \\\n",
    "    https://storage.googleapis.com/mledu-datasets/inception_v3_weights_tf_dim_ordering_tf_kernels_notop.h5 \\\n",
    "    -O /tmp/inception_v3_weights_tf_dim_ordering_tf_kernels_notop.h5\n",
    "\n",
    "from tensorflow.keras.applications.inception_v3 import InceptionV3\n",
    "\n",
    "local_weights_file = '/tmp/inception_v3_weights_tf_dim_ordering_tf_kernels_notop.h5'\n",
    "\n",
    "pre_trained_model = InceptionV3(input_shape = (150, 150, 3), \n",
    "                                include_top = False, \n",
    "                                weights = None)\n",
    "\n",
    "pre_trained_model.load_weights(local_weights_file)\n",
    "\n",
    "for layer in pre_trained_model.layers:\n",
    "    layer.trainable = False\n",
    "\n",
    "# pre_trained_model.summary()\n",
    "\n",
    "last_layer = pre_trained_model.get_layer('mixed7')\n",
    "print('last layer output shape: ', last_layer.output_shape)\n",
    "last_output = last_layer.output"
   ]
  },
  {
   "cell_type": "code",
   "execution_count": 2,
   "metadata": {
    "id": "BMXb913pbvFg"
   },
   "outputs": [],
   "source": [
    "from tensorflow.keras.optimizers import RMSprop\n",
    "\n",
    "# Flatten the output layer to 1 dimension\n",
    "x = layers.Flatten()(last_output)\n",
    "# Add a fully connected layer with 1,024 hidden units and ReLU activation\n",
    "x = layers.Dense(1024, activation='relu')(x)\n",
    "# Add a dropout rate of 0.2\n",
    "x = layers.Dropout(0.2)(x)                  \n",
    "# Add a final sigmoid layer for classification\n",
    "x = layers.Dense  (1, activation='sigmoid')(x)           \n",
    "\n",
    "model = Model( pre_trained_model.input, x) \n",
    "\n",
    "model.compile(optimizer = RMSprop(lr=0.0001), \n",
    "              loss = 'binary_crossentropy', \n",
    "              metrics = ['accuracy'])\n"
   ]
  },
  {
   "cell_type": "code",
   "execution_count": 3,
   "metadata": {
    "colab": {
     "base_uri": "https://localhost:8080/"
    },
    "id": "O4s8HckqGlnb",
    "outputId": "4c44e918-ea33-4544-f938-3d07aaceefb8"
   },
   "outputs": [
    {
     "name": "stdout",
     "output_type": "stream",
     "text": [
      "--2021-01-10 14:22:49--  https://storage.googleapis.com/mledu-datasets/cats_and_dogs_filtered.zip\n",
      "Resolving storage.googleapis.com (storage.googleapis.com)... 108.177.15.128, 173.194.76.128, 66.102.1.128, ...\n",
      "Connecting to storage.googleapis.com (storage.googleapis.com)|108.177.15.128|:443... connected.\n",
      "HTTP request sent, awaiting response... 200 OK\n",
      "Length: 68606236 (65M) [application/zip]\n",
      "Saving to: ‘/tmp/cats_and_dogs_filtered.zip’\n",
      "\n",
      "/tmp/cats_and_dogs_ 100%[===================>]  65.43M  33.2MB/s    in 2.0s    \n",
      "\n",
      "2021-01-10 14:22:51 (33.2 MB/s) - ‘/tmp/cats_and_dogs_filtered.zip’ saved [68606236/68606236]\n",
      "\n",
      "Found 2000 images belonging to 2 classes.\n",
      "Found 1000 images belonging to 2 classes.\n"
     ]
    }
   ],
   "source": [
    "!wget --no-check-certificate \\\n",
    "        https://storage.googleapis.com/mledu-datasets/cats_and_dogs_filtered.zip \\\n",
    "       -O /tmp/cats_and_dogs_filtered.zip\n",
    "\n",
    "from tensorflow.keras.preprocessing.image import ImageDataGenerator\n",
    "\n",
    "import os\n",
    "import zipfile\n",
    "\n",
    "local_zip = '//tmp/cats_and_dogs_filtered.zip'\n",
    "\n",
    "zip_ref = zipfile.ZipFile(local_zip, 'r')\n",
    "\n",
    "zip_ref.extractall('/tmp')\n",
    "zip_ref.close()\n",
    "\n",
    "# Define our example directories and files\n",
    "base_dir = '/tmp/cats_and_dogs_filtered'\n",
    "\n",
    "train_dir = os.path.join( base_dir, 'train')\n",
    "validation_dir = os.path.join( base_dir, 'validation')\n",
    "\n",
    "\n",
    "train_cats_dir = os.path.join(train_dir, 'cats') # Directory with our training cat pictures\n",
    "train_dogs_dir = os.path.join(train_dir, 'dogs') # Directory with our training dog pictures\n",
    "validation_cats_dir = os.path.join(validation_dir, 'cats') # Directory with our validation cat pictures\n",
    "validation_dogs_dir = os.path.join(validation_dir, 'dogs')# Directory with our validation dog pictures\n",
    "\n",
    "train_cat_fnames = os.listdir(train_cats_dir)\n",
    "train_dog_fnames = os.listdir(train_dogs_dir)\n",
    "\n",
    "# Add our data-augmentation parameters to ImageDataGenerator\n",
    "train_datagen = ImageDataGenerator(rescale = 1./255.,\n",
    "                                   rotation_range = 40,\n",
    "                                   width_shift_range = 0.2,\n",
    "                                   height_shift_range = 0.2,\n",
    "                                   shear_range = 0.2,\n",
    "                                   zoom_range = 0.2,\n",
    "                                   horizontal_flip = True)\n",
    "\n",
    "# Note that the validation data should not be augmented!\n",
    "test_datagen = ImageDataGenerator( rescale = 1.0/255. )\n",
    "\n",
    "# Flow training images in batches of 20 using train_datagen generator\n",
    "train_generator = train_datagen.flow_from_directory(train_dir,\n",
    "                                                    batch_size = 20,\n",
    "                                                    class_mode = 'binary', \n",
    "                                                    target_size = (150, 150))     \n",
    "\n",
    "# Flow validation images in batches of 20 using test_datagen generator\n",
    "validation_generator =  test_datagen.flow_from_directory( validation_dir,\n",
    "                                                          batch_size  = 20,\n",
    "                                                          class_mode  = 'binary', \n",
    "                                                          target_size = (150, 150))"
   ]
  },
  {
   "cell_type": "code",
   "execution_count": 5,
   "metadata": {
    "colab": {
     "base_uri": "https://localhost:8080/"
    },
    "id": "VrQCCRq3rsPX",
    "outputId": "26f508db-dc40-439a-dfa5-3830ae196912"
   },
   "outputs": [
    {
     "name": "stdout",
     "output_type": "stream",
     "text": [
      "Mounted at /content/drive\n"
     ]
    }
   ],
   "source": [
    "from google.colab import drive\n",
    "drive.mount('/content/drive')"
   ]
  },
  {
   "cell_type": "code",
   "execution_count": 6,
   "metadata": {
    "id": "YYCLYg_5r1yJ"
   },
   "outputs": [],
   "source": [
    "import tensorflow as tf"
   ]
  },
  {
   "cell_type": "code",
   "execution_count": 7,
   "metadata": {
    "id": "yi0hR7EXrjVd"
   },
   "outputs": [],
   "source": [
    "# Define a Callback class that stops training once accuracy reaches 97.0%\n",
    "class myCallback(tf.keras.callbacks.Callback):\n",
    "    def on_epoch_end(self, epoch, logs={}):\n",
    "        if(logs.get('accuracy') is not None and logs.get('accuracy') > 0.96) :\n",
    "            print(\"\\nReached 97.0% accuracy so cancelling training!\")\n",
    "            self.model.stop_training = True\n",
    "\n",
    "my_callback = myCallback()"
   ]
  },
  {
   "cell_type": "code",
   "execution_count": 9,
   "metadata": {
    "id": "_U8bk0y1sCKv"
   },
   "outputs": [],
   "source": [
    "# Save checkpoints during training\n",
    "# ref: https://www.tensorflow.org/tutorials/keras/save_and_load#save_checkpoints_during_training\n",
    "# checkpoint_path = \"../checkpoint/cp-{epoch:04d}.ckpt\"\n",
    "checkpoint_path = \"drive/MyDrive/ML_colab/cat_dog/cp-{epoch:04d}.ckpt\"\n",
    "checkpoint_dir = os.path.dirname(checkpoint_path)\n",
    "cp_callback = tf.keras.callbacks.ModelCheckpoint(\n",
    "    filepath=checkpoint_path,\n",
    "    save_weights_only=True,\n",
    "    save_freq=5*20,\n",
    "    verbose=1)"
   ]
  },
  {
   "cell_type": "code",
   "execution_count": 10,
   "metadata": {
    "colab": {
     "base_uri": "https://localhost:8080/"
    },
    "id": "Blhq2MAUeyGA",
    "outputId": "e239d1e4-a140-4695-b18b-5e9608e5cc1e"
   },
   "outputs": [
    {
     "name": "stdout",
     "output_type": "stream",
     "text": [
      "Epoch 1/20\n",
      "\n",
      "Epoch 00001: saving model to drive/MyDrive/ML_colab/cat_dog/cp-0001.ckpt\n",
      "100/100 - 36s - loss: 0.3550 - accuracy: 0.8650 - val_loss: 0.1074 - val_accuracy: 0.9590\n",
      "Epoch 2/20\n",
      "\n",
      "Epoch 00002: saving model to drive/MyDrive/ML_colab/cat_dog/cp-0002.ckpt\n",
      "100/100 - 26s - loss: 0.2196 - accuracy: 0.9175 - val_loss: 0.1154 - val_accuracy: 0.9600\n",
      "Epoch 3/20\n",
      "\n",
      "Epoch 00003: saving model to drive/MyDrive/ML_colab/cat_dog/cp-0003.ckpt\n",
      "100/100 - 26s - loss: 0.1950 - accuracy: 0.9220 - val_loss: 0.1921 - val_accuracy: 0.9410\n",
      "Epoch 4/20\n",
      "\n",
      "Epoch 00004: saving model to drive/MyDrive/ML_colab/cat_dog/cp-0004.ckpt\n",
      "100/100 - 26s - loss: 0.1979 - accuracy: 0.9295 - val_loss: 0.1910 - val_accuracy: 0.9460\n",
      "Epoch 5/20\n",
      "\n",
      "Epoch 00005: saving model to drive/MyDrive/ML_colab/cat_dog/cp-0005.ckpt\n",
      "100/100 - 27s - loss: 0.1824 - accuracy: 0.9310 - val_loss: 0.1119 - val_accuracy: 0.9650\n",
      "Epoch 6/20\n",
      "\n",
      "Epoch 00006: saving model to drive/MyDrive/ML_colab/cat_dog/cp-0006.ckpt\n",
      "100/100 - 26s - loss: 0.1732 - accuracy: 0.9430 - val_loss: 0.1040 - val_accuracy: 0.9700\n",
      "Epoch 7/20\n",
      "\n",
      "Epoch 00007: saving model to drive/MyDrive/ML_colab/cat_dog/cp-0007.ckpt\n",
      "100/100 - 27s - loss: 0.1593 - accuracy: 0.9445 - val_loss: 0.1159 - val_accuracy: 0.9660\n",
      "Epoch 8/20\n",
      "\n",
      "Epoch 00008: saving model to drive/MyDrive/ML_colab/cat_dog/cp-0008.ckpt\n",
      "100/100 - 26s - loss: 0.1588 - accuracy: 0.9505 - val_loss: 0.0935 - val_accuracy: 0.9730\n",
      "Epoch 9/20\n",
      "\n",
      "Epoch 00009: saving model to drive/MyDrive/ML_colab/cat_dog/cp-0009.ckpt\n",
      "100/100 - 25s - loss: 0.1447 - accuracy: 0.9545 - val_loss: 0.1132 - val_accuracy: 0.9690\n",
      "Epoch 10/20\n",
      "\n",
      "Epoch 00010: saving model to drive/MyDrive/ML_colab/cat_dog/cp-0010.ckpt\n",
      "100/100 - 25s - loss: 0.2060 - accuracy: 0.9395 - val_loss: 0.1128 - val_accuracy: 0.9610\n",
      "Epoch 11/20\n",
      "\n",
      "Epoch 00011: saving model to drive/MyDrive/ML_colab/cat_dog/cp-0011.ckpt\n",
      "100/100 - 26s - loss: 0.1492 - accuracy: 0.9480 - val_loss: 0.1319 - val_accuracy: 0.9610\n",
      "Epoch 12/20\n",
      "\n",
      "Epoch 00012: saving model to drive/MyDrive/ML_colab/cat_dog/cp-0012.ckpt\n",
      "100/100 - 25s - loss: 0.1402 - accuracy: 0.9490 - val_loss: 0.1148 - val_accuracy: 0.9640\n",
      "Epoch 13/20\n",
      "\n",
      "Epoch 00013: saving model to drive/MyDrive/ML_colab/cat_dog/cp-0013.ckpt\n",
      "100/100 - 26s - loss: 0.1708 - accuracy: 0.9400 - val_loss: 0.1451 - val_accuracy: 0.9570\n",
      "Epoch 14/20\n",
      "\n",
      "Epoch 00014: saving model to drive/MyDrive/ML_colab/cat_dog/cp-0014.ckpt\n",
      "100/100 - 26s - loss: 0.1398 - accuracy: 0.9485 - val_loss: 0.1882 - val_accuracy: 0.9490\n",
      "Epoch 15/20\n",
      "\n",
      "Epoch 00015: saving model to drive/MyDrive/ML_colab/cat_dog/cp-0015.ckpt\n",
      "100/100 - 25s - loss: 0.1232 - accuracy: 0.9570 - val_loss: 0.1257 - val_accuracy: 0.9630\n",
      "Epoch 16/20\n",
      "\n",
      "Epoch 00016: saving model to drive/MyDrive/ML_colab/cat_dog/cp-0016.ckpt\n",
      "100/100 - 26s - loss: 0.1317 - accuracy: 0.9530 - val_loss: 0.1257 - val_accuracy: 0.9690\n",
      "Epoch 17/20\n",
      "\n",
      "Epoch 00017: saving model to drive/MyDrive/ML_colab/cat_dog/cp-0017.ckpt\n",
      "100/100 - 26s - loss: 0.1488 - accuracy: 0.9520 - val_loss: 0.1227 - val_accuracy: 0.9590\n",
      "Epoch 18/20\n",
      "\n",
      "Epoch 00018: saving model to drive/MyDrive/ML_colab/cat_dog/cp-0018.ckpt\n",
      "100/100 - 26s - loss: 0.1357 - accuracy: 0.9555 - val_loss: 0.1309 - val_accuracy: 0.9600\n",
      "Epoch 19/20\n",
      "\n",
      "Epoch 00019: saving model to drive/MyDrive/ML_colab/cat_dog/cp-0019.ckpt\n",
      "100/100 - 27s - loss: 0.1056 - accuracy: 0.9640 - val_loss: 0.1460 - val_accuracy: 0.9610\n",
      "Epoch 20/20\n",
      "\n",
      "Epoch 00020: saving model to drive/MyDrive/ML_colab/cat_dog/cp-0020.ckpt\n",
      "100/100 - 27s - loss: 0.1290 - accuracy: 0.9590 - val_loss: 0.1098 - val_accuracy: 0.9710\n"
     ]
    }
   ],
   "source": [
    "history = model.fit(\n",
    "            train_generator,\n",
    "            validation_data = validation_generator,\n",
    "            steps_per_epoch = 100,\n",
    "            epochs = 20,\n",
    "            validation_steps = 50,\n",
    "            verbose = 2,\n",
    "            callbacks=[my_callback, cp_callback])"
   ]
  },
  {
   "cell_type": "code",
   "execution_count": 12,
   "metadata": {
    "colab": {
     "base_uri": "https://localhost:8080/"
    },
    "id": "h-8uBpb3udnK",
    "outputId": "519f7e82-e5d9-4a0d-d645-fcba93b509fa"
   },
   "outputs": [
    {
     "name": "stdout",
     "output_type": "stream",
     "text": [
      "INFO:tensorflow:Assets written to: drive/MyDrive/ML_colab/cat_dog/assets\n"
     ]
    }
   ],
   "source": [
    "saved_model_path = \"drive/MyDrive/ML_colab/cat_dog\"\n",
    "model.save(saved_model_path)"
   ]
  },
  {
   "cell_type": "code",
   "execution_count": 11,
   "metadata": {
    "colab": {
     "base_uri": "https://localhost:8080/",
     "height": 298
    },
    "id": "C2Fp6Se9rKuL",
    "outputId": "5635e601-c92e-40fb-85f5-8cda99e3a641"
   },
   "outputs": [
    {
     "data": {
      "image/png": "[encoded data removed]",
      "text/plain": [
       "<Figure size 432x288 with 1 Axes>"
      ]
     },
     "metadata": {
      "needs_background": "light",
      "tags": []
     },
     "output_type": "display_data"
    },
    {
     "data": {
      "text/plain": [
       "<Figure size 432x288 with 0 Axes>"
      ]
     },
     "metadata": {
      "tags": []
     },
     "output_type": "display_data"
    }
   ],
   "source": [
    "import matplotlib.pyplot as plt\n",
    "acc = history.history['accuracy']\n",
    "val_acc = history.history['val_accuracy']\n",
    "loss = history.history['loss']\n",
    "val_loss = history.history['val_loss']\n",
    "\n",
    "epochs = range(len(acc))\n",
    "\n",
    "plt.plot(epochs, acc, 'r', label='Training accuracy')\n",
    "plt.plot(epochs, val_acc, 'b', label='Validation accuracy')\n",
    "plt.title('Training and validation accuracy')\n",
    "plt.legend(loc=0)\n",
    "plt.figure()\n",
    "\n",
    "\n",
    "plt.show()"
   ]
  },
  {
   "cell_type": "code",
   "execution_count": null,
   "metadata": {
    "id": "YAGa-GyUuYIB"
   },
   "outputs": [],
   "source": []
  }
 ],
 "metadata": {
  "accelerator": "GPU",
  "colab": {
   "collapsed_sections": [],
   "name": "notebook_1_Coding transfer learning from the inception mode.ipynb",
   "provenance": [],
   "toc_visible": true
  },
  "kernelspec": {
   "display_name": "Python 3",
   "language": "python",
   "name": "python3"
  },
  "language_info": {
   "codemirror_mode": {
    "name": "ipython",
    "version": 3
   },
   "file_extension": ".py",
   "mimetype": "text/x-python",
   "name": "python",
   "nbconvert_exporter": "python",
   "pygments_lexer": "ipython3",
   "version": "3.6.9"
  }
 },
 "nbformat": 4,
 "nbformat_minor": 4
}
