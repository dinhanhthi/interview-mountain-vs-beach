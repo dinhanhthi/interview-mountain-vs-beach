{
  "nbformat": 4,
  "nbformat_minor": 0,
  "metadata": {
    "accelerator": "GPU",
    "colab": {
      "name": "cat_dog_transferlearning_tf_course.ipynb",
      "provenance": [],
      "collapsed_sections": [],
      "toc_visible": true
    },
    "kernelspec": {
      "display_name": "Python 3",
      "name": "python3"
    }
  },
  "cells": [
    {
      "cell_type": "markdown",
      "metadata": {
        "id": "rX8mhOLljYeM"
      },
      "source": [
        "##### Copyright 2019 The TensorFlow Authors."
      ]
    },
    {
      "cell_type": "code",
      "metadata": {
        "cellView": "form",
        "id": "BZSlp3DAjdYf"
      },
      "source": [
        "#@title Licensed under the Apache License, Version 2.0 (the \"License\");\n",
        "# you may not use this file except in compliance with the License.\n",
        "# You may obtain a copy of the License at\n",
        "#\n",
        "# https://www.apache.org/licenses/LICENSE-2.0\n",
        "#\n",
        "# Unless required by applicable law or agreed to in writing, software\n",
        "# distributed under the License is distributed on an \"AS IS\" BASIS,\n",
        "# WITHOUT WARRANTIES OR CONDITIONS OF ANY KIND, either express or implied.\n",
        "# See the License for the specific language governing permissions and\n",
        "# limitations under the License."
      ],
      "execution_count": null,
      "outputs": []
    },
    {
      "cell_type": "code",
      "metadata": {
        "id": "1xJZ5glPPCRz",
        "colab": {
          "base_uri": "https://localhost:8080/"
        },
        "outputId": "88ea86f6-1d8e-4132-ec15-23acacc349a5"
      },
      "source": [
        "import os\n",
        "\n",
        "from tensorflow.keras import layers\n",
        "from tensorflow.keras import Model\n",
        "!wget --no-check-certificate \\\n",
        "    https://storage.googleapis.com/mledu-datasets/inception_v3_weights_tf_dim_ordering_tf_kernels_notop.h5 \\\n",
        "    -O /tmp/inception_v3_weights_tf_dim_ordering_tf_kernels_notop.h5\n",
        "  \n",
        "from tensorflow.keras.applications.inception_v3 import InceptionV3\n",
        "\n",
        "local_weights_file = '/tmp/inception_v3_weights_tf_dim_ordering_tf_kernels_notop.h5'\n",
        "\n",
        "pre_trained_model = InceptionV3(input_shape = (150, 150, 3), \n",
        "                                include_top = False, \n",
        "                                weights = None)\n",
        "\n",
        "pre_trained_model.load_weights(local_weights_file)\n",
        "\n",
        "for layer in pre_trained_model.layers:\n",
        "  layer.trainable = False\n",
        "  \n",
        "# pre_trained_model.summary()\n",
        "\n",
        "last_layer = pre_trained_model.get_layer('mixed7')\n",
        "print('last layer output shape: ', last_layer.output_shape)\n",
        "last_output = last_layer.output"
      ],
      "execution_count": 33,
      "outputs": [
        {
          "output_type": "stream",
          "text": [
            "--2021-01-11 17:51:32--  https://storage.googleapis.com/mledu-datasets/inception_v3_weights_tf_dim_ordering_tf_kernels_notop.h5\n",
            "Resolving storage.googleapis.com (storage.googleapis.com)... 74.125.20.128, 74.125.195.128, 74.125.142.128, ...\n",
            "Connecting to storage.googleapis.com (storage.googleapis.com)|74.125.20.128|:443... connected.\n",
            "HTTP request sent, awaiting response... 200 OK\n",
            "Length: 87910968 (84M) [application/x-hdf]\n",
            "Saving to: ‘/tmp/inception_v3_weights_tf_dim_ordering_tf_kernels_notop.h5’\n",
            "\n",
            "/tmp/inception_v3_w 100%[===================>]  83.84M   206MB/s    in 0.4s    \n",
            "\n",
            "2021-01-11 17:51:32 (206 MB/s) - ‘/tmp/inception_v3_weights_tf_dim_ordering_tf_kernels_notop.h5’ saved [87910968/87910968]\n",
            "\n",
            "last layer output shape:  (None, 7, 7, 768)\n"
          ],
          "name": "stdout"
        }
      ]
    },
    {
      "cell_type": "code",
      "metadata": {
        "id": "BMXb913pbvFg"
      },
      "source": [
        "from tensorflow.keras.optimizers import RMSprop\n",
        "\n",
        "# Flatten the output layer to 1 dimension\n",
        "x = layers.Flatten()(last_output)\n",
        "# Add a fully connected layer with 1,024 hidden units and ReLU activation\n",
        "x = layers.Dense(1024, activation='relu')(x)\n",
        "# Add a dropout rate of 0.2\n",
        "x = layers.Dropout(0.2)(x)                  \n",
        "# Add a final sigmoid layer for classification\n",
        "x = layers.Dense  (1, activation='sigmoid')(x)           \n",
        "\n",
        "model = Model( pre_trained_model.input, x) \n",
        "\n",
        "model.compile(optimizer = RMSprop(lr=0.0001), \n",
        "              loss = 'binary_crossentropy', \n",
        "              metrics = ['accuracy'])\n"
      ],
      "execution_count": 34,
      "outputs": []
    },
    {
      "cell_type": "code",
      "metadata": {
        "id": "O4s8HckqGlnb",
        "colab": {
          "base_uri": "https://localhost:8080/"
        },
        "outputId": "a50c2438-6fb7-4d12-ad05-df950338ea06"
      },
      "source": [
        "!wget --no-check-certificate \\\n",
        "        https://storage.googleapis.com/mledu-datasets/cats_and_dogs_filtered.zip \\\n",
        "       -O /tmp/cats_and_dogs_filtered.zip\n",
        "\n",
        "from tensorflow.keras.preprocessing.image import ImageDataGenerator\n",
        "\n",
        "import os\n",
        "import zipfile\n",
        "\n",
        "local_zip = '//tmp/cats_and_dogs_filtered.zip'\n",
        "\n",
        "zip_ref = zipfile.ZipFile(local_zip, 'r')\n",
        "\n",
        "zip_ref.extractall('/tmp')\n",
        "zip_ref.close()\n",
        "\n",
        "# Define our example directories and files\n",
        "base_dir = '/tmp/cats_and_dogs_filtered'\n",
        "\n",
        "train_dir = os.path.join( base_dir, 'train')\n",
        "validation_dir = os.path.join( base_dir, 'validation')\n",
        "\n",
        "\n",
        "train_cats_dir = os.path.join(train_dir, 'cats') # Directory with our training cat pictures\n",
        "train_dogs_dir = os.path.join(train_dir, 'dogs') # Directory with our training dog pictures\n",
        "validation_cats_dir = os.path.join(validation_dir, 'cats') # Directory with our validation cat pictures\n",
        "validation_dogs_dir = os.path.join(validation_dir, 'dogs')# Directory with our validation dog pictures\n",
        "\n",
        "train_cat_fnames = os.listdir(train_cats_dir)\n",
        "train_dog_fnames = os.listdir(train_dogs_dir)\n",
        "\n",
        "# Add our data-augmentation parameters to ImageDataGenerator\n",
        "train_datagen = ImageDataGenerator(rescale = 1./255.,\n",
        "                                   rotation_range = 40,\n",
        "                                   width_shift_range = 0.2,\n",
        "                                   height_shift_range = 0.2,\n",
        "                                   shear_range = 0.2,\n",
        "                                   zoom_range = 0.2,\n",
        "                                   horizontal_flip = True)\n",
        "\n",
        "# Note that the validation data should not be augmented!\n",
        "test_datagen = ImageDataGenerator( rescale = 1.0/255. )\n",
        "\n",
        "# Flow training images in batches of 20 using train_datagen generator\n",
        "train_generator = train_datagen.flow_from_directory(train_dir,\n",
        "                                                    batch_size = 20,\n",
        "                                                    class_mode = 'binary', \n",
        "                                                    target_size = (150, 150))     \n",
        "\n",
        "# Flow validation images in batches of 20 using test_datagen generator\n",
        "validation_generator =  test_datagen.flow_from_directory( validation_dir,\n",
        "                                                          batch_size  = 20,\n",
        "                                                          class_mode  = 'binary', \n",
        "                                                          target_size = (150, 150))"
      ],
      "execution_count": 35,
      "outputs": [
        {
          "output_type": "stream",
          "text": [
            "--2021-01-11 17:51:42--  https://storage.googleapis.com/mledu-datasets/cats_and_dogs_filtered.zip\n",
            "Resolving storage.googleapis.com (storage.googleapis.com)... 74.125.195.128, 74.125.142.128, 173.194.202.128, ...\n",
            "Connecting to storage.googleapis.com (storage.googleapis.com)|74.125.195.128|:443... connected.\n",
            "HTTP request sent, awaiting response... 200 OK\n",
            "Length: 68606236 (65M) [application/zip]\n",
            "Saving to: ‘/tmp/cats_and_dogs_filtered.zip’\n",
            "\n",
            "/tmp/cats_and_dogs_ 100%[===================>]  65.43M  94.2MB/s    in 0.7s    \n",
            "\n",
            "2021-01-11 17:51:43 (94.2 MB/s) - ‘/tmp/cats_and_dogs_filtered.zip’ saved [68606236/68606236]\n",
            "\n",
            "Found 2000 images belonging to 2 classes.\n",
            "Found 1000 images belonging to 2 classes.\n"
          ],
          "name": "stdout"
        }
      ]
    },
    {
      "cell_type": "code",
      "metadata": {
        "colab": {
          "base_uri": "https://localhost:8080/"
        },
        "id": "VrQCCRq3rsPX",
        "outputId": "d097ab78-d542-427d-b0af-2dbfefecbd35"
      },
      "source": [
        "from google.colab import drive\n",
        "drive.mount('/content/drive')"
      ],
      "execution_count": 36,
      "outputs": [
        {
          "output_type": "stream",
          "text": [
            "Drive already mounted at /content/drive; to attempt to forcibly remount, call drive.mount(\"/content/drive\", force_remount=True).\n"
          ],
          "name": "stdout"
        }
      ]
    },
    {
      "cell_type": "code",
      "metadata": {
        "id": "K92VI7vIlCFk"
      },
      "source": [
        "# bat chuoc cai nay: https://github.com/wtfleming/jupyter-notebooks-public/blob/master/dogs-vs-cats/dogs-vs-cats-part-2.ipynb\n",
        "# 98% nhung co ve overfitting\n",
        "\n",
        "from tensorflow.keras import layers, models, optimizers\n",
        "from tensorflow.keras.applications import VGG16\n",
        "\n",
        "conv_base = VGG16(weights='imagenet',\n",
        "                  include_top=False,\n",
        "                  input_shape=(224, 224, 3))\n",
        "\n",
        "conv_base.trainable = True\n",
        "\n",
        "set_trainable = False\n",
        "for layer in conv_base.layers:\n",
        "    if layer.name == 'block5_conv1':\n",
        "        set_trainable = True\n",
        "    if set_trainable:\n",
        "        layer.trainable = True\n",
        "    else:\n",
        "        layer.trainable = False"
      ],
      "execution_count": 42,
      "outputs": []
    },
    {
      "cell_type": "code",
      "metadata": {
        "id": "T2ONunV-mDwF"
      },
      "source": [
        "from tensorflow.keras.applications.vgg16 import preprocess_input\n",
        "from tensorflow.keras.preprocessing.image import ImageDataGenerator\n",
        "\n",
        "train_datagen = ImageDataGenerator(preprocessing_function=preprocess_input)\n",
        "test_datagen = ImageDataGenerator(preprocessing_function=preprocess_input)"
      ],
      "execution_count": 45,
      "outputs": []
    },
    {
      "cell_type": "code",
      "metadata": {
        "colab": {
          "base_uri": "https://localhost:8080/"
        },
        "id": "6yzK-dHel1-B",
        "outputId": "f5af728c-c85f-4931-db7f-3ee020761a0d"
      },
      "source": [
        "train_generator = train_datagen.flow_from_directory(\n",
        "    train_dir,\n",
        "    target_size=(224, 224), # resize all images to 150 x 150\n",
        "    batch_size=50,\n",
        "    class_mode='binary') # because we use binary_crossentropy loss we need binary labels\n",
        "\n",
        "validation_generator = test_datagen.flow_from_directory(\n",
        "    validation_dir,\n",
        "    target_size=(224, 224), # resize all images to 150 x 150\n",
        "    batch_size=50,\n",
        "    class_mode='binary')"
      ],
      "execution_count": 46,
      "outputs": [
        {
          "output_type": "stream",
          "text": [
            "Found 2000 images belonging to 2 classes.\n",
            "Found 1000 images belonging to 2 classes.\n"
          ],
          "name": "stdout"
        }
      ]
    },
    {
      "cell_type": "code",
      "metadata": {
        "id": "RAclE8vglCjr"
      },
      "source": [
        "model = models.Sequential()\n",
        "model.add(conv_base)\n",
        "model.add(layers.Flatten())\n",
        "model.add(layers.Dropout(0.5))\n",
        "model.add(layers.Dense(256, activation='relu'))\n",
        "model.add(layers.Dense(1, activation='sigmoid'))\n",
        "\n",
        "model.compile(loss='binary_crossentropy',\n",
        "              optimizer=optimizers.RMSprop(lr=1e-5),\n",
        "              metrics=['acc'])"
      ],
      "execution_count": 47,
      "outputs": []
    },
    {
      "cell_type": "code",
      "metadata": {
        "colab": {
          "base_uri": "https://localhost:8080/"
        },
        "id": "4ZRvc3s1lCox",
        "outputId": "33deb4b8-ec1d-403f-d9de-32ac85dba7ad"
      },
      "source": [
        "history = model.fit_generator(\n",
        "    train_generator,\n",
        "    steps_per_epoch=40,\n",
        "    epochs=30,\n",
        "    validation_data=validation_generator,\n",
        "    validation_steps=20) "
      ],
      "execution_count": 48,
      "outputs": [
        {
          "output_type": "stream",
          "text": [
            "/usr/local/lib/python3.6/dist-packages/tensorflow/python/keras/engine/training.py:1844: UserWarning: `Model.fit_generator` is deprecated and will be removed in a future version. Please use `Model.fit`, which supports generators.\n",
            "  warnings.warn('`Model.fit_generator` is deprecated and '\n"
          ],
          "name": "stderr"
        },
        {
          "output_type": "stream",
          "text": [
            "Epoch 1/30\n",
            "40/40 [==============================] - 18s 380ms/step - loss: 4.2725 - acc: 0.7034 - val_loss: 0.4088 - val_acc: 0.9300\n",
            "Epoch 2/30\n",
            "40/40 [==============================] - 15s 374ms/step - loss: 0.6578 - acc: 0.8976 - val_loss: 0.2376 - val_acc: 0.9540\n",
            "Epoch 3/30\n",
            "40/40 [==============================] - 15s 376ms/step - loss: 0.3225 - acc: 0.9405 - val_loss: 0.2528 - val_acc: 0.9540\n",
            "Epoch 4/30\n",
            "40/40 [==============================] - 15s 382ms/step - loss: 0.2283 - acc: 0.9722 - val_loss: 0.1696 - val_acc: 0.9660\n",
            "Epoch 5/30\n",
            "40/40 [==============================] - 15s 381ms/step - loss: 0.0864 - acc: 0.9807 - val_loss: 0.1335 - val_acc: 0.9690\n",
            "Epoch 6/30\n",
            "40/40 [==============================] - 15s 377ms/step - loss: 0.0590 - acc: 0.9890 - val_loss: 0.1228 - val_acc: 0.9700\n",
            "Epoch 7/30\n",
            "40/40 [==============================] - 15s 374ms/step - loss: 0.0300 - acc: 0.9905 - val_loss: 0.2070 - val_acc: 0.9670\n",
            "Epoch 8/30\n",
            "40/40 [==============================] - 15s 376ms/step - loss: 0.1013 - acc: 0.9846 - val_loss: 0.1521 - val_acc: 0.9680\n",
            "Epoch 9/30\n",
            "40/40 [==============================] - 15s 376ms/step - loss: 0.0239 - acc: 0.9928 - val_loss: 0.1087 - val_acc: 0.9770\n",
            "Epoch 10/30\n",
            "40/40 [==============================] - 15s 374ms/step - loss: 0.0172 - acc: 0.9964 - val_loss: 0.1100 - val_acc: 0.9800\n",
            "Epoch 11/30\n",
            "40/40 [==============================] - 15s 374ms/step - loss: 0.0364 - acc: 0.9959 - val_loss: 0.1323 - val_acc: 0.9760\n",
            "Epoch 12/30\n",
            "40/40 [==============================] - 15s 374ms/step - loss: 0.0293 - acc: 0.9942 - val_loss: 0.1227 - val_acc: 0.9770\n",
            "Epoch 13/30\n",
            "40/40 [==============================] - 15s 374ms/step - loss: 1.4935e-04 - acc: 1.0000 - val_loss: 0.1121 - val_acc: 0.9800\n",
            "Epoch 14/30\n",
            "40/40 [==============================] - 15s 374ms/step - loss: 0.0056 - acc: 0.9989 - val_loss: 0.1089 - val_acc: 0.9800\n",
            "Epoch 15/30\n",
            "40/40 [==============================] - 15s 375ms/step - loss: 0.0019 - acc: 0.9994 - val_loss: 0.1353 - val_acc: 0.9780\n",
            "Epoch 16/30\n",
            "40/40 [==============================] - 15s 374ms/step - loss: 0.0153 - acc: 0.9971 - val_loss: 0.1058 - val_acc: 0.9810\n",
            "Epoch 17/30\n",
            "40/40 [==============================] - 15s 374ms/step - loss: 0.0031 - acc: 0.9986 - val_loss: 0.1233 - val_acc: 0.9790\n",
            "Epoch 18/30\n",
            "40/40 [==============================] - 15s 374ms/step - loss: 0.0061 - acc: 0.9983 - val_loss: 0.1259 - val_acc: 0.9810\n",
            "Epoch 19/30\n",
            "40/40 [==============================] - 15s 373ms/step - loss: 0.0035 - acc: 0.9986 - val_loss: 0.1199 - val_acc: 0.9800\n",
            "Epoch 20/30\n",
            "40/40 [==============================] - 15s 373ms/step - loss: 0.0055 - acc: 0.9998 - val_loss: 0.1181 - val_acc: 0.9800\n",
            "Epoch 21/30\n",
            "40/40 [==============================] - 15s 375ms/step - loss: 1.5278e-04 - acc: 1.0000 - val_loss: 0.1122 - val_acc: 0.9780\n",
            "Epoch 22/30\n",
            "40/40 [==============================] - 15s 374ms/step - loss: 0.0078 - acc: 0.9984 - val_loss: 0.1311 - val_acc: 0.9790\n",
            "Epoch 23/30\n",
            "40/40 [==============================] - 15s 373ms/step - loss: 0.0012 - acc: 0.9997 - val_loss: 0.1254 - val_acc: 0.9780\n",
            "Epoch 24/30\n",
            "40/40 [==============================] - 15s 373ms/step - loss: 9.5797e-04 - acc: 0.9997 - val_loss: 0.1084 - val_acc: 0.9790\n",
            "Epoch 25/30\n",
            "40/40 [==============================] - 15s 373ms/step - loss: 0.0058 - acc: 0.9987 - val_loss: 0.1498 - val_acc: 0.9760\n",
            "Epoch 26/30\n",
            "40/40 [==============================] - 15s 377ms/step - loss: 1.1356e-04 - acc: 1.0000 - val_loss: 0.1135 - val_acc: 0.9780\n",
            "Epoch 27/30\n",
            "40/40 [==============================] - 15s 374ms/step - loss: 7.1198e-04 - acc: 1.0000 - val_loss: 0.1099 - val_acc: 0.9790\n",
            "Epoch 28/30\n",
            "40/40 [==============================] - 15s 374ms/step - loss: 0.0053 - acc: 0.9970 - val_loss: 0.1029 - val_acc: 0.9800\n",
            "Epoch 29/30\n",
            "40/40 [==============================] - 15s 373ms/step - loss: 0.0096 - acc: 0.9994 - val_loss: 0.1485 - val_acc: 0.9760\n",
            "Epoch 30/30\n",
            "40/40 [==============================] - 15s 374ms/step - loss: 0.0129 - acc: 0.9979 - val_loss: 0.1159 - val_acc: 0.9810\n"
          ],
          "name": "stdout"
        }
      ]
    },
    {
      "cell_type": "code",
      "metadata": {
        "colab": {
          "base_uri": "https://localhost:8080/"
        },
        "id": "XOMIvILGlCsA",
        "outputId": "0eaccded-baec-4c32-a25a-0e1616a8dab1"
      },
      "source": [
        "model.save(\"drive/MyDrive/ML_colab/save/cat_dog/SaveModel_cat_dog_md_cp1\")\n",
        "model.save(\"drive/MyDrive/ML_colab/save/cat_dog/model_cat_dog_md_cp1.h5\")"
      ],
      "execution_count": 49,
      "outputs": [
        {
          "output_type": "stream",
          "text": [
            "INFO:tensorflow:Assets written to: drive/MyDrive/ML_colab/save/cat_dog/SaveModel_cat_dog_md_cp1/assets\n"
          ],
          "name": "stdout"
        }
      ]
    },
    {
      "cell_type": "code",
      "metadata": {
        "colab": {
          "base_uri": "https://localhost:8080/",
          "height": 298
        },
        "id": "oaT1Lk2elCvR",
        "outputId": "8a2b5f64-8520-4000-fef5-9e2be2ecfd90"
      },
      "source": [
        "import matplotlib.pyplot as plt\n",
        "acc = history.history['acc']\n",
        "val_acc = history.history['val_acc']\n",
        "loss = history.history['loss']\n",
        "val_loss = history.history['val_loss']\n",
        "\n",
        "epochs = range(len(acc))\n",
        "\n",
        "plt.plot(epochs, acc, 'r', label='Training accuracy')\n",
        "plt.plot(epochs, val_acc, 'b', label='Validation accuracy')\n",
        "plt.title('Training and validation accuracy')\n",
        "plt.legend(loc=0)\n",
        "plt.figure()\n",
        "\n",
        "\n",
        "plt.show()"
      ],
      "execution_count": 51,
      "outputs": [
        {
          "output_type": "display_data",
          "data": {
            "image/png": "[encoded data removed]",
            "text/plain": [
              "<Figure size 432x288 with 1 Axes>"
            ]
          },
          "metadata": {
            "tags": [],
            "needs_background": "light"
          }
        },
        {
          "output_type": "display_data",
          "data": {
            "text/plain": [
              "<Figure size 432x288 with 0 Axes>"
            ]
          },
          "metadata": {
            "tags": []
          }
        }
      ]
    },
    {
      "cell_type": "code",
      "metadata": {
        "colab": {
          "base_uri": "https://localhost:8080/",
          "height": 298
        },
        "id": "47I9RmMvoj9L",
        "outputId": "4985f0d2-e747-461f-898b-a3b1c2005eb2"
      },
      "source": [
        "# loss\n",
        "epochs = range(len(loss))\n",
        "plt.plot(epochs, loss, 'r', label='Training loss')\n",
        "plt.plot(epochs, val_loss, 'b', label='Validation loss')\n",
        "plt.title('Training and validation loss')\n",
        "plt.legend(loc=0)\n",
        "plt.figure()\n",
        "plt.show()"
      ],
      "execution_count": 52,
      "outputs": [
        {
          "output_type": "display_data",
          "data": {
            "image/png": "[encoded data removed]",
            "text/plain": [
              "<Figure size 432x288 with 1 Axes>"
            ]
          },
          "metadata": {
            "tags": [],
            "needs_background": "light"
          }
        },
        {
          "output_type": "display_data",
          "data": {
            "text/plain": [
              "<Figure size 432x288 with 0 Axes>"
            ]
          },
          "metadata": {
            "tags": []
          }
        }
      ]
    },
    {
      "cell_type": "code",
      "metadata": {
        "colab": {
          "base_uri": "https://localhost:8080/"
        },
        "id": "TgTCCXUqokDl",
        "outputId": "4b8b9fbf-4c4c-41d5-805c-546885fafca7"
      },
      "source": [
        "file_path = 'drive/MyDrive/ML_colab/dataset/test_cat_dog/' # current dir\n",
        "test_files = os.listdir(file_path)\n",
        "\n",
        "for file in test_files:\n",
        "    # predicting images\n",
        "    path=file_path + file\n",
        "    img=image.load_img(path, target_size=(224, 224))\n",
        "\n",
        "    x=image.img_to_array(img)\n",
        "    x=np.expand_dims(x, axis=0)\n",
        "    images = np.vstack([x])\n",
        "\n",
        "    classes = model.predict_classes(images, batch_size=10)\n",
        "    # classes = np.argmax(classes, axis=1)\n",
        "\n",
        "    print(classes[0])\n",
        "\n",
        "    thresh_hold = 0.6;\n",
        "\n",
        "    if classes[0]>thresh_hold:\n",
        "        print(file + \" is a dog\")\n",
        "\n",
        "    else:\n",
        "        print(file + \" is a cat\")"
      ],
      "execution_count": 57,
      "outputs": [
        {
          "output_type": "stream",
          "text": [
            "[1.]\n",
            "dog4.jpeg is a dog\n",
            "[0.99999976]\n",
            "dog1.jpg is a dog\n",
            "[1.]\n",
            "dog3.jpg is a dog\n",
            "[1.]\n",
            "dog2.jpg is a dog\n",
            "[4.0381816e-29]\n",
            "cat.jpeg is a cat\n",
            "[1.0474725e-28]\n",
            "cat_2.jpeg is a cat\n"
          ],
          "name": "stdout"
        }
      ]
    },
    {
      "cell_type": "code",
      "metadata": {
        "colab": {
          "base_uri": "https://localhost:8080/"
        },
        "id": "9IcgRvQPokHF",
        "outputId": "21c730a8-7c60-456a-925d-c180b090bd31"
      },
      "source": [
        "classes"
      ],
      "execution_count": 56,
      "outputs": [
        {
          "output_type": "execute_result",
          "data": {
            "text/plain": [
              "array([[1.0474725e-28]], dtype=float32)"
            ]
          },
          "metadata": {
            "tags": []
          },
          "execution_count": 56
        }
      ]
    },
    {
      "cell_type": "code",
      "metadata": {
        "colab": {
          "base_uri": "https://localhost:8080/"
        },
        "id": "SvsdCPcDokKW",
        "outputId": "9fca3b49-699d-48f1-851e-f34449c99432"
      },
      "source": [
        "from tensorflow.keras.preprocessing import image\n",
        "test_file = \"drive/MyDrive/ML_colab/dataset/test_cat_dog/cat_2.jpeg\"\n",
        "img = image.load_img(test_file, target_size=(224, 224))\n",
        "x = image.img_to_array(img)\n",
        "x = np.expand_dims(x, axis=0)\n",
        "images = np.vstack([x])\n",
        "\n",
        "classes = model.predict(images)\n",
        "classes"
      ],
      "execution_count": 59,
      "outputs": [
        {
          "output_type": "execute_result",
          "data": {
            "text/plain": [
              "array([[1.0474725e-28]], dtype=float32)"
            ]
          },
          "metadata": {
            "tags": []
          },
          "execution_count": 59
        }
      ]
    },
    {
      "cell_type": "code",
      "metadata": {
        "colab": {
          "base_uri": "https://localhost:8080/"
        },
        "id": "JmSgQUb0qgFS",
        "outputId": "81a51ee2-ca45-45d3-ef16-f0ab22f463b1"
      },
      "source": [
        "model.predict_classes(images)"
      ],
      "execution_count": 60,
      "outputs": [
        {
          "output_type": "stream",
          "text": [
            "/usr/local/lib/python3.6/dist-packages/tensorflow/python/keras/engine/sequential.py:450: UserWarning: `model.predict_classes()` is deprecated and will be removed after 2021-01-01. Please use instead:* `np.argmax(model.predict(x), axis=-1)`,   if your model does multi-class classification   (e.g. if it uses a `softmax` last-layer activation).* `(model.predict(x) > 0.5).astype(\"int32\")`,   if your model does binary classification   (e.g. if it uses a `sigmoid` last-layer activation).\n",
            "  warnings.warn('`model.predict_classes()` is deprecated and '\n"
          ],
          "name": "stderr"
        },
        {
          "output_type": "execute_result",
          "data": {
            "text/plain": [
              "array([[0]], dtype=int32)"
            ]
          },
          "metadata": {
            "tags": []
          },
          "execution_count": 60
        }
      ]
    },
    {
      "cell_type": "code",
      "metadata": {
        "id": "ZQEm2PaSqgIs"
      },
      "source": [
        ""
      ],
      "execution_count": null,
      "outputs": []
    },
    {
      "cell_type": "code",
      "metadata": {
        "id": "kHwfgSEeqgMS"
      },
      "source": [
        ""
      ],
      "execution_count": null,
      "outputs": []
    },
    {
      "cell_type": "code",
      "metadata": {
        "id": "QQoD5xsrokNe"
      },
      "source": [
        ""
      ],
      "execution_count": null,
      "outputs": []
    },
    {
      "cell_type": "code",
      "metadata": {
        "id": "OXsHBaC8lCyh"
      },
      "source": [
        ""
      ],
      "execution_count": null,
      "outputs": []
    },
    {
      "cell_type": "code",
      "metadata": {
        "id": "YYCLYg_5r1yJ"
      },
      "source": [
        "import tensorflow as tf"
      ],
      "execution_count": 37,
      "outputs": []
    },
    {
      "cell_type": "code",
      "metadata": {
        "id": "yi0hR7EXrjVd"
      },
      "source": [
        "# Define a Callback class that stops training once accuracy reaches 97.0%\n",
        "class myCallback(tf.keras.callbacks.Callback):\n",
        "    def on_epoch_end(self, epoch, logs={}):\n",
        "        if(logs.get('accuracy') is not None and logs.get('val_accuracy') > 0.96) :\n",
        "            print(\"\\nReached 97.0% accuracy so cancelling training!\")\n",
        "            self.model.stop_training = True\n",
        "\n",
        "my_callback = myCallback()"
      ],
      "execution_count": 38,
      "outputs": []
    },
    {
      "cell_type": "code",
      "metadata": {
        "id": "_U8bk0y1sCKv"
      },
      "source": [
        "# # Save checkpoints during training\n",
        "# # ref: https://www.tensorflow.org/tutorials/keras/save_and_load#save_checkpoints_during_training\n",
        "# # checkpoint_path = \"../checkpoint/cp-{epoch:04d}.ckpt\"\n",
        "# checkpoint_path = \"drive/MyDrive/ML_colab/cat_dog/cp-{epoch:04d}.ckpt\"\n",
        "# checkpoint_dir = os.path.dirname(checkpoint_path)\n",
        "# cp_callback = tf.keras.callbacks.ModelCheckpoint(\n",
        "#     filepath=checkpoint_path,\n",
        "#     save_weights_only=True,\n",
        "#     save_freq=5*20,\n",
        "#     verbose=1)"
      ],
      "execution_count": null,
      "outputs": []
    },
    {
      "cell_type": "code",
      "metadata": {
        "id": "Blhq2MAUeyGA",
        "colab": {
          "base_uri": "https://localhost:8080/"
        },
        "outputId": "211e7d3a-c696-479c-bac4-593d4ae65e3e"
      },
      "source": [
        "history = model.fit(\n",
        "            train_generator,\n",
        "            validation_data = validation_generator,\n",
        "            steps_per_epoch = 100,\n",
        "            epochs = 20,\n",
        "            validation_steps = 50,\n",
        "            verbose = 2,\n",
        "            # callbacks=[my_callback, cp_callback])\n",
        "            callbacks=[my_callback])"
      ],
      "execution_count": null,
      "outputs": [
        {
          "output_type": "stream",
          "text": [
            "Epoch 1/20\n",
            "100/100 - 28s - loss: 0.3480 - accuracy: 0.8715 - val_loss: 0.1113 - val_accuracy: 0.9590\n",
            "Epoch 2/20\n",
            "100/100 - 18s - loss: 0.2375 - accuracy: 0.9025 - val_loss: 0.1057 - val_accuracy: 0.9610\n",
            "Epoch 3/20\n",
            "100/100 - 18s - loss: 0.2155 - accuracy: 0.9215 - val_loss: 0.0953 - val_accuracy: 0.9650\n",
            "Epoch 4/20\n",
            "100/100 - 18s - loss: 0.1928 - accuracy: 0.9230 - val_loss: 0.1186 - val_accuracy: 0.9580\n",
            "Epoch 5/20\n",
            "100/100 - 18s - loss: 0.1902 - accuracy: 0.9315 - val_loss: 0.1124 - val_accuracy: 0.9650\n",
            "Epoch 6/20\n",
            "100/100 - 18s - loss: 0.1848 - accuracy: 0.9380 - val_loss: 0.1002 - val_accuracy: 0.9690\n",
            "Epoch 7/20\n",
            "100/100 - 18s - loss: 0.1599 - accuracy: 0.9455 - val_loss: 0.0875 - val_accuracy: 0.9700\n",
            "Epoch 8/20\n",
            "100/100 - 18s - loss: 0.1713 - accuracy: 0.9390 - val_loss: 0.0944 - val_accuracy: 0.9660\n",
            "Epoch 9/20\n",
            "100/100 - 18s - loss: 0.1754 - accuracy: 0.9445 - val_loss: 0.1207 - val_accuracy: 0.9660\n",
            "Epoch 10/20\n",
            "100/100 - 18s - loss: 0.1704 - accuracy: 0.9430 - val_loss: 0.1149 - val_accuracy: 0.9670\n",
            "Epoch 11/20\n",
            "100/100 - 18s - loss: 0.1693 - accuracy: 0.9430 - val_loss: 0.1110 - val_accuracy: 0.9670\n",
            "Epoch 12/20\n",
            "100/100 - 18s - loss: 0.1324 - accuracy: 0.9500 - val_loss: 0.1546 - val_accuracy: 0.9620\n",
            "Epoch 13/20\n",
            "100/100 - 18s - loss: 0.1577 - accuracy: 0.9470 - val_loss: 0.1558 - val_accuracy: 0.9600\n",
            "Epoch 14/20\n",
            "100/100 - 19s - loss: 0.1553 - accuracy: 0.9465 - val_loss: 0.1354 - val_accuracy: 0.9630\n",
            "Epoch 15/20\n",
            "100/100 - 19s - loss: 0.1389 - accuracy: 0.9550 - val_loss: 0.2032 - val_accuracy: 0.9440\n",
            "Epoch 16/20\n",
            "100/100 - 19s - loss: 0.1378 - accuracy: 0.9525 - val_loss: 0.1779 - val_accuracy: 0.9480\n",
            "Epoch 17/20\n",
            "100/100 - 19s - loss: 0.1354 - accuracy: 0.9485 - val_loss: 0.1370 - val_accuracy: 0.9690\n",
            "Epoch 18/20\n",
            "100/100 - 18s - loss: 0.1118 - accuracy: 0.9585 - val_loss: 0.1572 - val_accuracy: 0.9570\n",
            "Epoch 19/20\n",
            "100/100 - 18s - loss: 0.1534 - accuracy: 0.9525 - val_loss: 0.1155 - val_accuracy: 0.9670\n",
            "Epoch 20/20\n",
            "100/100 - 18s - loss: 0.1195 - accuracy: 0.9585 - val_loss: 0.1267 - val_accuracy: 0.9650\n"
          ],
          "name": "stdout"
        }
      ]
    },
    {
      "cell_type": "code",
      "metadata": {
        "colab": {
          "base_uri": "https://localhost:8080/"
        },
        "id": "h-8uBpb3udnK",
        "outputId": "3558f3e2-d5ff-402e-98e7-c9d41f844b57"
      },
      "source": [
        "model.save(\"drive/MyDrive/ML_colab/save/cat_dog/SaveModel_cat_dog_tf_course\")\n",
        "model.save(\"drive/MyDrive/ML_colab/save/cat_dog/model_cat_dog_tf_course.h5\")"
      ],
      "execution_count": null,
      "outputs": [
        {
          "output_type": "stream",
          "text": [
            "INFO:tensorflow:Assets written to: drive/MyDrive/ML_colab/save/cat_dog/SaveModel_cat_dog_tf_course/assets\n"
          ],
          "name": "stdout"
        }
      ]
    },
    {
      "cell_type": "code",
      "metadata": {
        "id": "C2Fp6Se9rKuL",
        "colab": {
          "base_uri": "https://localhost:8080/",
          "height": 298
        },
        "outputId": "d8edb3e4-46cd-4d1c-ae4d-ed99faf7308b"
      },
      "source": [
        "import matplotlib.pyplot as plt\n",
        "acc = history.history['accuracy']\n",
        "val_acc = history.history['val_accuracy']\n",
        "loss = history.history['loss']\n",
        "val_loss = history.history['val_loss']\n",
        "\n",
        "epochs = range(len(acc))\n",
        "\n",
        "plt.plot(epochs, acc, 'r', label='Training accuracy')\n",
        "plt.plot(epochs, val_acc, 'b', label='Validation accuracy')\n",
        "plt.title('Training and validation accuracy')\n",
        "plt.legend(loc=0)\n",
        "plt.figure()\n",
        "\n",
        "\n",
        "plt.show()"
      ],
      "execution_count": null,
      "outputs": [
        {
          "output_type": "display_data",
          "data": {
            "image/png": "[encoded data removed]",
            "text/plain": [
              "<Figure size 432x288 with 1 Axes>"
            ]
          },
          "metadata": {
            "tags": [],
            "needs_background": "light"
          }
        },
        {
          "output_type": "display_data",
          "data": {
            "text/plain": [
              "<Figure size 432x288 with 0 Axes>"
            ]
          },
          "metadata": {
            "tags": []
          }
        }
      ]
    },
    {
      "cell_type": "code",
      "metadata": {
        "id": "YAGa-GyUuYIB",
        "colab": {
          "base_uri": "https://localhost:8080/",
          "height": 298
        },
        "outputId": "d7f76621-0e46-4b9f-fb83-f49aec2ec009"
      },
      "source": [
        "# loss\n",
        "epochs = range(len(loss))\n",
        "plt.plot(epochs, loss, 'r', label='Training loss')\n",
        "plt.plot(epochs, val_loss, 'b', label='Validation loss')\n",
        "plt.title('Training and validation loss')\n",
        "plt.legend(loc=0)\n",
        "plt.figure()\n",
        "plt.show()"
      ],
      "execution_count": null,
      "outputs": [
        {
          "output_type": "display_data",
          "data": {
            "image/png": "[encoded data removed]",
            "text/plain": [
              "<Figure size 432x288 with 1 Axes>"
            ]
          },
          "metadata": {
            "tags": [],
            "needs_background": "light"
          }
        },
        {
          "output_type": "display_data",
          "data": {
            "text/plain": [
              "<Figure size 432x288 with 0 Axes>"
            ]
          },
          "metadata": {
            "tags": []
          }
        }
      ]
    },
    {
      "cell_type": "code",
      "metadata": {
        "colab": {
          "base_uri": "https://localhost:8080/"
        },
        "id": "YFe5MYeUgDFY",
        "outputId": "270fecb7-6946-410d-8f30-d881f51fd350"
      },
      "source": [
        "from tensorflow.keras.preprocessing import image\n",
        "test_file = \"drive/MyDrive/ML_colab/dataset/test_cat_dog/cat_2.jpeg\"\n",
        "img = image.load_img(test_file, target_size=(150, 150))\n",
        "x = image.img_to_array(img)\n",
        "x = np.expand_dims(x, axis=0)\n",
        "images = np.vstack([x])\n",
        "\n",
        "classes = model.predict(images)\n",
        "classes"
      ],
      "execution_count": null,
      "outputs": [
        {
          "output_type": "execute_result",
          "data": {
            "text/plain": [
              "array([[0.]], dtype=float32)"
            ]
          },
          "metadata": {
            "tags": []
          },
          "execution_count": 30
        }
      ]
    },
    {
      "cell_type": "code",
      "metadata": {
        "colab": {
          "base_uri": "https://localhost:8080/"
        },
        "id": "BYaFSAxmdBWx",
        "outputId": "17b2aea0-e61a-4988-8c18-74ed767e15a6"
      },
      "source": [
        "file_path = 'drive/MyDrive/ML_colab/dataset/test_cat_dog/' # current dir\n",
        "test_files = os.listdir(file_path)\n",
        "\n",
        "for file in test_files:\n",
        "    # predicting images\n",
        "    path=file_path + file\n",
        "    img=image.load_img(path, target_size=(150, 150))\n",
        "\n",
        "    x=image.img_to_array(img)\n",
        "    x=np.expand_dims(x, axis=0)\n",
        "    images = np.vstack([x])\n",
        "\n",
        "    classes = model.predict(images, batch_size=10)\n",
        "    # classes = np.argmax(classes, axis=1)\n",
        "\n",
        "    print(classes[0])\n",
        "\n",
        "    if classes[0]>0:\n",
        "        print(file + \" is a dog\")\n",
        "\n",
        "    else:\n",
        "        print(file + \" is a cat\")"
      ],
      "execution_count": null,
      "outputs": [
        {
          "output_type": "stream",
          "text": [
            "[0.]\n",
            "dog4.jpeg is a cat\n",
            "[0.]\n",
            "dog1.jpg is a cat\n",
            "[0.]\n",
            "dog3.jpg is a cat\n",
            "[0.]\n",
            "dog2.jpg is a cat\n",
            "[0.]\n",
            "cat.jpeg is a cat\n",
            "[0.]\n",
            "cat_2.jpeg is a cat\n"
          ],
          "name": "stdout"
        }
      ]
    },
    {
      "cell_type": "code",
      "metadata": {
        "id": "P6OuYttMdBZ7"
      },
      "source": [
        ""
      ],
      "execution_count": null,
      "outputs": []
    },
    {
      "cell_type": "code",
      "metadata": {
        "id": "5yg_o9oedBdB"
      },
      "source": [
        ""
      ],
      "execution_count": null,
      "outputs": []
    },
    {
      "cell_type": "code",
      "metadata": {
        "id": "lqIcifD0dBgL"
      },
      "source": [
        ""
      ],
      "execution_count": null,
      "outputs": []
    },
    {
      "cell_type": "code",
      "metadata": {
        "id": "OItrC1afdBj4"
      },
      "source": [
        ""
      ],
      "execution_count": null,
      "outputs": []
    },
    {
      "cell_type": "code",
      "metadata": {
        "colab": {
          "base_uri": "https://localhost:8080/"
        },
        "id": "uwXNdurHYhYE",
        "outputId": "a10f9337-4b19-43cc-b04e-bbff9e5ba1a6"
      },
      "source": [
        "labels = (validation_generator.class_indices)\n",
        "labels = dict((v,k) for k,v in labels.items())\n",
        "labels"
      ],
      "execution_count": null,
      "outputs": [
        {
          "output_type": "execute_result",
          "data": {
            "text/plain": [
              "{0: 'cats', 1: 'dogs'}"
            ]
          },
          "metadata": {
            "tags": []
          },
          "execution_count": 11
        }
      ]
    },
    {
      "cell_type": "code",
      "metadata": {
        "colab": {
          "base_uri": "https://localhost:8080/"
        },
        "id": "00wOt3HMZtaa",
        "outputId": "b114023d-05f2-4b6d-8b8f-22b8d9c68b95"
      },
      "source": [
        "steps = validation_generator.n // validation_generator.batch_size\n",
        "steps\n"
      ],
      "execution_count": null,
      "outputs": [
        {
          "output_type": "execute_result",
          "data": {
            "text/plain": [
              "50"
            ]
          },
          "metadata": {
            "tags": []
          },
          "execution_count": 12
        }
      ]
    },
    {
      "cell_type": "code",
      "metadata": {
        "id": "g0-HQUJ6Z3wv"
      },
      "source": [
        "import numpy as np"
      ],
      "execution_count": null,
      "outputs": []
    },
    {
      "cell_type": "code",
      "metadata": {
        "colab": {
          "base_uri": "https://localhost:8080/"
        },
        "id": "wo0FO08kZvyX",
        "outputId": "353ed12e-569c-423a-f17f-015d225e384c"
      },
      "source": [
        "validation_generator.reset()\n",
        "pred = model.predict(validation_generator, verbose=1)\n",
        "predicted_class_indices=np.argmax(pred,axis=1)\n",
        "predictions = [labels[k] for k in predicted_class_indices]\n",
        "predicted_class_indices"
      ],
      "execution_count": null,
      "outputs": [
        {
          "output_type": "stream",
          "text": [
            "50/50 [==============================] - 3s 62ms/step\n"
          ],
          "name": "stdout"
        },
        {
          "output_type": "execute_result",
          "data": {
            "text/plain": [
              "array([0, 0, 0, 0, 0, 0, 0, 0, 0, 0, 0, 0, 0, 0, 0, 0, 0, 0, 0, 0, 0, 0,\n",
              "       0, 0, 0, 0, 0, 0, 0, 0, 0, 0, 0, 0, 0, 0, 0, 0, 0, 0, 0, 0, 0, 0,\n",
              "       0, 0, 0, 0, 0, 0, 0, 0, 0, 0, 0, 0, 0, 0, 0, 0, 0, 0, 0, 0, 0, 0,\n",
              "       0, 0, 0, 0, 0, 0, 0, 0, 0, 0, 0, 0, 0, 0, 0, 0, 0, 0, 0, 0, 0, 0,\n",
              "       0, 0, 0, 0, 0, 0, 0, 0, 0, 0, 0, 0, 0, 0, 0, 0, 0, 0, 0, 0, 0, 0,\n",
              "       0, 0, 0, 0, 0, 0, 0, 0, 0, 0, 0, 0, 0, 0, 0, 0, 0, 0, 0, 0, 0, 0,\n",
              "       0, 0, 0, 0, 0, 0, 0, 0, 0, 0, 0, 0, 0, 0, 0, 0, 0, 0, 0, 0, 0, 0,\n",
              "       0, 0, 0, 0, 0, 0, 0, 0, 0, 0, 0, 0, 0, 0, 0, 0, 0, 0, 0, 0, 0, 0,\n",
              "       0, 0, 0, 0, 0, 0, 0, 0, 0, 0, 0, 0, 0, 0, 0, 0, 0, 0, 0, 0, 0, 0,\n",
              "       0, 0, 0, 0, 0, 0, 0, 0, 0, 0, 0, 0, 0, 0, 0, 0, 0, 0, 0, 0, 0, 0,\n",
              "       0, 0, 0, 0, 0, 0, 0, 0, 0, 0, 0, 0, 0, 0, 0, 0, 0, 0, 0, 0, 0, 0,\n",
              "       0, 0, 0, 0, 0, 0, 0, 0, 0, 0, 0, 0, 0, 0, 0, 0, 0, 0, 0, 0, 0, 0,\n",
              "       0, 0, 0, 0, 0, 0, 0, 0, 0, 0, 0, 0, 0, 0, 0, 0, 0, 0, 0, 0, 0, 0,\n",
              "       0, 0, 0, 0, 0, 0, 0, 0, 0, 0, 0, 0, 0, 0, 0, 0, 0, 0, 0, 0, 0, 0,\n",
              "       0, 0, 0, 0, 0, 0, 0, 0, 0, 0, 0, 0, 0, 0, 0, 0, 0, 0, 0, 0, 0, 0,\n",
              "       0, 0, 0, 0, 0, 0, 0, 0, 0, 0, 0, 0, 0, 0, 0, 0, 0, 0, 0, 0, 0, 0,\n",
              "       0, 0, 0, 0, 0, 0, 0, 0, 0, 0, 0, 0, 0, 0, 0, 0, 0, 0, 0, 0, 0, 0,\n",
              "       0, 0, 0, 0, 0, 0, 0, 0, 0, 0, 0, 0, 0, 0, 0, 0, 0, 0, 0, 0, 0, 0,\n",
              "       0, 0, 0, 0, 0, 0, 0, 0, 0, 0, 0, 0, 0, 0, 0, 0, 0, 0, 0, 0, 0, 0,\n",
              "       0, 0, 0, 0, 0, 0, 0, 0, 0, 0, 0, 0, 0, 0, 0, 0, 0, 0, 0, 0, 0, 0,\n",
              "       0, 0, 0, 0, 0, 0, 0, 0, 0, 0, 0, 0, 0, 0, 0, 0, 0, 0, 0, 0, 0, 0,\n",
              "       0, 0, 0, 0, 0, 0, 0, 0, 0, 0, 0, 0, 0, 0, 0, 0, 0, 0, 0, 0, 0, 0,\n",
              "       0, 0, 0, 0, 0, 0, 0, 0, 0, 0, 0, 0, 0, 0, 0, 0, 0, 0, 0, 0, 0, 0,\n",
              "       0, 0, 0, 0, 0, 0, 0, 0, 0, 0, 0, 0, 0, 0, 0, 0, 0, 0, 0, 0, 0, 0,\n",
              "       0, 0, 0, 0, 0, 0, 0, 0, 0, 0, 0, 0, 0, 0, 0, 0, 0, 0, 0, 0, 0, 0,\n",
              "       0, 0, 0, 0, 0, 0, 0, 0, 0, 0, 0, 0, 0, 0, 0, 0, 0, 0, 0, 0, 0, 0,\n",
              "       0, 0, 0, 0, 0, 0, 0, 0, 0, 0, 0, 0, 0, 0, 0, 0, 0, 0, 0, 0, 0, 0,\n",
              "       0, 0, 0, 0, 0, 0, 0, 0, 0, 0, 0, 0, 0, 0, 0, 0, 0, 0, 0, 0, 0, 0,\n",
              "       0, 0, 0, 0, 0, 0, 0, 0, 0, 0, 0, 0, 0, 0, 0, 0, 0, 0, 0, 0, 0, 0,\n",
              "       0, 0, 0, 0, 0, 0, 0, 0, 0, 0, 0, 0, 0, 0, 0, 0, 0, 0, 0, 0, 0, 0,\n",
              "       0, 0, 0, 0, 0, 0, 0, 0, 0, 0, 0, 0, 0, 0, 0, 0, 0, 0, 0, 0, 0, 0,\n",
              "       0, 0, 0, 0, 0, 0, 0, 0, 0, 0, 0, 0, 0, 0, 0, 0, 0, 0, 0, 0, 0, 0,\n",
              "       0, 0, 0, 0, 0, 0, 0, 0, 0, 0, 0, 0, 0, 0, 0, 0, 0, 0, 0, 0, 0, 0,\n",
              "       0, 0, 0, 0, 0, 0, 0, 0, 0, 0, 0, 0, 0, 0, 0, 0, 0, 0, 0, 0, 0, 0,\n",
              "       0, 0, 0, 0, 0, 0, 0, 0, 0, 0, 0, 0, 0, 0, 0, 0, 0, 0, 0, 0, 0, 0,\n",
              "       0, 0, 0, 0, 0, 0, 0, 0, 0, 0, 0, 0, 0, 0, 0, 0, 0, 0, 0, 0, 0, 0,\n",
              "       0, 0, 0, 0, 0, 0, 0, 0, 0, 0, 0, 0, 0, 0, 0, 0, 0, 0, 0, 0, 0, 0,\n",
              "       0, 0, 0, 0, 0, 0, 0, 0, 0, 0, 0, 0, 0, 0, 0, 0, 0, 0, 0, 0, 0, 0,\n",
              "       0, 0, 0, 0, 0, 0, 0, 0, 0, 0, 0, 0, 0, 0, 0, 0, 0, 0, 0, 0, 0, 0,\n",
              "       0, 0, 0, 0, 0, 0, 0, 0, 0, 0, 0, 0, 0, 0, 0, 0, 0, 0, 0, 0, 0, 0,\n",
              "       0, 0, 0, 0, 0, 0, 0, 0, 0, 0, 0, 0, 0, 0, 0, 0, 0, 0, 0, 0, 0, 0,\n",
              "       0, 0, 0, 0, 0, 0, 0, 0, 0, 0, 0, 0, 0, 0, 0, 0, 0, 0, 0, 0, 0, 0,\n",
              "       0, 0, 0, 0, 0, 0, 0, 0, 0, 0, 0, 0, 0, 0, 0, 0, 0, 0, 0, 0, 0, 0,\n",
              "       0, 0, 0, 0, 0, 0, 0, 0, 0, 0, 0, 0, 0, 0, 0, 0, 0, 0, 0, 0, 0, 0,\n",
              "       0, 0, 0, 0, 0, 0, 0, 0, 0, 0, 0, 0, 0, 0, 0, 0, 0, 0, 0, 0, 0, 0,\n",
              "       0, 0, 0, 0, 0, 0, 0, 0, 0, 0])"
            ]
          },
          "metadata": {
            "tags": []
          },
          "execution_count": 19
        }
      ]
    },
    {
      "cell_type": "code",
      "metadata": {
        "colab": {
          "base_uri": "https://localhost:8080/"
        },
        "id": "7_iPMXswaeqp",
        "outputId": "be72c2d9-b367-4677-f191-fe0afd9a5d4d"
      },
      "source": [
        "pred.size"
      ],
      "execution_count": null,
      "outputs": [
        {
          "output_type": "execute_result",
          "data": {
            "text/plain": [
              "1000"
            ]
          },
          "metadata": {
            "tags": []
          },
          "execution_count": 17
        }
      ]
    },
    {
      "cell_type": "code",
      "metadata": {
        "colab": {
          "base_uri": "https://localhost:8080/"
        },
        "id": "zbMaMyQEa8C5",
        "outputId": "980ec382-274c-41d5-89ae-a7c6f8778152"
      },
      "source": [
        "predicted_class_indices.size"
      ],
      "execution_count": null,
      "outputs": [
        {
          "output_type": "execute_result",
          "data": {
            "text/plain": [
              "1000"
            ]
          },
          "metadata": {
            "tags": []
          },
          "execution_count": 18
        }
      ]
    },
    {
      "cell_type": "code",
      "metadata": {
        "colab": {
          "base_uri": "https://localhost:8080/"
        },
        "id": "5Kmx9HHfcgvF",
        "outputId": "2e6894fe-c177-4847-c04d-f89799fdb75f"
      },
      "source": [
        "pred.shape"
      ],
      "execution_count": null,
      "outputs": [
        {
          "output_type": "execute_result",
          "data": {
            "text/plain": [
              "(1000, 1)"
            ]
          },
          "metadata": {
            "tags": []
          },
          "execution_count": 20
        }
      ]
    },
    {
      "cell_type": "code",
      "metadata": {
        "colab": {
          "base_uri": "https://localhost:8080/"
        },
        "id": "SAyH_vfNZyKF",
        "outputId": "67d102f5-9f99-490b-c7a0-3797ca1fc8b8"
      },
      "source": [
        "pred"
      ],
      "execution_count": null,
      "outputs": [
        {
          "output_type": "execute_result",
          "data": {
            "text/plain": [
              "array([[1.36149514e-09],\n",
              "       [1.00000000e+00],\n",
              "       [2.87727436e-14],\n",
              "       [1.00000000e+00],\n",
              "       [1.00000000e+00],\n",
              "       [1.23545396e-04],\n",
              "       [2.04234958e-13],\n",
              "       [9.99999642e-01],\n",
              "       [2.54900044e-07],\n",
              "       [9.99899745e-01],\n",
              "       [9.99990702e-01],\n",
              "       [1.00000000e+00],\n",
              "       [1.67346880e-04],\n",
              "       [6.34718745e-05],\n",
              "       [2.11994890e-02],\n",
              "       [1.00000000e+00],\n",
              "       [9.81615126e-01],\n",
              "       [1.06514506e-10],\n",
              "       [1.57966060e-16],\n",
              "       [2.37735609e-09],\n",
              "       [1.00000000e+00],\n",
              "       [9.82553542e-01],\n",
              "       [1.00000000e+00],\n",
              "       [9.99987006e-01],\n",
              "       [9.99999166e-01],\n",
              "       [4.29406688e-02],\n",
              "       [2.89321772e-17],\n",
              "       [2.45170605e-18],\n",
              "       [1.00000000e+00],\n",
              "       [1.20776553e-08],\n",
              "       [7.44812667e-01],\n",
              "       [1.00000000e+00],\n",
              "       [2.97828460e-21],\n",
              "       [1.00000000e+00],\n",
              "       [1.00000000e+00],\n",
              "       [1.00000000e+00],\n",
              "       [1.00000000e+00],\n",
              "       [1.00000000e+00],\n",
              "       [1.37697698e-12],\n",
              "       [1.11869849e-04],\n",
              "       [9.55130458e-01],\n",
              "       [1.62259266e-02],\n",
              "       [1.00000000e+00],\n",
              "       [3.55992131e-02],\n",
              "       [5.10456521e-05],\n",
              "       [9.99936581e-01],\n",
              "       [5.40507124e-08],\n",
              "       [1.00000000e+00],\n",
              "       [1.63294445e-03],\n",
              "       [3.31472769e-08],\n",
              "       [1.00000000e+00],\n",
              "       [9.99999881e-01],\n",
              "       [7.76026666e-01],\n",
              "       [1.18295083e-20],\n",
              "       [1.00000000e+00],\n",
              "       [9.99976277e-01],\n",
              "       [1.00000000e+00],\n",
              "       [3.62904615e-07],\n",
              "       [1.00000000e+00],\n",
              "       [4.87629222e-05],\n",
              "       [3.93901110e-15],\n",
              "       [9.06229094e-20],\n",
              "       [1.00000000e+00],\n",
              "       [5.48638869e-03],\n",
              "       [9.99978900e-01],\n",
              "       [1.00000000e+00],\n",
              "       [5.23955146e-09],\n",
              "       [1.00000000e+00],\n",
              "       [1.00000000e+00],\n",
              "       [1.00000000e+00],\n",
              "       [1.00000000e+00],\n",
              "       [5.39880462e-20],\n",
              "       [4.35640708e-18],\n",
              "       [1.00000000e+00],\n",
              "       [9.99999523e-01],\n",
              "       [1.00000000e+00],\n",
              "       [1.00000000e+00],\n",
              "       [1.00000000e+00],\n",
              "       [9.99919653e-01],\n",
              "       [1.00000000e+00],\n",
              "       [1.00000000e+00],\n",
              "       [1.00000000e+00],\n",
              "       [2.77381957e-08],\n",
              "       [3.08096588e-17],\n",
              "       [4.92377148e-06],\n",
              "       [1.21933677e-04],\n",
              "       [1.76502851e-07],\n",
              "       [2.10613315e-03],\n",
              "       [2.35018721e-17],\n",
              "       [9.49184448e-02],\n",
              "       [9.99337256e-01],\n",
              "       [1.00000000e+00],\n",
              "       [1.81004842e-22],\n",
              "       [1.00000000e+00],\n",
              "       [1.00000000e+00],\n",
              "       [1.00000000e+00],\n",
              "       [4.36707705e-01],\n",
              "       [9.49568510e-01],\n",
              "       [1.00000000e+00],\n",
              "       [1.00000000e+00],\n",
              "       [1.00000000e+00],\n",
              "       [1.97230293e-05],\n",
              "       [1.00000000e+00],\n",
              "       [1.00000000e+00],\n",
              "       [1.00000000e+00],\n",
              "       [2.02720306e-12],\n",
              "       [1.00000000e+00],\n",
              "       [1.00000000e+00],\n",
              "       [1.00000000e+00],\n",
              "       [2.48425863e-06],\n",
              "       [1.34395482e-02],\n",
              "       [2.80523582e-09],\n",
              "       [4.07824165e-12],\n",
              "       [1.00000000e+00],\n",
              "       [1.00000000e+00],\n",
              "       [1.03822233e-04],\n",
              "       [6.11946671e-05],\n",
              "       [9.02523553e-13],\n",
              "       [1.00000000e+00],\n",
              "       [5.29163070e-02],\n",
              "       [5.09145259e-08],\n",
              "       [1.00000000e+00],\n",
              "       [3.38532388e-01],\n",
              "       [1.00000000e+00],\n",
              "       [1.99500024e-02],\n",
              "       [9.99978542e-01],\n",
              "       [3.26774106e-03],\n",
              "       [1.00000000e+00],\n",
              "       [9.99291420e-01],\n",
              "       [9.60140452e-02],\n",
              "       [9.99999762e-01],\n",
              "       [1.00000000e+00],\n",
              "       [1.00000000e+00],\n",
              "       [1.00000000e+00],\n",
              "       [1.12434421e-02],\n",
              "       [1.00000000e+00],\n",
              "       [9.99999523e-01],\n",
              "       [2.58084665e-09],\n",
              "       [5.92547536e-01],\n",
              "       [2.35717756e-09],\n",
              "       [1.00000000e+00],\n",
              "       [1.00000000e+00],\n",
              "       [7.38704833e-13],\n",
              "       [1.00000000e+00],\n",
              "       [2.28027172e-16],\n",
              "       [1.00000000e+00],\n",
              "       [1.00000000e+00],\n",
              "       [1.00000000e+00],\n",
              "       [9.85586594e-05],\n",
              "       [1.99084031e-11],\n",
              "       [1.62214298e-10],\n",
              "       [1.00000000e+00],\n",
              "       [4.49232151e-10],\n",
              "       [5.70192095e-03],\n",
              "       [1.15080987e-07],\n",
              "       [1.00000000e+00],\n",
              "       [1.00000000e+00],\n",
              "       [1.00000000e+00],\n",
              "       [5.14520049e-01],\n",
              "       [5.09945676e-05],\n",
              "       [5.08188596e-03],\n",
              "       [9.99674797e-01],\n",
              "       [8.14567923e-13],\n",
              "       [9.89244654e-05],\n",
              "       [1.00000000e+00],\n",
              "       [1.00000000e+00],\n",
              "       [1.00000000e+00],\n",
              "       [5.57046960e-08],\n",
              "       [1.00000000e+00],\n",
              "       [1.00000000e+00],\n",
              "       [3.19611263e-06],\n",
              "       [4.93543095e-10],\n",
              "       [9.99999881e-01],\n",
              "       [1.00000000e+00],\n",
              "       [4.01779515e-04],\n",
              "       [1.00000000e+00],\n",
              "       [4.45977747e-01],\n",
              "       [2.50242947e-17],\n",
              "       [1.00000000e+00],\n",
              "       [9.99287665e-01],\n",
              "       [5.23305134e-05],\n",
              "       [3.71868424e-02],\n",
              "       [4.95571498e-20],\n",
              "       [1.00000000e+00],\n",
              "       [1.00000000e+00],\n",
              "       [6.84070110e-14],\n",
              "       [7.75494527e-07],\n",
              "       [1.00000000e+00],\n",
              "       [3.30023980e-10],\n",
              "       [9.99985456e-01],\n",
              "       [6.30064312e-09],\n",
              "       [1.00000000e+00],\n",
              "       [8.96678634e-11],\n",
              "       [1.00000000e+00],\n",
              "       [1.00000000e+00],\n",
              "       [1.00000000e+00],\n",
              "       [3.78537690e-09],\n",
              "       [1.00000000e+00],\n",
              "       [5.28852517e-10],\n",
              "       [3.85211097e-05],\n",
              "       [1.85193997e-02],\n",
              "       [1.00000000e+00],\n",
              "       [1.00000000e+00],\n",
              "       [1.00000000e+00],\n",
              "       [6.55636859e-06],\n",
              "       [9.29445854e-10],\n",
              "       [9.99999285e-01],\n",
              "       [2.80660994e-10],\n",
              "       [1.00000000e+00],\n",
              "       [2.42227731e-08],\n",
              "       [3.22864153e-12],\n",
              "       [5.95899879e-19],\n",
              "       [1.00000000e+00],\n",
              "       [9.99995589e-01],\n",
              "       [2.71844488e-17],\n",
              "       [4.00783797e-08],\n",
              "       [1.00000000e+00],\n",
              "       [8.88722718e-17],\n",
              "       [1.00000000e+00],\n",
              "       [9.99479115e-01],\n",
              "       [1.00000000e+00],\n",
              "       [4.01691286e-05],\n",
              "       [1.00000000e+00],\n",
              "       [2.04396580e-04],\n",
              "       [1.16624212e-13],\n",
              "       [2.27062915e-15],\n",
              "       [1.02430276e-05],\n",
              "       [5.53454072e-14],\n",
              "       [7.29212284e-01],\n",
              "       [1.00000000e+00],\n",
              "       [1.00000000e+00],\n",
              "       [3.85255281e-22],\n",
              "       [1.00000000e+00],\n",
              "       [2.32340023e-03],\n",
              "       [6.72945306e-02],\n",
              "       [4.01582167e-18],\n",
              "       [1.36144660e-23],\n",
              "       [5.70088484e-19],\n",
              "       [9.55885369e-03],\n",
              "       [6.88830018e-01],\n",
              "       [1.00000000e+00],\n",
              "       [8.35508104e-07],\n",
              "       [9.66565451e-04],\n",
              "       [2.07176106e-03],\n",
              "       [1.00000000e+00],\n",
              "       [9.99998450e-01],\n",
              "       [1.00000000e+00],\n",
              "       [1.00000000e+00],\n",
              "       [4.97445668e-16],\n",
              "       [6.54177992e-13],\n",
              "       [3.96278620e-01],\n",
              "       [4.35417191e-22],\n",
              "       [1.00000000e+00],\n",
              "       [5.54881258e-17],\n",
              "       [5.86829572e-07],\n",
              "       [1.43423733e-06],\n",
              "       [3.10592688e-15],\n",
              "       [1.00000000e+00],\n",
              "       [5.17204755e-15],\n",
              "       [1.00000000e+00],\n",
              "       [2.17802208e-05],\n",
              "       [1.00000000e+00],\n",
              "       [1.00000000e+00],\n",
              "       [2.36018388e-12],\n",
              "       [1.00000000e+00],\n",
              "       [1.00000000e+00],\n",
              "       [1.00000000e+00],\n",
              "       [3.48409425e-13],\n",
              "       [7.10026070e-05],\n",
              "       [1.28453749e-07],\n",
              "       [1.00000000e+00],\n",
              "       [1.60734965e-06],\n",
              "       [6.19941164e-13],\n",
              "       [1.31241545e-12],\n",
              "       [8.75611022e-06],\n",
              "       [1.00000000e+00],\n",
              "       [6.90570459e-07],\n",
              "       [7.78892852e-16],\n",
              "       [1.00000000e+00],\n",
              "       [1.21446201e-05],\n",
              "       [2.79953740e-13],\n",
              "       [2.51566573e-10],\n",
              "       [4.63180909e-15],\n",
              "       [1.00000000e+00],\n",
              "       [1.00000000e+00],\n",
              "       [5.29515598e-10],\n",
              "       [4.01420176e-01],\n",
              "       [8.44173628e-05],\n",
              "       [1.58355164e-03],\n",
              "       [6.34548281e-09],\n",
              "       [9.82590854e-01],\n",
              "       [9.99996901e-01],\n",
              "       [9.71095460e-07],\n",
              "       [4.32551304e-23],\n",
              "       [1.90285005e-04],\n",
              "       [1.00000000e+00],\n",
              "       [2.72828303e-17],\n",
              "       [1.00000000e+00],\n",
              "       [1.00000000e+00],\n",
              "       [1.69599934e-05],\n",
              "       [1.00000000e+00],\n",
              "       [2.02040523e-01],\n",
              "       [1.29985693e-03],\n",
              "       [1.10099115e-03],\n",
              "       [1.59084768e-09],\n",
              "       [1.00000000e+00],\n",
              "       [1.00000000e+00],\n",
              "       [3.50191944e-15],\n",
              "       [2.36957529e-08],\n",
              "       [3.10950600e-06],\n",
              "       [1.13027759e-15],\n",
              "       [1.00000000e+00],\n",
              "       [2.85512851e-06],\n",
              "       [9.99955177e-01],\n",
              "       [1.49068700e-18],\n",
              "       [1.00000000e+00],\n",
              "       [1.00000000e+00],\n",
              "       [1.11850840e-03],\n",
              "       [9.99890327e-01],\n",
              "       [2.44351336e-14],\n",
              "       [1.00000000e+00],\n",
              "       [1.00000000e+00],\n",
              "       [9.64615145e-04],\n",
              "       [3.94729688e-16],\n",
              "       [1.00000000e+00],\n",
              "       [1.00000000e+00],\n",
              "       [1.00000000e+00],\n",
              "       [1.82254463e-02],\n",
              "       [2.66650434e-11],\n",
              "       [1.33419581e-10],\n",
              "       [5.85896429e-04],\n",
              "       [2.60227127e-04],\n",
              "       [1.81274800e-07],\n",
              "       [1.07338352e-08],\n",
              "       [1.00000000e+00],\n",
              "       [1.00000000e+00],\n",
              "       [1.41472999e-12],\n",
              "       [1.00000000e+00],\n",
              "       [1.00000000e+00],\n",
              "       [2.31650992e-14],\n",
              "       [4.45144053e-07],\n",
              "       [1.63583957e-09],\n",
              "       [9.99316692e-01],\n",
              "       [4.44049034e-11],\n",
              "       [9.41660345e-01],\n",
              "       [1.00000000e+00],\n",
              "       [7.48906692e-04],\n",
              "       [1.30077296e-07],\n",
              "       [9.99999881e-01],\n",
              "       [1.12332271e-15],\n",
              "       [9.99999285e-01],\n",
              "       [9.49226972e-03],\n",
              "       [2.71383610e-12],\n",
              "       [9.69062421e-06],\n",
              "       [1.00000000e+00],\n",
              "       [1.00000000e+00],\n",
              "       [9.95078444e-01],\n",
              "       [1.40886090e-03],\n",
              "       [1.00000000e+00],\n",
              "       [1.00000000e+00],\n",
              "       [1.00000000e+00],\n",
              "       [9.99891639e-01],\n",
              "       [2.35109332e-09],\n",
              "       [1.41413797e-10],\n",
              "       [1.00000000e+00],\n",
              "       [1.00000000e+00],\n",
              "       [9.99991417e-01],\n",
              "       [2.57661581e-01],\n",
              "       [1.00000000e+00],\n",
              "       [4.17102639e-14],\n",
              "       [1.33992844e-05],\n",
              "       [9.45893005e-02],\n",
              "       [9.99999762e-01],\n",
              "       [1.00000000e+00],\n",
              "       [1.00000000e+00],\n",
              "       [1.00000000e+00],\n",
              "       [1.00000000e+00],\n",
              "       [1.00000000e+00],\n",
              "       [6.00642597e-05],\n",
              "       [1.58892951e-11],\n",
              "       [5.78935690e-08],\n",
              "       [1.00000000e+00],\n",
              "       [1.34719579e-11],\n",
              "       [1.00000000e+00],\n",
              "       [9.85286963e-09],\n",
              "       [4.77293871e-10],\n",
              "       [3.53951864e-02],\n",
              "       [2.84750066e-12],\n",
              "       [2.82396030e-07],\n",
              "       [1.00000000e+00],\n",
              "       [3.67451578e-01],\n",
              "       [1.39146177e-11],\n",
              "       [1.00000000e+00],\n",
              "       [9.99999762e-01],\n",
              "       [9.99756396e-01],\n",
              "       [2.67454201e-11],\n",
              "       [2.83667902e-07],\n",
              "       [1.77120003e-11],\n",
              "       [1.00000000e+00],\n",
              "       [1.00000000e+00],\n",
              "       [1.00000000e+00],\n",
              "       [1.00000000e+00],\n",
              "       [2.84686740e-02],\n",
              "       [2.50979959e-10],\n",
              "       [1.00000000e+00],\n",
              "       [9.99999762e-01],\n",
              "       [1.00000000e+00],\n",
              "       [2.86614238e-07],\n",
              "       [1.00000000e+00],\n",
              "       [1.00000000e+00],\n",
              "       [8.01968345e-05],\n",
              "       [1.23243296e-07],\n",
              "       [8.66618211e-06],\n",
              "       [1.00000000e+00],\n",
              "       [7.11732326e-08],\n",
              "       [1.00000000e+00],\n",
              "       [1.19703263e-02],\n",
              "       [1.00000000e+00],\n",
              "       [1.05568464e-03],\n",
              "       [1.00000000e+00],\n",
              "       [9.99999881e-01],\n",
              "       [8.68559619e-13],\n",
              "       [9.85946834e-01],\n",
              "       [2.30607287e-12],\n",
              "       [9.99999881e-01],\n",
              "       [1.42156822e-03],\n",
              "       [5.50020777e-05],\n",
              "       [3.44918102e-01],\n",
              "       [1.00000000e+00],\n",
              "       [1.67410299e-02],\n",
              "       [1.00000000e+00],\n",
              "       [1.00000000e+00],\n",
              "       [6.35429809e-04],\n",
              "       [1.00000000e+00],\n",
              "       [9.58985984e-01],\n",
              "       [1.00000000e+00],\n",
              "       [1.00000000e+00],\n",
              "       [9.19931579e-12],\n",
              "       [2.71439013e-08],\n",
              "       [3.14246974e-13],\n",
              "       [1.15413360e-20],\n",
              "       [9.99886751e-01],\n",
              "       [1.00000000e+00],\n",
              "       [9.99999523e-01],\n",
              "       [4.32526477e-08],\n",
              "       [1.30188710e-03],\n",
              "       [1.00000000e+00],\n",
              "       [1.00000000e+00],\n",
              "       [1.00000000e+00],\n",
              "       [1.00000000e+00],\n",
              "       [7.19950476e-05],\n",
              "       [5.04178784e-13],\n",
              "       [7.81388581e-02],\n",
              "       [1.00000000e+00],\n",
              "       [8.64257207e-11],\n",
              "       [1.00000000e+00],\n",
              "       [3.21540305e-09],\n",
              "       [8.18636559e-04],\n",
              "       [1.00000000e+00],\n",
              "       [2.01014755e-05],\n",
              "       [1.00000000e+00],\n",
              "       [1.00000000e+00],\n",
              "       [1.00000000e+00],\n",
              "       [1.00000000e+00],\n",
              "       [9.99774277e-01],\n",
              "       [1.00000000e+00],\n",
              "       [1.00000000e+00],\n",
              "       [8.70801695e-03],\n",
              "       [1.00000000e+00],\n",
              "       [1.00000000e+00],\n",
              "       [1.00000000e+00],\n",
              "       [1.00000000e+00],\n",
              "       [1.00000000e+00],\n",
              "       [1.00000000e+00],\n",
              "       [1.00000000e+00],\n",
              "       [1.00000000e+00],\n",
              "       [1.27131779e-17],\n",
              "       [1.29237439e-15],\n",
              "       [1.00000000e+00],\n",
              "       [9.16227639e-01],\n",
              "       [1.27159536e-08],\n",
              "       [7.02918291e-01],\n",
              "       [1.00000000e+00],\n",
              "       [1.00000000e+00],\n",
              "       [3.42860878e-01],\n",
              "       [6.88418378e-10],\n",
              "       [5.03789447e-13],\n",
              "       [6.63384162e-06],\n",
              "       [3.29271685e-08],\n",
              "       [1.36939224e-08],\n",
              "       [1.43367993e-08],\n",
              "       [1.00000000e+00],\n",
              "       [1.00000000e+00],\n",
              "       [1.51195032e-19],\n",
              "       [6.99086547e-01],\n",
              "       [1.13233678e-01],\n",
              "       [7.21401516e-09],\n",
              "       [1.00000000e+00],\n",
              "       [1.00000000e+00],\n",
              "       [1.00000000e+00],\n",
              "       [9.88198221e-01],\n",
              "       [6.92098467e-09],\n",
              "       [1.00000000e+00],\n",
              "       [9.10062983e-04],\n",
              "       [3.52750778e-01],\n",
              "       [1.00000000e+00],\n",
              "       [5.67179561e-01],\n",
              "       [1.00000000e+00],\n",
              "       [1.00000000e+00],\n",
              "       [1.15344108e-15],\n",
              "       [1.12899717e-04],\n",
              "       [7.85680895e-11],\n",
              "       [1.22566850e-17],\n",
              "       [1.00000000e+00],\n",
              "       [1.00000000e+00],\n",
              "       [1.15298992e-02],\n",
              "       [1.00000000e+00],\n",
              "       [1.21033468e-19],\n",
              "       [8.09330700e-08],\n",
              "       [1.32298577e-13],\n",
              "       [9.94771898e-01],\n",
              "       [4.72918880e-04],\n",
              "       [9.99876022e-01],\n",
              "       [8.33153919e-08],\n",
              "       [1.00000000e+00],\n",
              "       [1.70373067e-01],\n",
              "       [9.94537175e-01],\n",
              "       [1.17048630e-05],\n",
              "       [9.99999762e-01],\n",
              "       [9.97449458e-01],\n",
              "       [2.10486073e-03],\n",
              "       [1.00000000e+00],\n",
              "       [9.04762692e-06],\n",
              "       [2.41113141e-12],\n",
              "       [1.00000000e+00],\n",
              "       [1.43611248e-06],\n",
              "       [1.00000000e+00],\n",
              "       [2.17573117e-07],\n",
              "       [5.13234468e-08],\n",
              "       [1.00000000e+00],\n",
              "       [4.59908126e-14],\n",
              "       [2.52325472e-09],\n",
              "       [9.99999642e-01],\n",
              "       [9.50617075e-01],\n",
              "       [2.64113293e-20],\n",
              "       [7.65673028e-12],\n",
              "       [6.95540558e-09],\n",
              "       [1.00000000e+00],\n",
              "       [1.00000000e+00],\n",
              "       [9.73451257e-01],\n",
              "       [2.30056321e-05],\n",
              "       [9.85493243e-01],\n",
              "       [4.14506901e-10],\n",
              "       [5.64283342e-12],\n",
              "       [1.00000000e+00],\n",
              "       [1.00000000e+00],\n",
              "       [4.77914420e-13],\n",
              "       [1.00000000e+00],\n",
              "       [1.00000000e+00],\n",
              "       [9.99839187e-01],\n",
              "       [1.55208964e-22],\n",
              "       [2.34954996e-14],\n",
              "       [1.00000000e+00],\n",
              "       [1.00000000e+00],\n",
              "       [4.98598150e-04],\n",
              "       [1.15395791e-08],\n",
              "       [2.18554400e-03],\n",
              "       [1.00000000e+00],\n",
              "       [8.06363379e-11],\n",
              "       [9.99699831e-01],\n",
              "       [1.00000000e+00],\n",
              "       [1.00000000e+00],\n",
              "       [1.00000000e+00],\n",
              "       [2.66310796e-08],\n",
              "       [5.36093956e-13],\n",
              "       [2.67948940e-06],\n",
              "       [9.99999523e-01],\n",
              "       [3.52946860e-21],\n",
              "       [1.97325556e-09],\n",
              "       [1.00000000e+00],\n",
              "       [2.74888130e-08],\n",
              "       [6.15027726e-01],\n",
              "       [1.00000000e+00],\n",
              "       [1.42892468e-15],\n",
              "       [1.00000000e+00],\n",
              "       [2.28590557e-13],\n",
              "       [1.00000000e+00],\n",
              "       [8.30921703e-14],\n",
              "       [1.00000000e+00],\n",
              "       [9.99991179e-01],\n",
              "       [9.99999523e-01],\n",
              "       [7.22998694e-15],\n",
              "       [1.50172291e-10],\n",
              "       [1.00000000e+00],\n",
              "       [3.37371658e-11],\n",
              "       [3.96569203e-06],\n",
              "       [5.57012982e-07],\n",
              "       [1.00000000e+00],\n",
              "       [1.55256016e-11],\n",
              "       [4.65000434e-13],\n",
              "       [1.00000000e+00],\n",
              "       [1.00000000e+00],\n",
              "       [3.04009884e-09],\n",
              "       [5.52867651e-01],\n",
              "       [1.00000000e+00],\n",
              "       [1.00000000e+00],\n",
              "       [9.88649011e-01],\n",
              "       [6.38668280e-05],\n",
              "       [7.23332510e-15],\n",
              "       [1.00000000e+00],\n",
              "       [1.00000000e+00],\n",
              "       [6.85746855e-08],\n",
              "       [9.98099625e-01],\n",
              "       [6.40195212e-05],\n",
              "       [9.99999762e-01],\n",
              "       [4.99243324e-05],\n",
              "       [2.44952542e-20],\n",
              "       [2.73256242e-01],\n",
              "       [9.62622015e-25],\n",
              "       [1.00000000e+00],\n",
              "       [9.99999285e-01],\n",
              "       [1.00000000e+00],\n",
              "       [3.85594540e-24],\n",
              "       [2.87117583e-08],\n",
              "       [2.94541991e-08],\n",
              "       [9.42833960e-01],\n",
              "       [9.99732673e-01],\n",
              "       [1.00000000e+00],\n",
              "       [1.43321399e-17],\n",
              "       [1.00000000e+00],\n",
              "       [1.00000000e+00],\n",
              "       [9.99563515e-01],\n",
              "       [9.99991655e-01],\n",
              "       [9.99933124e-01],\n",
              "       [1.00000000e+00],\n",
              "       [1.00000000e+00],\n",
              "       [1.00000000e+00],\n",
              "       [1.00000000e+00],\n",
              "       [4.91678547e-05],\n",
              "       [1.00000000e+00],\n",
              "       [6.05330765e-02],\n",
              "       [1.76361238e-14],\n",
              "       [1.00000000e+00],\n",
              "       [6.54431656e-02],\n",
              "       [1.00000000e+00],\n",
              "       [1.00000000e+00],\n",
              "       [1.15263159e-08],\n",
              "       [1.73976211e-09],\n",
              "       [1.00000000e+00],\n",
              "       [1.20662111e-08],\n",
              "       [9.99999285e-01],\n",
              "       [9.50426038e-05],\n",
              "       [1.00000000e+00],\n",
              "       [1.00000000e+00],\n",
              "       [2.70480872e-03],\n",
              "       [1.00000000e+00],\n",
              "       [8.31663419e-11],\n",
              "       [1.34500398e-04],\n",
              "       [7.23175824e-01],\n",
              "       [9.98061955e-01],\n",
              "       [1.00000000e+00],\n",
              "       [1.00000000e+00],\n",
              "       [1.00000000e+00],\n",
              "       [9.99986768e-01],\n",
              "       [1.43544351e-21],\n",
              "       [1.00000000e+00],\n",
              "       [1.00000000e+00],\n",
              "       [1.00000000e+00],\n",
              "       [1.00000000e+00],\n",
              "       [1.00000000e+00],\n",
              "       [1.01468669e-11],\n",
              "       [1.20456226e-01],\n",
              "       [2.56306681e-14],\n",
              "       [1.61224693e-01],\n",
              "       [1.00000000e+00],\n",
              "       [9.42261096e-08],\n",
              "       [6.52931340e-05],\n",
              "       [1.00000000e+00],\n",
              "       [1.00000000e+00],\n",
              "       [3.08727815e-13],\n",
              "       [9.97547686e-01],\n",
              "       [1.00000000e+00],\n",
              "       [1.00000000e+00],\n",
              "       [4.23776569e-08],\n",
              "       [1.23910956e-01],\n",
              "       [1.00000000e+00],\n",
              "       [1.23113887e-06],\n",
              "       [3.99017590e-05],\n",
              "       [8.80727112e-01],\n",
              "       [1.00000000e+00],\n",
              "       [1.00000000e+00],\n",
              "       [1.00000000e+00],\n",
              "       [9.99999523e-01],\n",
              "       [1.00000000e+00],\n",
              "       [1.00000000e+00],\n",
              "       [1.00000000e+00],\n",
              "       [2.37361950e-04],\n",
              "       [4.39876363e-22],\n",
              "       [3.72069736e-12],\n",
              "       [9.99999881e-01],\n",
              "       [3.76806929e-05],\n",
              "       [8.29505146e-01],\n",
              "       [5.99320140e-03],\n",
              "       [1.05913049e-17],\n",
              "       [7.00634580e-21],\n",
              "       [3.70925689e-14],\n",
              "       [1.00000000e+00],\n",
              "       [1.00000000e+00],\n",
              "       [4.45227015e-11],\n",
              "       [3.10743962e-06],\n",
              "       [9.49853042e-04],\n",
              "       [9.89711523e-01],\n",
              "       [9.99999285e-01],\n",
              "       [1.00000000e+00],\n",
              "       [4.81854383e-11],\n",
              "       [1.00000000e+00],\n",
              "       [1.00000000e+00],\n",
              "       [1.00000000e+00],\n",
              "       [1.00000000e+00],\n",
              "       [9.97224808e-01],\n",
              "       [9.99998927e-01],\n",
              "       [1.35013746e-04],\n",
              "       [1.84842641e-10],\n",
              "       [1.00000000e+00],\n",
              "       [2.71493303e-16],\n",
              "       [1.00000000e+00],\n",
              "       [1.00000000e+00],\n",
              "       [5.72944969e-10],\n",
              "       [1.00000000e+00],\n",
              "       [3.77795584e-02],\n",
              "       [5.25233436e-22],\n",
              "       [1.59602444e-19],\n",
              "       [1.00000000e+00],\n",
              "       [9.99994040e-01],\n",
              "       [1.00000000e+00],\n",
              "       [9.99995589e-01],\n",
              "       [8.03987803e-07],\n",
              "       [1.00000000e+00],\n",
              "       [1.00000000e+00],\n",
              "       [1.04620068e-09],\n",
              "       [1.42059122e-17],\n",
              "       [3.51573810e-08],\n",
              "       [1.00000000e+00],\n",
              "       [9.18007223e-04],\n",
              "       [1.00000000e+00],\n",
              "       [2.26256539e-04],\n",
              "       [1.10986264e-06],\n",
              "       [1.00000000e+00],\n",
              "       [1.00000000e+00],\n",
              "       [1.00000000e+00],\n",
              "       [1.00000000e+00],\n",
              "       [9.99997854e-01],\n",
              "       [2.14566045e-10],\n",
              "       [1.05682351e-02],\n",
              "       [3.44664136e-06],\n",
              "       [9.69303492e-03],\n",
              "       [1.00000000e+00],\n",
              "       [2.70388318e-06],\n",
              "       [4.98863392e-06],\n",
              "       [5.74212335e-03],\n",
              "       [2.96628651e-15],\n",
              "       [9.99997735e-01],\n",
              "       [1.00000000e+00],\n",
              "       [3.13569726e-10],\n",
              "       [1.00000000e+00],\n",
              "       [7.20887000e-13],\n",
              "       [9.99953032e-01],\n",
              "       [1.00000000e+00],\n",
              "       [1.00000000e+00],\n",
              "       [1.00000000e+00],\n",
              "       [1.30092439e-11],\n",
              "       [1.11724321e-05],\n",
              "       [3.97401756e-08],\n",
              "       [1.09636309e-02],\n",
              "       [1.00000000e+00],\n",
              "       [2.28107572e-13],\n",
              "       [3.56091214e-13],\n",
              "       [6.19899869e-01],\n",
              "       [1.00000000e+00],\n",
              "       [1.00000000e+00],\n",
              "       [7.09982544e-07],\n",
              "       [2.81727484e-12],\n",
              "       [1.00000000e+00],\n",
              "       [3.51188106e-10],\n",
              "       [1.00000000e+00],\n",
              "       [7.09392244e-18],\n",
              "       [1.00000000e+00],\n",
              "       [5.24469370e-19],\n",
              "       [1.00000000e+00],\n",
              "       [1.00000000e+00],\n",
              "       [5.64540778e-06],\n",
              "       [1.00000000e+00],\n",
              "       [1.00000000e+00],\n",
              "       [1.01123938e-12],\n",
              "       [2.97908098e-09],\n",
              "       [9.99999881e-01],\n",
              "       [4.51535375e-13],\n",
              "       [5.68254777e-08],\n",
              "       [1.00000000e+00],\n",
              "       [9.99961019e-01],\n",
              "       [3.37103387e-07],\n",
              "       [1.76826911e-03],\n",
              "       [1.00000000e+00],\n",
              "       [1.69074279e-04],\n",
              "       [1.00000000e+00],\n",
              "       [9.99998569e-01],\n",
              "       [1.17273217e-07],\n",
              "       [1.00000000e+00],\n",
              "       [1.12334883e-03],\n",
              "       [1.00000000e+00],\n",
              "       [1.00000000e+00],\n",
              "       [4.41915058e-02],\n",
              "       [9.99999523e-01],\n",
              "       [4.26188352e-22],\n",
              "       [1.50340749e-02],\n",
              "       [9.99944568e-01],\n",
              "       [8.49482689e-08],\n",
              "       [1.00000000e+00],\n",
              "       [7.63571129e-24],\n",
              "       [2.48310280e-05],\n",
              "       [1.38280161e-08],\n",
              "       [7.43563100e-10],\n",
              "       [9.98634517e-01],\n",
              "       [9.99998450e-01],\n",
              "       [1.86015814e-06],\n",
              "       [4.41008341e-09],\n",
              "       [1.00000000e+00],\n",
              "       [1.00000000e+00],\n",
              "       [3.93070021e-09],\n",
              "       [2.26158202e-02],\n",
              "       [7.28991706e-15],\n",
              "       [7.37574877e-19],\n",
              "       [1.03963139e-07],\n",
              "       [1.00000000e+00],\n",
              "       [1.00000000e+00],\n",
              "       [2.13100811e-16],\n",
              "       [9.99973416e-01],\n",
              "       [1.00000000e+00],\n",
              "       [1.00000000e+00],\n",
              "       [1.00000000e+00],\n",
              "       [1.29824058e-21],\n",
              "       [2.05152570e-08],\n",
              "       [6.91446928e-07],\n",
              "       [1.00000000e+00],\n",
              "       [1.00000000e+00],\n",
              "       [2.01590478e-09],\n",
              "       [1.02212719e-13],\n",
              "       [4.40498574e-18],\n",
              "       [1.40952236e-10],\n",
              "       [7.69387114e-08],\n",
              "       [1.00000000e+00],\n",
              "       [4.67018452e-07],\n",
              "       [1.00000000e+00],\n",
              "       [1.00000000e+00],\n",
              "       [1.00000000e+00],\n",
              "       [4.52964865e-02],\n",
              "       [2.73139358e-05],\n",
              "       [1.00000000e+00],\n",
              "       [9.97876406e-01],\n",
              "       [1.00000000e+00],\n",
              "       [9.55278397e-01],\n",
              "       [4.80217968e-05],\n",
              "       [1.10314209e-02],\n",
              "       [6.66098954e-09],\n",
              "       [1.71367501e-04],\n",
              "       [1.79718518e-06],\n",
              "       [5.05934558e-18],\n",
              "       [1.00000000e+00],\n",
              "       [9.99967694e-01],\n",
              "       [1.28167379e-08],\n",
              "       [1.00000000e+00],\n",
              "       [1.00000000e+00],\n",
              "       [1.00000000e+00],\n",
              "       [1.00000000e+00],\n",
              "       [7.69109000e-04],\n",
              "       [3.50702620e-15],\n",
              "       [1.00000000e+00],\n",
              "       [1.00000000e+00],\n",
              "       [5.14741405e-04],\n",
              "       [3.01563763e-03],\n",
              "       [9.92986739e-01],\n",
              "       [1.00000000e+00],\n",
              "       [1.00000000e+00],\n",
              "       [6.78770562e-07],\n",
              "       [4.97832921e-16],\n",
              "       [9.99999762e-01],\n",
              "       [1.00000000e+00],\n",
              "       [1.00000000e+00],\n",
              "       [9.95485067e-01],\n",
              "       [1.00000000e+00],\n",
              "       [9.99554098e-01],\n",
              "       [3.09998067e-14],\n",
              "       [1.00000000e+00],\n",
              "       [9.62825611e-22],\n",
              "       [7.47149873e-14],\n",
              "       [3.67863686e-04],\n",
              "       [2.27844077e-09],\n",
              "       [3.44710934e-14],\n",
              "       [8.24110866e-01],\n",
              "       [2.49528534e-13],\n",
              "       [3.11860675e-15],\n",
              "       [1.00000000e+00],\n",
              "       [1.00000000e+00],\n",
              "       [1.00000000e+00],\n",
              "       [1.00000000e+00],\n",
              "       [2.86404594e-10],\n",
              "       [4.98391539e-16],\n",
              "       [5.18235679e-15],\n",
              "       [7.89495219e-14],\n",
              "       [3.31930238e-07],\n",
              "       [1.00000000e+00],\n",
              "       [1.00000000e+00],\n",
              "       [9.99999881e-01],\n",
              "       [2.76086186e-19],\n",
              "       [1.00000000e+00],\n",
              "       [1.00000000e+00],\n",
              "       [1.68711995e-03],\n",
              "       [9.99800503e-01],\n",
              "       [1.62531680e-03],\n",
              "       [3.35354718e-29],\n",
              "       [9.45968262e-04],\n",
              "       [1.02941689e-04],\n",
              "       [9.99991894e-01],\n",
              "       [1.23445887e-14],\n",
              "       [1.55563455e-03],\n",
              "       [3.56847449e-04],\n",
              "       [1.00000000e+00],\n",
              "       [1.00000000e+00],\n",
              "       [3.62026213e-08],\n",
              "       [5.75150636e-07],\n",
              "       [9.99997973e-01],\n",
              "       [2.97317130e-13],\n",
              "       [1.26741090e-16],\n",
              "       [4.49347979e-04],\n",
              "       [1.00000000e+00],\n",
              "       [1.00000000e+00],\n",
              "       [6.64408668e-04],\n",
              "       [1.00000000e+00],\n",
              "       [2.58407965e-07],\n",
              "       [1.00000000e+00],\n",
              "       [1.00000000e+00],\n",
              "       [1.06047650e-10],\n",
              "       [1.16584682e-12],\n",
              "       [1.00000000e+00],\n",
              "       [1.16835956e-07],\n",
              "       [1.00000000e+00],\n",
              "       [1.43063952e-08],\n",
              "       [3.02645929e-11],\n",
              "       [1.10792082e-16],\n",
              "       [1.00000000e+00],\n",
              "       [1.00000000e+00],\n",
              "       [4.99348459e-07],\n",
              "       [8.98767531e-01],\n",
              "       [2.80454765e-06],\n",
              "       [5.57419181e-01],\n",
              "       [1.44249288e-08],\n",
              "       [4.69457218e-03],\n",
              "       [2.79899540e-19],\n",
              "       [1.00000000e+00],\n",
              "       [1.00000000e+00],\n",
              "       [2.59049147e-01],\n",
              "       [1.00000000e+00],\n",
              "       [9.11374986e-01],\n",
              "       [1.00000000e+00],\n",
              "       [1.00000000e+00],\n",
              "       [1.00000000e+00],\n",
              "       [1.00000000e+00],\n",
              "       [1.00000000e+00],\n",
              "       [1.72596304e-09],\n",
              "       [2.05542208e-04],\n",
              "       [4.30490435e-15],\n",
              "       [1.00000000e+00],\n",
              "       [1.00000000e+00],\n",
              "       [1.12816623e-16],\n",
              "       [9.99989510e-01],\n",
              "       [1.29613042e-01],\n",
              "       [9.97238345e-08],\n",
              "       [1.00000000e+00],\n",
              "       [2.18429612e-08],\n",
              "       [1.00000000e+00],\n",
              "       [4.77039963e-10],\n",
              "       [3.35820296e-24],\n",
              "       [2.40340747e-09],\n",
              "       [4.30145263e-07],\n",
              "       [1.00000000e+00],\n",
              "       [9.99792516e-01],\n",
              "       [1.00000000e+00],\n",
              "       [9.99999404e-01],\n",
              "       [1.00000000e+00],\n",
              "       [2.67152880e-11],\n",
              "       [7.56901283e-16],\n",
              "       [3.71042319e-04],\n",
              "       [1.00000000e+00],\n",
              "       [4.51905251e-08],\n",
              "       [9.99999881e-01],\n",
              "       [3.18672164e-07],\n",
              "       [6.13026014e-13],\n",
              "       [1.00000000e+00],\n",
              "       [9.99982238e-01],\n",
              "       [1.00000000e+00]], dtype=float32)"
            ]
          },
          "metadata": {
            "tags": []
          },
          "execution_count": 16
        }
      ]
    },
    {
      "cell_type": "code",
      "metadata": {
        "id": "rISsIePfaOfK"
      },
      "source": [
        ""
      ],
      "execution_count": null,
      "outputs": []
    }
  ]
}