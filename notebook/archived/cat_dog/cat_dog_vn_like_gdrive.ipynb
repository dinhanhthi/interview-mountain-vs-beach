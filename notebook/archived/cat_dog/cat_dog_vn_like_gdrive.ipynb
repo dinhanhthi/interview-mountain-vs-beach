{
  "nbformat": 4,
  "nbformat_minor": 0,
  "metadata": {
    "kernelspec": {
      "display_name": "Python 3",
      "language": "python",
      "name": "python3"
    },
    "language_info": {
      "codemirror_mode": {
        "name": "ipython",
        "version": 3
      },
      "file_extension": ".py",
      "mimetype": "text/x-python",
      "name": "python",
      "nbconvert_exporter": "python",
      "pygments_lexer": "ipython3",
      "version": "3.6.9"
    },
    "colab": {
      "name": "cat_dog_vn_like.ipynb",
      "provenance": [],
      "collapsed_sections": []
    },
    "accelerator": "GPU"
  },
  "cells": [
    {
      "cell_type": "markdown",
      "metadata": {
        "id": "40Qk7tGEOtTC"
      },
      "source": [
        "Ref: https://github.com/ReiCHU31/Cat-Dog-Classification-Flask-App/blob/master/Dog%20vs.%20Cat%20Classification%20CNN%20model.ipynb\n",
        "\n",
        "But we use the way of tf courses. The model is the same as in the above ref!"
      ]
    },
    {
      "cell_type": "code",
      "metadata": {
        "id": "xT-eRRDpOtTH"
      },
      "source": [
        "# In case: Not found: No algorithm worked!\n",
        "# In case: This is probably because cuDNN failed to initialize\n",
        "\n",
        "from tensorflow.compat.v1 import ConfigProto\n",
        "from tensorflow.compat.v1 import InteractiveSession\n",
        "\n",
        "config = ConfigProto()\n",
        "config.gpu_options.allow_growth = True\n",
        "session = InteractiveSession(config=config)"
      ],
      "execution_count": 1,
      "outputs": []
    },
    {
      "cell_type": "code",
      "metadata": {
        "id": "zR3EiDnMOtTI"
      },
      "source": [
        "import os\n",
        "import tensorflow as tf\n",
        "from tensorflow.keras import layers\n",
        "from tensorflow.keras import Model\n",
        "from tensorflow.keras import Sequential"
      ],
      "execution_count": 2,
      "outputs": []
    },
    {
      "cell_type": "code",
      "metadata": {
        "id": "1bLKIiYjOtTI"
      },
      "source": [
        "from tensorflow.keras.applications.mobilenet_v2 import MobileNetV2"
      ],
      "execution_count": 3,
      "outputs": []
    },
    {
      "cell_type": "code",
      "metadata": {
        "colab": {
          "base_uri": "https://localhost:8080/"
        },
        "id": "y8_hoKkpOtTJ",
        "outputId": "6e4dd555-5967-4b03-bbee-69015fbe6d9a"
      },
      "source": [
        "pre_trained_model = MobileNetV2(input_shape = (192, 192, 3),include_top = False)\n",
        "pre_trained_model.trainable = False\n",
        "\n",
        "# last_layer = pre_trained_model.get_layer('mixed7')\n",
        "# print('last layer output shape: ', last_layer.output_shape)\n",
        "# last_output = last_layer.output"
      ],
      "execution_count": 4,
      "outputs": [
        {
          "output_type": "stream",
          "text": [
            "Downloading data from https://storage.googleapis.com/tensorflow/keras-applications/mobilenet_v2/mobilenet_v2_weights_tf_dim_ordering_tf_kernels_1.0_192_no_top.h5\n",
            "9412608/9406464 [==============================] - 0s 0us/step\n"
          ],
          "name": "stdout"
        }
      ]
    },
    {
      "cell_type": "code",
      "metadata": {
        "colab": {
          "base_uri": "https://localhost:8080/"
        },
        "id": "iE6db4OSOtTK",
        "outputId": "0330b187-ab13-4863-86fb-0d89b7f15526"
      },
      "source": [
        "last_output = pre_trained_model.output\n",
        "last_output"
      ],
      "execution_count": 6,
      "outputs": [
        {
          "output_type": "execute_result",
          "data": {
            "text/plain": [
              "<KerasTensor: shape=(None, 6, 6, 1280) dtype=float32 (created by layer 'out_relu')>"
            ]
          },
          "metadata": {
            "tags": []
          },
          "execution_count": 6
        }
      ]
    },
    {
      "cell_type": "code",
      "metadata": {
        "id": "HAhLdShiOtTK"
      },
      "source": [
        "# pre_trained_model.summary()"
      ],
      "execution_count": null,
      "outputs": []
    },
    {
      "cell_type": "code",
      "metadata": {
        "id": "okE8X6pfOtTK"
      },
      "source": [
        "model = Sequential([\n",
        "    pre_trained_model,\n",
        "    layers.GlobalAveragePooling2D(),\n",
        "    layers.Flatten(),\n",
        "    layers.Dense(64, activation=\"relu\"),\n",
        "    layers.Dense(2, activation=\"softmax\")\n",
        "])"
      ],
      "execution_count": 7,
      "outputs": []
    },
    {
      "cell_type": "code",
      "metadata": {
        "colab": {
          "base_uri": "https://localhost:8080/"
        },
        "id": "AX6_jhtuOtTK",
        "outputId": "ac1e6244-d908-4ffa-9f76-fd8526b7f853"
      },
      "source": [
        "model.summary()"
      ],
      "execution_count": 8,
      "outputs": [
        {
          "output_type": "stream",
          "text": [
            "Model: \"sequential\"\n",
            "_________________________________________________________________\n",
            "Layer (type)                 Output Shape              Param #   \n",
            "=================================================================\n",
            "mobilenetv2_1.00_192 (Functi (None, 6, 6, 1280)        2257984   \n",
            "_________________________________________________________________\n",
            "global_average_pooling2d (Gl (None, 1280)              0         \n",
            "_________________________________________________________________\n",
            "flatten (Flatten)            (None, 1280)              0         \n",
            "_________________________________________________________________\n",
            "dense (Dense)                (None, 64)                81984     \n",
            "_________________________________________________________________\n",
            "dense_1 (Dense)              (None, 2)                 130       \n",
            "=================================================================\n",
            "Total params: 2,340,098\n",
            "Trainable params: 82,114\n",
            "Non-trainable params: 2,257,984\n",
            "_________________________________________________________________\n"
          ],
          "name": "stdout"
        }
      ]
    },
    {
      "cell_type": "code",
      "metadata": {
        "id": "QqRO2CCJOtTL"
      },
      "source": [
        "model.compile(optimizer=tf.keras.optimizers.Adam(),\n",
        "              loss='sparse_categorical_crossentropy',\n",
        "              metrics=[\"accuracy\"])"
      ],
      "execution_count": 9,
      "outputs": []
    },
    {
      "cell_type": "code",
      "metadata": {
        "colab": {
          "base_uri": "https://localhost:8080/"
        },
        "id": "KZUuEdtHOtTL",
        "outputId": "72dfcc5e-c8c9-40de-fe17-3c0479170e38"
      },
      "source": [
        "# data\n",
        "from tensorflow.keras.preprocessing.image import ImageDataGenerator\n",
        "# base_dir = '../dataset/cats_and_dogs_filtered'\n",
        "\n",
        "!wget --no-check-certificate \\\n",
        "        https://storage.googleapis.com/mledu-datasets/cats_and_dogs_filtered.zip \\\n",
        "       -O /tmp/cats_and_dogs_filtered.zip\n",
        "\n",
        "from tensorflow.keras.preprocessing.image import ImageDataGenerator\n",
        "\n",
        "import os\n",
        "import zipfile\n",
        "\n",
        "local_zip = '//tmp/cats_and_dogs_filtered.zip'\n",
        "\n",
        "zip_ref = zipfile.ZipFile(local_zip, 'r')\n",
        "\n",
        "zip_ref.extractall('/tmp')\n",
        "zip_ref.close()\n",
        "\n",
        "# Define our example directories and files\n",
        "base_dir = '/tmp/cats_and_dogs_filtered'\n",
        "\n",
        "train_dir = os.path.join( base_dir, 'train')\n",
        "validation_dir = os.path.join( base_dir, 'validation')\n",
        "\n",
        "train_cats_dir = os.path.join(train_dir, 'cats') # Directory with our training cat pictures\n",
        "train_dogs_dir = os.path.join(train_dir, 'dogs') # Directory with our training dog pictures\n",
        "validation_cats_dir = os.path.join(validation_dir, 'cats') # Directory with our validation cat pictures\n",
        "validation_dogs_dir = os.path.join(validation_dir, 'dogs')# Directory with our validation dog pictures\n",
        "\n",
        "# Add our data-augmentation parameters to ImageDataGenerator\n",
        "train_datagen = ImageDataGenerator(rescale = 1./255.,\n",
        "                                   rotation_range = 40,\n",
        "                                   width_shift_range = 0.2,\n",
        "                                   height_shift_range = 0.2,\n",
        "                                   shear_range = 0.2,\n",
        "                                   zoom_range = 0.2,\n",
        "                                   horizontal_flip = True)\n",
        "\n",
        "# Note that the validation data should not be augmented!\n",
        "test_datagen = ImageDataGenerator( rescale = 1.0/255. )\n",
        "\n",
        "# Flow training images in batches of 20 using train_datagen generator\n",
        "train_generator = train_datagen.flow_from_directory(train_dir,\n",
        "                                                    batch_size = 20,\n",
        "                                                    class_mode = 'binary', \n",
        "                                                    target_size = (192, 192))     \n",
        "\n",
        "# Flow validation images in batches of 20 using test_datagen generator\n",
        "validation_generator =  test_datagen.flow_from_directory( validation_dir,\n",
        "                                                          batch_size  = 20,\n",
        "                                                          class_mode  = 'binary', \n",
        "                                                          target_size = (192, 192))"
      ],
      "execution_count": 10,
      "outputs": [
        {
          "output_type": "stream",
          "text": [
            "--2021-01-11 16:17:06--  https://storage.googleapis.com/mledu-datasets/cats_and_dogs_filtered.zip\n",
            "Resolving storage.googleapis.com (storage.googleapis.com)... 74.125.142.128, 74.125.28.128, 74.125.20.128, ...\n",
            "Connecting to storage.googleapis.com (storage.googleapis.com)|74.125.142.128|:443... connected.\n",
            "HTTP request sent, awaiting response... 200 OK\n",
            "Length: 68606236 (65M) [application/zip]\n",
            "Saving to: ‘/tmp/cats_and_dogs_filtered.zip’\n",
            "\n",
            "/tmp/cats_and_dogs_ 100%[===================>]  65.43M   113MB/s    in 0.6s    \n",
            "\n",
            "2021-01-11 16:17:07 (113 MB/s) - ‘/tmp/cats_and_dogs_filtered.zip’ saved [68606236/68606236]\n",
            "\n",
            "Found 2000 images belonging to 2 classes.\n",
            "Found 1000 images belonging to 2 classes.\n"
          ],
          "name": "stdout"
        }
      ]
    },
    {
      "cell_type": "code",
      "metadata": {
        "id": "kSOu4_-SOtTM"
      },
      "source": [
        "# Define a Callback class that stops training once accuracy reaches 97.0%\n",
        "class myCallback(tf.keras.callbacks.Callback):\n",
        "    def on_epoch_end(self, epoch, logs={}):\n",
        "        if(logs.get('accuracy') is not None and logs.get('accuracy') > 0.98) :\n",
        "            print(\"\\nReached 97.0% accuracy so cancelling training!\")\n",
        "            self.model.stop_training = True\n",
        "\n",
        "my_callback = myCallback()"
      ],
      "execution_count": 14,
      "outputs": []
    },
    {
      "cell_type": "code",
      "metadata": {
        "colab": {
          "base_uri": "https://localhost:8080/"
        },
        "id": "iqNWvdLwOtTM",
        "outputId": "df767ccb-2d93-48d5-c0a3-55df24b04bab"
      },
      "source": [
        "history = model.fit(\n",
        "            train_generator,\n",
        "            validation_data = validation_generator,\n",
        "            steps_per_epoch = 100,\n",
        "            epochs = 20,\n",
        "            validation_steps = 50,\n",
        "            verbose = 2,\n",
        "            callbacks=[my_callback])"
      ],
      "execution_count": 15,
      "outputs": [
        {
          "output_type": "stream",
          "text": [
            "Epoch 1/20\n",
            "100/100 - 22s - loss: 0.1034 - accuracy: 0.9645 - val_loss: 0.0627 - val_accuracy: 0.9730\n",
            "Epoch 2/20\n",
            "100/100 - 21s - loss: 0.0928 - accuracy: 0.9650 - val_loss: 0.0773 - val_accuracy: 0.9700\n",
            "Epoch 3/20\n",
            "100/100 - 21s - loss: 0.1002 - accuracy: 0.9635 - val_loss: 0.0556 - val_accuracy: 0.9800\n",
            "Epoch 4/20\n",
            "100/100 - 21s - loss: 0.0890 - accuracy: 0.9635 - val_loss: 0.0543 - val_accuracy: 0.9770\n",
            "Epoch 5/20\n",
            "100/100 - 22s - loss: 0.0817 - accuracy: 0.9725 - val_loss: 0.1043 - val_accuracy: 0.9640\n",
            "Epoch 6/20\n",
            "100/100 - 21s - loss: 0.0850 - accuracy: 0.9640 - val_loss: 0.0536 - val_accuracy: 0.9820\n",
            "Epoch 7/20\n",
            "100/100 - 21s - loss: 0.0878 - accuracy: 0.9660 - val_loss: 0.0522 - val_accuracy: 0.9800\n",
            "Epoch 8/20\n",
            "100/100 - 21s - loss: 0.0668 - accuracy: 0.9750 - val_loss: 0.0522 - val_accuracy: 0.9790\n",
            "Epoch 9/20\n",
            "100/100 - 21s - loss: 0.0742 - accuracy: 0.9730 - val_loss: 0.0807 - val_accuracy: 0.9760\n",
            "Epoch 10/20\n",
            "100/100 - 21s - loss: 0.0665 - accuracy: 0.9730 - val_loss: 0.0568 - val_accuracy: 0.9760\n",
            "Epoch 11/20\n",
            "100/100 - 21s - loss: 0.0629 - accuracy: 0.9755 - val_loss: 0.0773 - val_accuracy: 0.9740\n",
            "Epoch 12/20\n",
            "100/100 - 22s - loss: 0.0644 - accuracy: 0.9780 - val_loss: 0.0625 - val_accuracy: 0.9780\n",
            "Epoch 13/20\n",
            "100/100 - 21s - loss: 0.0601 - accuracy: 0.9745 - val_loss: 0.0618 - val_accuracy: 0.9760\n",
            "Epoch 14/20\n",
            "100/100 - 21s - loss: 0.0517 - accuracy: 0.9790 - val_loss: 0.0650 - val_accuracy: 0.9760\n",
            "Epoch 15/20\n",
            "100/100 - 21s - loss: 0.0581 - accuracy: 0.9750 - val_loss: 0.0718 - val_accuracy: 0.9750\n",
            "Epoch 16/20\n",
            "100/100 - 22s - loss: 0.0589 - accuracy: 0.9760 - val_loss: 0.0864 - val_accuracy: 0.9690\n",
            "Epoch 17/20\n",
            "100/100 - 21s - loss: 0.0533 - accuracy: 0.9795 - val_loss: 0.0687 - val_accuracy: 0.9760\n",
            "Epoch 18/20\n",
            "100/100 - 21s - loss: 0.0518 - accuracy: 0.9785 - val_loss: 0.0654 - val_accuracy: 0.9770\n",
            "Epoch 19/20\n",
            "100/100 - 22s - loss: 0.0549 - accuracy: 0.9760 - val_loss: 0.0724 - val_accuracy: 0.9760\n",
            "Epoch 20/20\n",
            "100/100 - 22s - loss: 0.0486 - accuracy: 0.9790 - val_loss: 0.0849 - val_accuracy: 0.9790\n"
          ],
          "name": "stdout"
        }
      ]
    },
    {
      "cell_type": "code",
      "metadata": {
        "colab": {
          "base_uri": "https://localhost:8080/",
          "height": 298
        },
        "id": "sTVBew7sOtTN",
        "outputId": "a139b9af-7806-4d8d-f776-a3627655b65b"
      },
      "source": [
        "%matplotlib inline\n",
        "import matplotlib.pyplot as plt\n",
        "acc = history.history['accuracy']\n",
        "val_acc = history.history['val_accuracy']\n",
        "loss = history.history['loss']\n",
        "val_loss = history.history['val_loss']\n",
        "\n",
        "epochs = range(len(acc))\n",
        "\n",
        "plt.plot(epochs, acc, 'r', label='Training accuracy')\n",
        "plt.plot(epochs, val_acc, 'b', label='Validation accuracy')\n",
        "plt.title('Training and validation accuracy')\n",
        "plt.legend(loc=0)\n",
        "plt.figure()\n",
        "plt.show()"
      ],
      "execution_count": 18,
      "outputs": [
        {
          "output_type": "display_data",
          "data": {
            "image/png": "[encoded data removed]",
            "text/plain": [
              "<Figure size 432x288 with 1 Axes>"
            ]
          },
          "metadata": {
            "tags": [],
            "needs_background": "light"
          }
        },
        {
          "output_type": "display_data",
          "data": {
            "text/plain": [
              "<Figure size 432x288 with 0 Axes>"
            ]
          },
          "metadata": {
            "tags": []
          }
        }
      ]
    },
    {
      "cell_type": "code",
      "metadata": {
        "colab": {
          "base_uri": "https://localhost:8080/",
          "height": 298
        },
        "id": "n6szNxkPPrux",
        "outputId": "c05266e1-51af-4324-9540-5fcfe78f55ac"
      },
      "source": [
        "epochs = range(len(loss))\n",
        "\n",
        "plt.plot(epochs, loss, 'r', label='Training loss')\n",
        "plt.plot(epochs, val_loss, 'b', label='Validation loss')\n",
        "plt.title('Training and validation loss')\n",
        "plt.legend(loc=0)\n",
        "plt.figure()\n",
        "plt.show()"
      ],
      "execution_count": 19,
      "outputs": [
        {
          "output_type": "display_data",
          "data": {
            "image/png": "[encoded data removed]",
            "text/plain": [
              "<Figure size 432x288 with 1 Axes>"
            ]
          },
          "metadata": {
            "tags": [],
            "needs_background": "light"
          }
        },
        {
          "output_type": "display_data",
          "data": {
            "text/plain": [
              "<Figure size 432x288 with 0 Axes>"
            ]
          },
          "metadata": {
            "tags": []
          }
        }
      ]
    },
    {
      "cell_type": "code",
      "metadata": {
        "colab": {
          "base_uri": "https://localhost:8080/"
        },
        "id": "7EvkBUBrRJuU",
        "outputId": "ae5f68ac-e48b-4da2-f367-52ec6055a4f8"
      },
      "source": [
        "from google.colab import drive\n",
        "# drive.mount('/content/drive')\n",
        "drive.mount(\"/content/drive\", force_remount=True)"
      ],
      "execution_count": 16,
      "outputs": [
        {
          "output_type": "stream",
          "text": [
            "Mounted at /content/drive\n"
          ],
          "name": "stdout"
        }
      ]
    },
    {
      "cell_type": "code",
      "metadata": {
        "colab": {
          "base_uri": "https://localhost:8080/"
        },
        "id": "NjlFx8MGRKOK",
        "outputId": "dabf7fde-7c9e-4fd6-c6df-5d520a7c3d6f"
      },
      "source": [
        "model.save(\"drive/MyDrive/ML_colab/save/cat_dog/SavedModel_cat_dog_vn_like\")\n",
        "model.save(\"drive/MyDrive/ML_colab/save/cat_dog/model_cat_dog_vn_like.h5\")"
      ],
      "execution_count": 17,
      "outputs": [
        {
          "output_type": "stream",
          "text": [
            "INFO:tensorflow:Assets written to: drive/MyDrive/ML_colab/save/cat_dog/SavedModel_cat_dog_vn_like/assets\n"
          ],
          "name": "stdout"
        }
      ]
    },
    {
      "cell_type": "code",
      "metadata": {
        "colab": {
          "base_uri": "https://localhost:8080/"
        },
        "id": "qFt5_iifRnH5",
        "outputId": "2077f320-cf89-472f-cff6-d033cbcfc575"
      },
      "source": [
        "labels = (validation_generator.class_indices)\n",
        "labels = dict((v,k) for k,v in labels.items())\n",
        "labels"
      ],
      "execution_count": 20,
      "outputs": [
        {
          "output_type": "execute_result",
          "data": {
            "text/plain": [
              "{0: 'cats', 1: 'dogs'}"
            ]
          },
          "metadata": {
            "tags": []
          },
          "execution_count": 20
        }
      ]
    },
    {
      "cell_type": "code",
      "metadata": {
        "colab": {
          "base_uri": "https://localhost:8080/"
        },
        "id": "DzbxgcRXSEOJ",
        "outputId": "d9410f1f-fcc0-4752-ef03-ff9e2e3b604e"
      },
      "source": [
        "steps = validation_generator.n // validation_generator.batch_size\n",
        "steps"
      ],
      "execution_count": 22,
      "outputs": [
        {
          "output_type": "execute_result",
          "data": {
            "text/plain": [
              "50"
            ]
          },
          "metadata": {
            "tags": []
          },
          "execution_count": 22
        }
      ]
    },
    {
      "cell_type": "code",
      "metadata": {
        "id": "ZH-8Ek5ZSHZB"
      },
      "source": [
        "import numpy as np"
      ],
      "execution_count": 24,
      "outputs": []
    },
    {
      "cell_type": "code",
      "metadata": {
        "colab": {
          "base_uri": "https://localhost:8080/"
        },
        "id": "zZpEeG5NR8_e",
        "outputId": "6279409e-d379-4838-ee28-126e252152b0"
      },
      "source": [
        "validation_generator.reset()\n",
        "pred = model.predict(validation_generator, steps=steps, verbose=1)\n",
        "predicted_class_indices=np.argmax(pred,axis=1)\n",
        "predictions = [labels[k] for k in predicted_class_indices]\n",
        "predicted_class_indices"
      ],
      "execution_count": 25,
      "outputs": [
        {
          "output_type": "stream",
          "text": [
            "50/50 [==============================] - 3s 62ms/step\n"
          ],
          "name": "stdout"
        },
        {
          "output_type": "execute_result",
          "data": {
            "text/plain": [
              "array([1, 1, 0, 1, 0, 0, 0, 1, 1, 1, 0, 1, 0, 0, 1, 0, 0, 0, 0, 1, 1, 0,\n",
              "       0, 1, 1, 1, 1, 1, 0, 0, 1, 1, 1, 1, 1, 1, 0, 1, 0, 1, 1, 0, 0, 1,\n",
              "       0, 1, 1, 0, 0, 0, 0, 0, 0, 0, 1, 0, 0, 1, 1, 1, 0, 1, 0, 0, 0, 1,\n",
              "       0, 0, 1, 0, 0, 0, 1, 0, 1, 1, 0, 0, 1, 1, 0, 1, 0, 0, 1, 0, 1, 1,\n",
              "       0, 0, 1, 0, 1, 0, 1, 0, 1, 0, 0, 1, 1, 0, 0, 1, 0, 1, 1, 0, 0, 1,\n",
              "       0, 1, 0, 0, 0, 1, 0, 1, 0, 1, 1, 0, 1, 1, 1, 1, 0, 1, 0, 1, 0, 1,\n",
              "       0, 0, 0, 1, 1, 1, 1, 0, 1, 0, 1, 0, 0, 0, 0, 1, 0, 1, 1, 1, 1, 1,\n",
              "       0, 0, 0, 1, 1, 0, 0, 1, 1, 0, 1, 0, 0, 0, 1, 1, 0, 1, 1, 1, 0, 1,\n",
              "       0, 1, 1, 0, 1, 0, 1, 0, 0, 0, 1, 1, 0, 0, 0, 1, 1, 0, 1, 0, 0, 1,\n",
              "       1, 0, 1, 0, 1, 1, 0, 0, 0, 0, 0, 1, 0, 1, 0, 0, 0, 0, 0, 1, 1, 1,\n",
              "       1, 0, 0, 1, 0, 0, 1, 1, 1, 1, 1, 0, 1, 0, 1, 0, 0, 0, 0, 0, 0, 0,\n",
              "       1, 0, 0, 1, 0, 1, 1, 0, 0, 1, 0, 0, 1, 1, 1, 1, 1, 0, 0, 1, 1, 1,\n",
              "       0, 1, 0, 1, 1, 1, 0, 0, 1, 1, 0, 0, 1, 0, 0, 1, 0, 1, 1, 0, 1, 1,\n",
              "       1, 0, 0, 0, 1, 1, 1, 1, 0, 1, 0, 1, 0, 0, 0, 0, 1, 0, 1, 1, 1, 0,\n",
              "       1, 0, 1, 1, 0, 1, 1, 1, 1, 0, 1, 0, 0, 0, 0, 1, 1, 1, 1, 0, 1, 1,\n",
              "       0, 1, 0, 1, 1, 0, 0, 1, 0, 1, 0, 0, 1, 1, 1, 1, 0, 1, 1, 0, 0, 1,\n",
              "       0, 1, 0, 1, 1, 0, 0, 0, 0, 0, 0, 1, 0, 0, 0, 1, 0, 1, 1, 1, 0, 0,\n",
              "       0, 1, 0, 0, 1, 0, 0, 0, 0, 0, 1, 1, 0, 0, 0, 1, 0, 0, 1, 1, 0, 0,\n",
              "       1, 0, 0, 1, 0, 0, 1, 0, 1, 1, 0, 1, 0, 1, 0, 0, 1, 1, 1, 1, 0, 0,\n",
              "       0, 0, 1, 0, 0, 0, 1, 1, 0, 1, 0, 1, 0, 1, 0, 0, 0, 1, 1, 0, 0, 1,\n",
              "       1, 1, 1, 0, 0, 1, 1, 1, 1, 0, 0, 0, 1, 0, 0, 1, 1, 0, 1, 1, 1, 1,\n",
              "       0, 1, 0, 0, 0, 0, 1, 1, 0, 1, 1, 0, 0, 1, 0, 1, 0, 0, 1, 0, 0, 0,\n",
              "       1, 0, 1, 0, 1, 1, 1, 1, 0, 0, 0, 1, 0, 1, 0, 1, 0, 1, 1, 0, 1, 1,\n",
              "       1, 1, 0, 1, 0, 1, 0, 0, 1, 0, 0, 0, 0, 0, 1, 1, 0, 1, 0, 1, 0, 1,\n",
              "       0, 1, 0, 1, 1, 0, 0, 1, 1, 0, 1, 1, 0, 0, 0, 0, 0, 1, 0, 0, 0, 0,\n",
              "       1, 0, 1, 1, 0, 0, 0, 1, 0, 0, 0, 1, 0, 0, 1, 0, 0, 0, 1, 0, 0, 1,\n",
              "       0, 1, 0, 0, 0, 0, 1, 1, 0, 0, 0, 0, 0, 1, 1, 1, 1, 0, 0, 1, 1, 1,\n",
              "       0, 1, 1, 1, 1, 0, 0, 1, 1, 0, 0, 1, 1, 1, 1, 1, 0, 1, 1, 0, 0, 1,\n",
              "       0, 1, 0, 0, 1, 1, 1, 0, 0, 1, 1, 1, 0, 1, 0, 0, 1, 1, 1, 1, 1, 0,\n",
              "       0, 1, 0, 1, 0, 1, 0, 0, 0, 1, 0, 1, 1, 1, 0, 0, 0, 0, 1, 1, 1, 1,\n",
              "       1, 0, 1, 0, 0, 0, 0, 1, 1, 1, 0, 0, 0, 1, 1, 0, 1, 0, 0, 1, 0, 1,\n",
              "       0, 0, 1, 0, 1, 1, 1, 1, 1, 0, 1, 1, 1, 0, 0, 1, 0, 0, 0, 1, 0, 1,\n",
              "       1, 1, 0, 1, 0, 1, 0, 1, 0, 1, 0, 1, 1, 0, 0, 0, 1, 0, 1, 1, 0, 0,\n",
              "       0, 1, 0, 1, 0, 1, 0, 1, 1, 0, 0, 0, 1, 0, 0, 1, 1, 1, 0, 1, 0, 1,\n",
              "       0, 0, 0, 1, 1, 0, 0, 1, 1, 0, 1, 0, 0, 1, 1, 1, 1, 1, 1, 1, 0, 0,\n",
              "       1, 0, 1, 1, 1, 1, 1, 0, 0, 0, 0, 1, 1, 1, 1, 0, 1, 0, 0, 1, 0, 1,\n",
              "       0, 1, 0, 0, 1, 1, 0, 1, 0, 0, 1, 1, 0, 1, 1, 1, 1, 1, 1, 1, 1, 0,\n",
              "       1, 0, 0, 1, 0, 1, 1, 1, 1, 1, 0, 1, 0, 1, 0, 1, 0, 1, 1, 1, 1, 1,\n",
              "       1, 0, 0, 0, 0, 0, 0, 1, 1, 1, 0, 0, 1, 1, 0, 0, 0, 1, 0, 1, 1, 0,\n",
              "       0, 1, 1, 0, 0, 1, 1, 0, 0, 1, 0, 0, 0, 1, 1, 0, 1, 1, 1, 0, 1, 1,\n",
              "       1, 0, 1, 1, 0, 1, 1, 1, 1, 0, 1, 1, 1, 1, 1, 1, 1, 0, 0, 1, 0, 0,\n",
              "       0, 1, 0, 0, 1, 1, 1, 1, 1, 1, 0, 0, 1, 1, 0, 1, 1, 0, 1, 0, 1, 0,\n",
              "       1, 1, 1, 0, 1, 1, 1, 1, 0, 0, 1, 1, 1, 1, 0, 1, 1, 1, 0, 0, 0, 1,\n",
              "       0, 1, 1, 1, 1, 0, 1, 0, 1, 0, 1, 1, 0, 1, 1, 1, 0, 1, 1, 0, 0, 1,\n",
              "       0, 1, 0, 0, 0, 0, 1, 1, 1, 1, 0, 0, 0, 0, 0, 1, 0, 1, 0, 0, 1, 1,\n",
              "       1, 1, 0, 1, 0, 1, 0, 0, 1, 1])"
            ]
          },
          "metadata": {
            "tags": []
          },
          "execution_count": 25
        }
      ]
    },
    {
      "cell_type": "code",
      "metadata": {
        "colab": {
          "base_uri": "https://localhost:8080/"
        },
        "id": "CJoiVIaNTvfW",
        "outputId": "77cc435f-5a99-4d8e-971a-5ab30c9a591b"
      },
      "source": [
        "pred"
      ],
      "execution_count": 33,
      "outputs": [
        {
          "output_type": "execute_result",
          "data": {
            "text/plain": [
              "array([[3.1802916e-05, 9.9996817e-01],\n",
              "       [5.4915092e-04, 9.9945086e-01],\n",
              "       [6.5454996e-01, 3.4545004e-01],\n",
              "       ...,\n",
              "       [9.9999285e-01, 7.2005860e-06],\n",
              "       [4.1285999e-05, 9.9995875e-01],\n",
              "       [1.5065670e-05, 9.9998498e-01]], dtype=float32)"
            ]
          },
          "metadata": {
            "tags": []
          },
          "execution_count": 33
        }
      ]
    },
    {
      "cell_type": "code",
      "metadata": {
        "colab": {
          "base_uri": "https://localhost:8080/"
        },
        "id": "DLhC19ZoSBRT",
        "outputId": "a051e17b-a6c5-473b-9ecb-0d4be5eba336"
      },
      "source": [
        "# file_path = '../dataset/cats_and_dogs_filtered/test/' # current dir\n",
        "from tensorflow.keras.preprocessing import image\n",
        "file_path = \"drive/MyDrive/ML_colab/dataset/test_cat_dog/\"\n",
        "test_files = os.listdir(file_path)\n",
        "\n",
        "for file in test_files:\n",
        "    # predicting images\n",
        "    path=file_path + file\n",
        "    img=image.load_img(path, target_size=(192, 192))\n",
        "\n",
        "    x=image.img_to_array(img)\n",
        "    x=np.expand_dims(x, axis=0)\n",
        "    images = np.vstack([x])\n",
        "\n",
        "    classes = model.predict(images, batch_size=10)\n",
        "    classes = np.argmax(classes, axis=0)\n",
        "\n",
        "    print(classes[0])\n",
        "\n",
        "    if classes[0]>0:\n",
        "        print(file + \" is a dog\")\n",
        "\n",
        "    else:\n",
        "        print(file + \" is a cat\")"
      ],
      "execution_count": 36,
      "outputs": [
        {
          "output_type": "stream",
          "text": [
            "0\n",
            "dog4.jpeg is a cat\n",
            "0\n",
            "dog1.jpg is a cat\n",
            "0\n",
            "dog3.jpg is a cat\n",
            "0\n",
            "dog2.jpg is a cat\n",
            "0\n",
            "cat.jpeg is a cat\n",
            "0\n",
            "cat_2.jpeg is a cat\n"
          ],
          "name": "stdout"
        }
      ]
    },
    {
      "cell_type": "code",
      "metadata": {
        "id": "3o9CiUBiSjff"
      },
      "source": [
        ""
      ],
      "execution_count": null,
      "outputs": []
    },
    {
      "cell_type": "code",
      "metadata": {
        "colab": {
          "base_uri": "https://localhost:8080/"
        },
        "id": "3s9VWIDnTRU1",
        "outputId": "1f48e0f8-a177-4a73-b0ca-6c250c4ff4c4"
      },
      "source": [
        "path = \"drive/MyDrive/ML_colab/dataset/test_cat_dog/cat.jpeg\"\n",
        "img = image.load_img(path, target_size=(150, 150))\n",
        "x = image.img_to_array(img)\n",
        "x = np.expand_dims(x, axis=0)\n",
        "images = np.vstack([x])\n",
        "\n",
        "classes = model.predict(images)\n",
        "classes"
      ],
      "execution_count": 32,
      "outputs": [
        {
          "output_type": "execute_result",
          "data": {
            "text/plain": [
              "array([[0.6790887 , 0.32091123]], dtype=float32)"
            ]
          },
          "metadata": {
            "tags": []
          },
          "execution_count": 32
        }
      ]
    },
    {
      "cell_type": "code",
      "metadata": {
        "id": "aWgP0klBTXo5"
      },
      "source": [
        ""
      ],
      "execution_count": null,
      "outputs": []
    }
  ]
}