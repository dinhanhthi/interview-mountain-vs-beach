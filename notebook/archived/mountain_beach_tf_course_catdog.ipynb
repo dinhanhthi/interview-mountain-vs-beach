{
 "cells": [
  {
   "cell_type": "markdown",
   "metadata": {
    "id": "zox1hWwnXBj8"
   },
   "source": [
    "## Refs\n",
    "\n",
    "Follow notebook `cat_dog_transfer_learning.ipynb`"
   ]
  },
  {
   "cell_type": "code",
   "execution_count": null,
   "metadata": {
    "colab": {
     "base_uri": "https://localhost:8080/"
    },
    "id": "WzZWQdbvXNYZ",
    "outputId": "b976e183-87ed-45b6-c655-6719c41d80b1"
   },
   "outputs": [
    {
     "name": "stdout",
     "output_type": "stream",
     "text": [
      "Mounted at /content/drive\n"
     ]
    }
   ],
   "source": [
    "# from google.colab import drive\n",
    "# # drive.mount('/content/drive')\n",
    "# drive.mount(\"/content/drive\", force_remount=True)"
   ]
  },
  {
   "cell_type": "code",
   "execution_count": 1,
   "metadata": {
    "colab": {
     "base_uri": "https://localhost:8080/"
    },
    "id": "XRBpJ2bkeFD_",
    "outputId": "cfa91fe2-e418-47dc-bf4e-5c0887e45ac4"
   },
   "outputs": [
    {
     "name": "stdout",
     "output_type": "stream",
     "text": [
      "dataset  datasetbeach_mountain\tpretrained  save\n"
     ]
    }
   ],
   "source": [
    "# !ls drive/MyDrive/ML_colab/"
   ]
  },
  {
   "cell_type": "code",
   "execution_count": 1,
   "metadata": {},
   "outputs": [],
   "source": [
    "from tensorflow.compat.v1 import ConfigProto\n",
    "from tensorflow.compat.v1 import InteractiveSession\n",
    "\n",
    "config = ConfigProto()\n",
    "config.gpu_options.allow_growth = True\n",
    "session = InteractiveSession(config=config)"
   ]
  },
  {
   "cell_type": "code",
   "execution_count": 3,
   "metadata": {
    "id": "ANT4DKquXBkE"
   },
   "outputs": [],
   "source": [
    "import os\n",
    "\n",
    "import tensorflow as tf\n",
    "from tensorflow.keras import layers\n",
    "from tensorflow.keras import Model\n",
    "from tensorflow.keras.optimizers import RMSprop\n",
    "from tensorflow.keras.preprocessing.image import ImageDataGenerator"
   ]
  },
  {
   "cell_type": "code",
   "execution_count": 4,
   "metadata": {
    "id": "Oqrf_5zUXBkG"
   },
   "outputs": [],
   "source": [
    "from tensorflow.keras.applications.inception_v3 import InceptionV3"
   ]
  },
  {
   "cell_type": "code",
   "execution_count": 5,
   "metadata": {
    "id": "WuLo_QcJXBkG"
   },
   "outputs": [],
   "source": [
    "# local_weights_file = '../pretrained/inception_v3_weights_tf_dim_ordering_tf_kernels_notop.h5'\n",
    "# local_weights_file = 'drive/MyDrive/ML_colab/pretrained/inception_v3_weights_tf_dim_ordering_tf_kernels_notop.h5'"
   ]
  },
  {
   "cell_type": "code",
   "execution_count": 6,
   "metadata": {
    "colab": {
     "base_uri": "https://localhost:8080/"
    },
    "id": "zI33-oaMXBkG",
    "outputId": "192acf92-bc36-48e5-e11b-e717caa0b508"
   },
   "outputs": [],
   "source": [
    "im_dim = (200, 200)\n",
    "pre_trained_model = InceptionV3(input_shape = (200, 200, 3), \n",
    "                                include_top = False, \n",
    "                                weights = \"imagenet\")\n",
    "\n",
    "# pre_trained_model.load_weights(local_weights_file)\n",
    "\n",
    "for layer in pre_trained_model.layers:\n",
    "    layer.trainable = False\n",
    "\n",
    "# pre_trained_model.summary()"
   ]
  },
  {
   "cell_type": "code",
   "execution_count": 8,
   "metadata": {},
   "outputs": [
    {
     "name": "stdout",
     "output_type": "stream",
     "text": [
      "last layer output shape:  (None, 10, 10, 768)\n"
     ]
    }
   ],
   "source": [
    "last_layer = pre_trained_model.get_layer('mixed7')\n",
    "print('last layer output shape: ', last_layer.output_shape)\n",
    "last_output = last_layer.output"
   ]
  },
  {
   "cell_type": "code",
   "execution_count": 9,
   "metadata": {
    "id": "J1Ol2A4uXBkI"
   },
   "outputs": [],
   "source": [
    "# Flatten the output layer to 1 dimension\n",
    "x = layers.Flatten()(last_output)\n",
    "# Add a fully connected layer with 1,024 hidden units and ReLU activation\n",
    "x = layers.Dense(512, activation='relu')(x)\n",
    "# Add a dropout rate of 0.2\n",
    "x = layers.Dropout(0.2)(x)                  \n",
    "# Add a final sigmoid layer for classification\n",
    "x = layers.Dense  (1, activation='sigmoid')(x)           \n",
    "\n",
    "model = Model( pre_trained_model.input, x) \n",
    "\n",
    "model.compile(optimizer = RMSprop(lr=1e-5), \n",
    "              loss = 'binary_crossentropy', \n",
    "              metrics = ['accuracy'])"
   ]
  },
  {
   "cell_type": "code",
   "execution_count": null,
   "metadata": {
    "id": "bT47ENDpZjTy"
   },
   "outputs": [],
   "source": [
    "# !mv drive/MyDrive/ML_colab/datasetbeach_mountain/beach_mountain drive/MyDrive/ML_colab/dataset/"
   ]
  },
  {
   "cell_type": "code",
   "execution_count": 7,
   "metadata": {
    "id": "eDO1gUnDZEpd"
   },
   "outputs": [],
   "source": [
    "# only on colab\n",
    "# import zipfile\n",
    "\n",
    "# dataset_dir = 'drive/MyDrive/ML_colab/dataset'\n",
    "# zip_file = dataset_dir + '/beach_mountain.zip'\n",
    "# zip_ref = zipfile.ZipFile(zip_file, 'r')\n",
    "# zip_ref.extractall(dataset_dir+'/b_m')\n",
    "# zip_ref.close()"
   ]
  },
  {
   "cell_type": "code",
   "execution_count": 10,
   "metadata": {
    "colab": {
     "base_uri": "https://localhost:8080/"
    },
    "id": "Wwy65VcwgwkE",
    "outputId": "3975ddc8-101d-4ce1-e36f-bc46ff78e920"
   },
   "outputs": [
    {
     "name": "stdout",
     "output_type": "stream",
     "text": [
      "train  validation\n"
     ]
    }
   ],
   "source": [
    "# !ls drive/MyDrive/ML_colab/dataset/b_m/beach_mountain/"
   ]
  },
  {
   "cell_type": "code",
   "execution_count": null,
   "metadata": {
    "id": "RzD6FmaYgjs6"
   },
   "outputs": [],
   "source": [
    "# %%time\n",
    "# import zipfile\n",
    "\n",
    "# dataset_dir = 'drive/MyDrive/ML_colab/dataset'\n",
    "# zip_file = dataset_dir + '/beach_mountain.zip'\n",
    "# zip_ref = zipfile.ZipFile(zip_file, 'r')\n",
    "# zip_ref.extractall(\"/tmp\")\n",
    "# zip_ref.close()"
   ]
  },
  {
   "cell_type": "code",
   "execution_count": 10,
   "metadata": {
    "id": "8e1MeiziXBkI"
   },
   "outputs": [],
   "source": [
    "# local data\n",
    "\n",
    "base_dir = \"../dataset/beach_mountain\"\n",
    "# base_dir = \"drive/MyDrive/ML_colab/dataset/beach_mountain\"\n",
    "# base_dir = \"drive/MyDrive/ML_colab/dataset/b_m/beach_mountain/\"\n",
    "\n",
    "train_dir = os.path.join(base_dir, 'train')\n",
    "validation_dir = os.path.join(base_dir, 'validation')\n",
    "test_dir = os.path.join(base_dir, 'test')\n",
    "\n",
    "test_dir = os.path.join(base_dir, 'test_2')\n",
    "\n",
    "train_beach_dir = os.path.join(train_dir, 'beach')\n",
    "train_moutain_dir = os.path.join(train_dir, 'mountain')\n",
    "\n",
    "validation_beach_dir = os.path.join(validation_dir, 'beach')\n",
    "validation_mountain_dir = os.path.join(validation_dir, 'mountain')\n",
    "\n",
    "test_beach_dir = os.path.join(test_dir, 'beach')\n",
    "test_moutain_dir = os.path.join(test_dir, 'mountain')"
   ]
  },
  {
   "cell_type": "code",
   "execution_count": 11,
   "metadata": {
    "colab": {
     "base_uri": "https://localhost:8080/"
    },
    "id": "OqujO8RLXBkJ",
    "outputId": "aee36064-cb7f-4fea-893a-e31edb307ca8"
   },
   "outputs": [
    {
     "name": "stdout",
     "output_type": "stream",
     "text": [
      "Found 9000 images belonging to 2 classes.\n",
      "Found 1000 images belonging to 2 classes.\n",
      "Found 200 images belonging to 2 classes.\n"
     ]
    }
   ],
   "source": [
    "train_datagen = ImageDataGenerator(rescale = 1./255.,\n",
    "                                   rotation_range = 40,\n",
    "                                   width_shift_range = 0.2,\n",
    "                                   height_shift_range = 0.2,\n",
    "                                   shear_range = 0.2,\n",
    "                                   zoom_range = 0.2,\n",
    "                                   horizontal_flip = True)\n",
    "\n",
    "test_datagen = ImageDataGenerator(rescale = 1.0/255.)\n",
    "\n",
    "batch_size = 50\n",
    "train_generator = train_datagen.flow_from_directory(train_dir,\n",
    "                                                    batch_size = batch_size,\n",
    "                                                    class_mode = 'binary', \n",
    "                                                    target_size = im_dim)\n",
    "\n",
    "validation_generator =  test_datagen.flow_from_directory(validation_dir,\n",
    "                                                         batch_size  = batch_size,\n",
    "                                                         class_mode  = 'binary', \n",
    "                                                         target_size = im_dim)\n",
    "\n",
    "test_generator =  test_datagen.flow_from_directory(test_dir,\n",
    "                                                         batch_size  = batch_size,\n",
    "                                                         class_mode  = 'binary', \n",
    "                                                         target_size = im_dim)"
   ]
  },
  {
   "cell_type": "code",
   "execution_count": 13,
   "metadata": {
    "id": "YrhUKao-XBkK"
   },
   "outputs": [],
   "source": [
    "class myCallback(tf.keras.callbacks.Callback):\n",
    "    def on_epoch_end(self, epoch, logs={}):\n",
    "        if(logs.get('val_accuracy') is not None and logs.get('val_accuracy') > 0.96) :\n",
    "            print(\"\\nReached 96.0% accuracy so cancelling training!\")\n",
    "            self.model.stop_training = True\n",
    "\n",
    "my_callback = myCallback()"
   ]
  },
  {
   "cell_type": "code",
   "execution_count": 14,
   "metadata": {
    "colab": {
     "base_uri": "https://localhost:8080/"
    },
    "id": "pkhkqKcGXBkK",
    "outputId": "b909fbea-d208-42a6-d2e2-86bcd6e9230f"
   },
   "outputs": [
    {
     "name": "stdout",
     "output_type": "stream",
     "text": [
      "Epoch 1/100\n",
      "20/20 - 14s - loss: 0.5051 - accuracy: 0.7520 - val_loss: 0.3327 - val_accuracy: 0.8890\n",
      "Epoch 2/100\n",
      "20/20 - 9s - loss: 0.3821 - accuracy: 0.8370 - val_loss: 0.2636 - val_accuracy: 0.9050\n",
      "Epoch 3/100\n",
      "20/20 - 9s - loss: 0.3201 - accuracy: 0.8760 - val_loss: 0.2246 - val_accuracy: 0.9170\n",
      "Epoch 4/100\n",
      "20/20 - 9s - loss: 0.2957 - accuracy: 0.8790 - val_loss: 0.2116 - val_accuracy: 0.9170\n",
      "Epoch 5/100\n",
      "20/20 - 9s - loss: 0.2495 - accuracy: 0.9030 - val_loss: 0.1904 - val_accuracy: 0.9240\n",
      "Epoch 6/100\n",
      "20/20 - 9s - loss: 0.2482 - accuracy: 0.8990 - val_loss: 0.1827 - val_accuracy: 0.9320\n",
      "Epoch 7/100\n",
      "20/20 - 9s - loss: 0.2558 - accuracy: 0.8860 - val_loss: 0.1801 - val_accuracy: 0.9310\n",
      "Epoch 8/100\n",
      "20/20 - 9s - loss: 0.2470 - accuracy: 0.8990 - val_loss: 0.1939 - val_accuracy: 0.9260\n",
      "Epoch 9/100\n",
      "20/20 - 9s - loss: 0.2605 - accuracy: 0.8910 - val_loss: 0.1729 - val_accuracy: 0.9340\n",
      "Epoch 10/100\n",
      "20/20 - 9s - loss: 0.2366 - accuracy: 0.9060 - val_loss: 0.1697 - val_accuracy: 0.9380\n",
      "Epoch 11/100\n",
      "20/20 - 9s - loss: 0.2711 - accuracy: 0.8860 - val_loss: 0.1935 - val_accuracy: 0.9200\n",
      "Epoch 12/100\n",
      "20/20 - 9s - loss: 0.2506 - accuracy: 0.8990 - val_loss: 0.1774 - val_accuracy: 0.9320\n",
      "Epoch 13/100\n",
      "20/20 - 9s - loss: 0.2157 - accuracy: 0.9170 - val_loss: 0.1701 - val_accuracy: 0.9340\n",
      "Epoch 14/100\n",
      "20/20 - 9s - loss: 0.2548 - accuracy: 0.8990 - val_loss: 0.1643 - val_accuracy: 0.9420\n",
      "Epoch 15/100\n",
      "20/20 - 9s - loss: 0.2517 - accuracy: 0.8990 - val_loss: 0.1620 - val_accuracy: 0.9460\n",
      "Epoch 16/100\n",
      "20/20 - 9s - loss: 0.2419 - accuracy: 0.8970 - val_loss: 0.1566 - val_accuracy: 0.9460\n",
      "Epoch 17/100\n",
      "20/20 - 9s - loss: 0.2482 - accuracy: 0.9040 - val_loss: 0.1697 - val_accuracy: 0.9310\n",
      "Epoch 18/100\n",
      "20/20 - 9s - loss: 0.2330 - accuracy: 0.9060 - val_loss: 0.1556 - val_accuracy: 0.9460\n",
      "Epoch 19/100\n",
      "20/20 - 9s - loss: 0.2258 - accuracy: 0.9140 - val_loss: 0.1556 - val_accuracy: 0.9480\n",
      "Epoch 20/100\n",
      "20/20 - 9s - loss: 0.2241 - accuracy: 0.9220 - val_loss: 0.1733 - val_accuracy: 0.9290\n",
      "Epoch 21/100\n",
      "20/20 - 9s - loss: 0.2398 - accuracy: 0.8980 - val_loss: 0.1561 - val_accuracy: 0.9460\n",
      "Epoch 22/100\n",
      "20/20 - 9s - loss: 0.2199 - accuracy: 0.9150 - val_loss: 0.1558 - val_accuracy: 0.9440\n",
      "Epoch 23/100\n",
      "20/20 - 9s - loss: 0.2204 - accuracy: 0.9080 - val_loss: 0.1515 - val_accuracy: 0.9480\n",
      "Epoch 24/100\n",
      "20/20 - 9s - loss: 0.2198 - accuracy: 0.9170 - val_loss: 0.1603 - val_accuracy: 0.9380\n",
      "Epoch 25/100\n",
      "20/20 - 9s - loss: 0.2433 - accuracy: 0.9010 - val_loss: 0.1564 - val_accuracy: 0.9500\n",
      "Epoch 26/100\n",
      "20/20 - 9s - loss: 0.2258 - accuracy: 0.9130 - val_loss: 0.1667 - val_accuracy: 0.9380\n",
      "Epoch 27/100\n",
      "20/20 - 9s - loss: 0.2006 - accuracy: 0.9180 - val_loss: 0.1536 - val_accuracy: 0.9480\n",
      "Epoch 28/100\n",
      "20/20 - 9s - loss: 0.2138 - accuracy: 0.9070 - val_loss: 0.1546 - val_accuracy: 0.9440\n",
      "Epoch 29/100\n",
      "20/20 - 9s - loss: 0.1637 - accuracy: 0.9390 - val_loss: 0.1576 - val_accuracy: 0.9450\n",
      "Epoch 30/100\n",
      "20/20 - 9s - loss: 0.2039 - accuracy: 0.9230 - val_loss: 0.1646 - val_accuracy: 0.9400\n",
      "Epoch 31/100\n",
      "20/20 - 9s - loss: 0.2079 - accuracy: 0.9190 - val_loss: 0.1518 - val_accuracy: 0.9440\n",
      "Epoch 32/100\n",
      "20/20 - 9s - loss: 0.1899 - accuracy: 0.9260 - val_loss: 0.1559 - val_accuracy: 0.9430\n",
      "Epoch 33/100\n",
      "20/20 - 9s - loss: 0.2256 - accuracy: 0.9030 - val_loss: 0.1537 - val_accuracy: 0.9420\n",
      "Epoch 34/100\n",
      "20/20 - 9s - loss: 0.1930 - accuracy: 0.9220 - val_loss: 0.1558 - val_accuracy: 0.9400\n",
      "Epoch 35/100\n",
      "20/20 - 9s - loss: 0.2106 - accuracy: 0.9130 - val_loss: 0.1556 - val_accuracy: 0.9430\n",
      "Epoch 36/100\n",
      "20/20 - 9s - loss: 0.2021 - accuracy: 0.9290 - val_loss: 0.1697 - val_accuracy: 0.9370\n",
      "Epoch 37/100\n",
      "20/20 - 9s - loss: 0.2452 - accuracy: 0.9010 - val_loss: 0.1524 - val_accuracy: 0.9520\n",
      "Epoch 38/100\n",
      "20/20 - 9s - loss: 0.2023 - accuracy: 0.9230 - val_loss: 0.1498 - val_accuracy: 0.9440\n",
      "Epoch 39/100\n",
      "20/20 - 9s - loss: 0.2111 - accuracy: 0.9120 - val_loss: 0.1514 - val_accuracy: 0.9490\n",
      "Epoch 40/100\n",
      "20/20 - 9s - loss: 0.2076 - accuracy: 0.9220 - val_loss: 0.1524 - val_accuracy: 0.9460\n",
      "Epoch 41/100\n",
      "20/20 - 9s - loss: 0.2175 - accuracy: 0.9090 - val_loss: 0.1455 - val_accuracy: 0.9490\n",
      "Epoch 42/100\n",
      "20/20 - 9s - loss: 0.2178 - accuracy: 0.9220 - val_loss: 0.1499 - val_accuracy: 0.9480\n",
      "Epoch 43/100\n",
      "20/20 - 9s - loss: 0.2013 - accuracy: 0.9150 - val_loss: 0.1506 - val_accuracy: 0.9470\n",
      "Epoch 44/100\n",
      "20/20 - 9s - loss: 0.2504 - accuracy: 0.8930 - val_loss: 0.1524 - val_accuracy: 0.9490\n",
      "Epoch 45/100\n",
      "20/20 - 9s - loss: 0.1844 - accuracy: 0.9330 - val_loss: 0.1515 - val_accuracy: 0.9490\n",
      "Epoch 46/100\n",
      "20/20 - 9s - loss: 0.1908 - accuracy: 0.9270 - val_loss: 0.1531 - val_accuracy: 0.9460\n",
      "Epoch 47/100\n",
      "20/20 - 9s - loss: 0.1894 - accuracy: 0.9330 - val_loss: 0.1659 - val_accuracy: 0.9390\n",
      "Epoch 48/100\n",
      "20/20 - 9s - loss: 0.1877 - accuracy: 0.9330 - val_loss: 0.1521 - val_accuracy: 0.9470\n",
      "Epoch 49/100\n",
      "20/20 - 9s - loss: 0.2421 - accuracy: 0.9110 - val_loss: 0.1546 - val_accuracy: 0.9480\n",
      "Epoch 50/100\n",
      "20/20 - 9s - loss: 0.2104 - accuracy: 0.9090 - val_loss: 0.1540 - val_accuracy: 0.9470\n",
      "Epoch 51/100\n",
      "20/20 - 9s - loss: 0.1773 - accuracy: 0.9400 - val_loss: 0.1492 - val_accuracy: 0.9490\n",
      "Epoch 52/100\n",
      "20/20 - 9s - loss: 0.2323 - accuracy: 0.9090 - val_loss: 0.1459 - val_accuracy: 0.9480\n",
      "Epoch 53/100\n",
      "20/20 - 9s - loss: 0.1807 - accuracy: 0.9340 - val_loss: 0.1791 - val_accuracy: 0.9280\n",
      "Epoch 54/100\n",
      "20/20 - 9s - loss: 0.2128 - accuracy: 0.9150 - val_loss: 0.1478 - val_accuracy: 0.9470\n",
      "Epoch 55/100\n",
      "20/20 - 9s - loss: 0.1913 - accuracy: 0.9260 - val_loss: 0.1510 - val_accuracy: 0.9460\n",
      "Epoch 56/100\n",
      "20/20 - 9s - loss: 0.1992 - accuracy: 0.9230 - val_loss: 0.1576 - val_accuracy: 0.9450\n",
      "Epoch 57/100\n",
      "20/20 - 9s - loss: 0.2295 - accuracy: 0.9080 - val_loss: 0.1535 - val_accuracy: 0.9510\n",
      "Epoch 58/100\n",
      "20/20 - 9s - loss: 0.2106 - accuracy: 0.9160 - val_loss: 0.1467 - val_accuracy: 0.9500\n",
      "Epoch 59/100\n",
      "20/20 - 9s - loss: 0.1917 - accuracy: 0.9220 - val_loss: 0.1512 - val_accuracy: 0.9490\n",
      "Epoch 60/100\n",
      "20/20 - 9s - loss: 0.1853 - accuracy: 0.9310 - val_loss: 0.1485 - val_accuracy: 0.9480\n",
      "Epoch 61/100\n",
      "20/20 - 9s - loss: 0.2238 - accuracy: 0.9050 - val_loss: 0.1468 - val_accuracy: 0.9460\n",
      "Epoch 62/100\n",
      "20/20 - 9s - loss: 0.1848 - accuracy: 0.9250 - val_loss: 0.1455 - val_accuracy: 0.9490\n",
      "Epoch 63/100\n",
      "20/20 - 9s - loss: 0.1727 - accuracy: 0.9280 - val_loss: 0.1506 - val_accuracy: 0.9480\n",
      "Epoch 64/100\n",
      "20/20 - 9s - loss: 0.2180 - accuracy: 0.9160 - val_loss: 0.1459 - val_accuracy: 0.9500\n",
      "Epoch 65/100\n",
      "20/20 - 9s - loss: 0.1989 - accuracy: 0.9160 - val_loss: 0.1488 - val_accuracy: 0.9480\n",
      "Epoch 66/100\n",
      "20/20 - 9s - loss: 0.1746 - accuracy: 0.9330 - val_loss: 0.1549 - val_accuracy: 0.9430\n",
      "Epoch 67/100\n",
      "20/20 - 9s - loss: 0.1830 - accuracy: 0.9400 - val_loss: 0.1491 - val_accuracy: 0.9480\n",
      "Epoch 68/100\n",
      "20/20 - 9s - loss: 0.2004 - accuracy: 0.9250 - val_loss: 0.1571 - val_accuracy: 0.9470\n",
      "Epoch 69/100\n",
      "20/20 - 9s - loss: 0.1947 - accuracy: 0.9260 - val_loss: 0.1493 - val_accuracy: 0.9470\n",
      "Epoch 70/100\n",
      "20/20 - 9s - loss: 0.2306 - accuracy: 0.9100 - val_loss: 0.1476 - val_accuracy: 0.9490\n",
      "Epoch 71/100\n",
      "20/20 - 9s - loss: 0.1864 - accuracy: 0.9260 - val_loss: 0.1510 - val_accuracy: 0.9460\n",
      "Epoch 72/100\n",
      "20/20 - 9s - loss: 0.1812 - accuracy: 0.9320 - val_loss: 0.1469 - val_accuracy: 0.9490\n",
      "Epoch 73/100\n",
      "20/20 - 9s - loss: 0.2283 - accuracy: 0.9160 - val_loss: 0.1519 - val_accuracy: 0.9460\n",
      "Epoch 74/100\n",
      "20/20 - 9s - loss: 0.2200 - accuracy: 0.9130 - val_loss: 0.1461 - val_accuracy: 0.9490\n",
      "Epoch 75/100\n",
      "20/20 - 9s - loss: 0.2058 - accuracy: 0.9250 - val_loss: 0.1473 - val_accuracy: 0.9470\n",
      "Epoch 76/100\n",
      "20/20 - 9s - loss: 0.1988 - accuracy: 0.9260 - val_loss: 0.1521 - val_accuracy: 0.9450\n",
      "Epoch 77/100\n",
      "20/20 - 9s - loss: 0.1905 - accuracy: 0.9260 - val_loss: 0.1442 - val_accuracy: 0.9480\n",
      "Epoch 78/100\n",
      "20/20 - 9s - loss: 0.2008 - accuracy: 0.9120 - val_loss: 0.1441 - val_accuracy: 0.9460\n",
      "Epoch 79/100\n",
      "20/20 - 9s - loss: 0.2095 - accuracy: 0.9240 - val_loss: 0.1482 - val_accuracy: 0.9480\n",
      "Epoch 80/100\n",
      "20/20 - 9s - loss: 0.1544 - accuracy: 0.9450 - val_loss: 0.1462 - val_accuracy: 0.9470\n",
      "Epoch 81/100\n",
      "20/20 - 9s - loss: 0.1560 - accuracy: 0.9490 - val_loss: 0.1547 - val_accuracy: 0.9470\n",
      "Epoch 82/100\n",
      "20/20 - 9s - loss: 0.1738 - accuracy: 0.9250 - val_loss: 0.1489 - val_accuracy: 0.9460\n",
      "Epoch 83/100\n",
      "20/20 - 9s - loss: 0.1657 - accuracy: 0.9330 - val_loss: 0.1477 - val_accuracy: 0.9450\n",
      "Epoch 84/100\n",
      "20/20 - 9s - loss: 0.1827 - accuracy: 0.9280 - val_loss: 0.1436 - val_accuracy: 0.9470\n",
      "Epoch 85/100\n",
      "20/20 - 9s - loss: 0.2084 - accuracy: 0.9140 - val_loss: 0.1483 - val_accuracy: 0.9470\n",
      "Epoch 86/100\n",
      "20/20 - 9s - loss: 0.1907 - accuracy: 0.9230 - val_loss: 0.1419 - val_accuracy: 0.9470\n",
      "Epoch 87/100\n",
      "20/20 - 9s - loss: 0.1891 - accuracy: 0.9260 - val_loss: 0.1438 - val_accuracy: 0.9490\n",
      "Epoch 88/100\n",
      "20/20 - 9s - loss: 0.1940 - accuracy: 0.9160 - val_loss: 0.1466 - val_accuracy: 0.9450\n",
      "Epoch 89/100\n",
      "20/20 - 9s - loss: 0.1810 - accuracy: 0.9240 - val_loss: 0.1464 - val_accuracy: 0.9500\n",
      "Epoch 90/100\n",
      "20/20 - 9s - loss: 0.2021 - accuracy: 0.9230 - val_loss: 0.1462 - val_accuracy: 0.9490\n",
      "Epoch 91/100\n",
      "20/20 - 9s - loss: 0.1820 - accuracy: 0.9220 - val_loss: 0.1467 - val_accuracy: 0.9490\n",
      "Epoch 92/100\n",
      "20/20 - 9s - loss: 0.1688 - accuracy: 0.9300 - val_loss: 0.1631 - val_accuracy: 0.9340\n",
      "Epoch 93/100\n",
      "20/20 - 9s - loss: 0.1676 - accuracy: 0.9320 - val_loss: 0.1533 - val_accuracy: 0.9460\n",
      "Epoch 94/100\n",
      "20/20 - 9s - loss: 0.2072 - accuracy: 0.9150 - val_loss: 0.1492 - val_accuracy: 0.9400\n",
      "Epoch 95/100\n",
      "20/20 - 9s - loss: 0.1931 - accuracy: 0.9200 - val_loss: 0.1549 - val_accuracy: 0.9390\n",
      "Epoch 96/100\n",
      "20/20 - 9s - loss: 0.1780 - accuracy: 0.9290 - val_loss: 0.1436 - val_accuracy: 0.9470\n",
      "Epoch 97/100\n",
      "20/20 - 9s - loss: 0.1702 - accuracy: 0.9400 - val_loss: 0.1594 - val_accuracy: 0.9370\n",
      "Epoch 98/100\n",
      "20/20 - 9s - loss: 0.2007 - accuracy: 0.9240 - val_loss: 0.1478 - val_accuracy: 0.9490\n",
      "Epoch 99/100\n",
      "20/20 - 9s - loss: 0.1860 - accuracy: 0.9290 - val_loss: 0.1460 - val_accuracy: 0.9440\n",
      "Epoch 100/100\n",
      "20/20 - 9s - loss: 0.1991 - accuracy: 0.9280 - val_loss: 0.1522 - val_accuracy: 0.9390\n"
     ]
    }
   ],
   "source": [
    "history = model.fit(\n",
    "            train_generator,\n",
    "            validation_data = validation_generator,\n",
    "            steps_per_epoch = validation_generator.n//validation_generator.batch_size,\n",
    "            epochs = 100,\n",
    "            validation_steps = validation_generator.n//validation_generator.batch_size,\n",
    "            verbose = 2,\n",
    "            callbacks=[my_callback])"
   ]
  },
  {
   "cell_type": "code",
   "execution_count": 15,
   "metadata": {
    "colab": {
     "base_uri": "https://localhost:8080/",
     "height": 298
    },
    "id": "KbTIzHqXXBkK",
    "outputId": "3cbfc65f-b03c-487c-cbca-d513439bf272"
   },
   "outputs": [
    {
     "data": {
      "image/png": "[encoded data removed]",
      "text/plain": [
       "<Figure size 432x288 with 1 Axes>"
      ]
     },
     "metadata": {
      "needs_background": "light"
     },
     "output_type": "display_data"
    },
    {
     "data": {
      "text/plain": [
       "<Figure size 432x288 with 0 Axes>"
      ]
     },
     "metadata": {},
     "output_type": "display_data"
    }
   ],
   "source": [
    "%matplotlib inline\n",
    "import matplotlib.pyplot as plt\n",
    "acc = history.history['accuracy']\n",
    "val_acc = history.history['val_accuracy']\n",
    "loss = history.history['loss']\n",
    "val_loss = history.history['val_loss']\n",
    "\n",
    "# loss\n",
    "epochs = range(len(loss))\n",
    "plt.plot(epochs, loss, 'r', label='Training loss')\n",
    "plt.plot(epochs, val_loss, 'b', label='Validation loss')\n",
    "plt.title('Training and validation loss')\n",
    "plt.legend(loc=0)\n",
    "plt.figure()\n",
    "plt.show()"
   ]
  },
  {
   "cell_type": "code",
   "execution_count": 16,
   "metadata": {},
   "outputs": [
    {
     "data": {
      "image/png": "[encoded data removed]",
      "text/plain": [
       "<Figure size 432x288 with 1 Axes>"
      ]
     },
     "metadata": {
      "needs_background": "light"
     },
     "output_type": "display_data"
    },
    {
     "data": {
      "text/plain": [
       "<Figure size 432x288 with 0 Axes>"
      ]
     },
     "metadata": {},
     "output_type": "display_data"
    }
   ],
   "source": [
    "# accuracy\n",
    "epochs = range(len(acc))\n",
    "plt.plot(epochs, acc, 'r', label='Training accuracy')\n",
    "plt.plot(epochs, val_acc, 'b', label='Validation accuracy')\n",
    "plt.title('Training and validation accuracy')\n",
    "plt.legend(loc=0)\n",
    "plt.figure()\n",
    "plt.show()"
   ]
  },
  {
   "cell_type": "code",
   "execution_count": 44,
   "metadata": {},
   "outputs": [
    {
     "name": "stdout",
     "output_type": "stream",
     "text": [
      "4/4 [==============================] - 1s 113ms/step - loss: 0.1857 - accuracy: 0.9350\n"
     ]
    },
    {
     "data": {
      "text/plain": [
       "[0.1857421100139618, 0.9350000023841858]"
      ]
     },
     "execution_count": 44,
     "metadata": {},
     "output_type": "execute_result"
    }
   ],
   "source": [
    "test_generator.reset()\n",
    "model.evaluate(test_generator)"
   ]
  },
  {
   "cell_type": "code",
   "execution_count": 56,
   "metadata": {},
   "outputs": [
    {
     "name": "stdout",
     "output_type": "stream",
     "text": [
      "Found 10 images belonging to 2 classes.\n",
      "1/1 [==============================] - 1s 884ms/step - loss: 0.4551 - accuracy: 0.8000\n"
     ]
    },
    {
     "data": {
      "text/plain": [
       "[0.4551108479499817, 0.800000011920929]"
      ]
     },
     "execution_count": 56,
     "metadata": {},
     "output_type": "execute_result"
    }
   ],
   "source": [
    "test_dir = os.path.join(base_dir, 'internet')\n",
    "\n",
    "test_datagen = ImageDataGenerator(rescale = 1.0/255.)\n",
    "\n",
    "test_beach_dir = os.path.join(test_dir, 'beach')\n",
    "test_moutain_dir = os.path.join(test_dir, 'mountain')\n",
    "\n",
    "test_generator =  test_datagen.flow_from_directory(test_dir,\n",
    "                                                         batch_size  = batch_size,\n",
    "                                                         class_mode  = 'binary', \n",
    "                                                         target_size = im_dim)\n",
    "\n",
    "test_generator.reset()\n",
    "model.evaluate(test_generator)"
   ]
  },
  {
   "cell_type": "code",
   "execution_count": 20,
   "metadata": {},
   "outputs": [
    {
     "data": {
      "text/plain": [
       "{0: 'beach', 1: 'mountain'}"
      ]
     },
     "execution_count": 20,
     "metadata": {},
     "output_type": "execute_result"
    }
   ],
   "source": [
    "# check the labels\n",
    "labels = (train_generator.class_indices)\n",
    "labels = dict((v,k) for k,v in labels.items())\n",
    "labels"
   ]
  },
  {
   "cell_type": "code",
   "execution_count": 21,
   "metadata": {},
   "outputs": [],
   "source": [
    "import numpy as np"
   ]
  },
  {
   "cell_type": "code",
   "execution_count": 75,
   "metadata": {},
   "outputs": [
    {
     "name": "stdout",
     "output_type": "stream",
     "text": [
      "1/1 [==============================] - 0s 160ms/step\n"
     ]
    },
    {
     "data": {
      "text/plain": [
       "['mountain',\n",
       " 'beach',\n",
       " 'mountain',\n",
       " 'mountain',\n",
       " 'mountain',\n",
       " 'beach',\n",
       " 'mountain',\n",
       " 'beach',\n",
       " 'beach',\n",
       " 'beach']"
      ]
     },
     "execution_count": 75,
     "metadata": {},
     "output_type": "execute_result"
    }
   ],
   "source": [
    "test_generator.reset()\n",
    "pred = model.predict(test_generator, verbose=1)\n",
    "predicted_class_indices=(pred>0.5).astype(\"int32\")\n",
    "predictions = [labels[k[0]] for k in predicted_class_indices]\n",
    "predictions"
   ]
  },
  {
   "cell_type": "code",
   "execution_count": 68,
   "metadata": {},
   "outputs": [
    {
     "data": {
      "text/plain": [
       "(200, 200)"
      ]
     },
     "execution_count": 68,
     "metadata": {},
     "output_type": "execute_result"
    }
   ],
   "source": [
    "im_dim"
   ]
  },
  {
   "cell_type": "code",
   "execution_count": 36,
   "metadata": {},
   "outputs": [],
   "source": [
    "from tensorflow.keras.preprocessing import image"
   ]
  },
  {
   "cell_type": "code",
   "execution_count": 81,
   "metadata": {},
   "outputs": [
    {
     "name": "stdout",
     "output_type": "stream",
     "text": [
      "1\n",
      "mountain2.jpg is a mountain\n",
      "\n",
      "0\n",
      "mountain1.jpg is a beach\n",
      "\n",
      "1\n",
      "mountain5.jpeg is a mountain\n",
      "\n",
      "1\n",
      "beach1.jpg is a mountain\n",
      "\n",
      "1\n",
      "mountain3.jpg is a mountain\n",
      "\n",
      "0\n",
      "beach5.jpeg is a beach\n",
      "\n",
      "0\n",
      "beach3.jpg is a beach\n",
      "\n",
      "1\n",
      "mountain4.png is a mountain\n",
      "\n",
      "0\n",
      "beach4.jpeg is a beach\n",
      "\n",
      "0\n",
      "beach2.jpeg is a beach\n",
      "\n"
     ]
    }
   ],
   "source": [
    "# predict for an uploaded image\n",
    "file_path = '../dataset/beach_mountain/internet_2/' # current dir\n",
    "# file_path = '../dataset/beach_mountain/test/beach/' # current dir\n",
    "# file_path = '../dataset/beach_mountain/test/mountain/' # current dir\n",
    "test_files = os.listdir(file_path)\n",
    "\n",
    "for file in test_files:\n",
    "    # predicting images\n",
    "    path=file_path + file\n",
    "    img=image.load_img(path, target_size=im_dim)\n",
    "    x=image.img_to_array(img)\n",
    "    x=x/255\n",
    "    x=np.expand_dims(x, axis=0)\n",
    "    images = np.vstack([x])\n",
    "    \n",
    "    classes = model.predict(images)\n",
    "    classes = (classes > 0.5).astype(\"int32\")[0][0]\n",
    "    print(classes)\n",
    "\n",
    "    if classes>0:\n",
    "        print(file + \" is a mountain\\n\")\n",
    "    else:\n",
    "        print(file + \" is a beach\\n\")"
   ]
  },
  {
   "cell_type": "code",
   "execution_count": 85,
   "metadata": {},
   "outputs": [
    {
     "name": "stdout",
     "output_type": "stream",
     "text": [
      "mountain1.jpg is a beach\n"
     ]
    }
   ],
   "source": [
    "# from an image\n",
    "test_file = \"../dataset/beach_mountain/internet_2/mountain1.jpg\"\n",
    "img = image.load_img(test_file, target_size=im_dim)\n",
    "x = image.img_to_array(img)\n",
    "x = x/255\n",
    "x = np.expand_dims(x, axis=0)\n",
    "images = np.vstack([x])\n",
    "\n",
    "classes = model.predict(images)\n",
    "classes = (classes > 0.5).astype(\"int32\")[0]\n",
    "\n",
    "if classes>0:\n",
    "    print(test_file.split(\"/\")[-1] + \" is a mountain\")\n",
    "else:\n",
    "    print(test_file.split(\"/\")[-1] + \" is a beach\")"
   ]
  },
  {
   "cell_type": "code",
   "execution_count": 19,
   "metadata": {
    "colab": {
     "base_uri": "https://localhost:8080/"
    },
    "id": "943HQaBGizQg",
    "outputId": "edebb6f8-5e28-425b-ac0e-8f32bfcb4714"
   },
   "outputs": [
    {
     "name": "stdout",
     "output_type": "stream",
     "text": [
      "INFO:tensorflow:Assets written to: ../saved_model/SavedModel_100e_945_pre_imagenet_inceptionv3_200/assets\n"
     ]
    }
   ],
   "source": [
    "saved_model_path = \"../saved_model\"\n",
    "\n",
    "model.save(saved_model_path + '/SavedModel_100e_945_pre_imagenet_inceptionv3_200')\n",
    "model.save(saved_model_path + '/model_100e_945_pre_imagenet_inceptionv3_200.h5')\n",
    "\n",
    "# model.save(\"drive/MyDrive/ML_colab/save/beach_mountain/100epochs/SavedModel_100e_94\")"
   ]
  },
  {
   "cell_type": "code",
   "execution_count": 21,
   "metadata": {
    "id": "SloSiiRfjLtU"
   },
   "outputs": [],
   "source": [
    "# model.save(\"drive/MyDrive/ML_colab/save/beach_mountain/100epochs/model_100e_94.h5\")"
   ]
  },
  {
   "cell_type": "code",
   "execution_count": null,
   "metadata": {
    "id": "ecP4VC0Gjcgj"
   },
   "outputs": [],
   "source": [
    "# keep colab alive\n",
    "# while True:pass"
   ]
  }
 ],
 "metadata": {
  "accelerator": "GPU",
  "colab": {
   "collapsed_sections": [],
   "name": "mountain_beach_tf_course_catdog.ipynb",
   "provenance": [],
   "toc_visible": true
  },
  "kernelspec": {
   "display_name": "Python 3",
   "language": "python",
   "name": "python3"
  },
  "language_info": {
   "codemirror_mode": {
    "name": "ipython",
    "version": 3
   },
   "file_extension": ".py",
   "mimetype": "text/x-python",
   "name": "python",
   "nbconvert_exporter": "python",
   "pygments_lexer": "ipython3",
   "version": "3.6.9"
  }
 },
 "nbformat": 4,
 "nbformat_minor": 4
}
