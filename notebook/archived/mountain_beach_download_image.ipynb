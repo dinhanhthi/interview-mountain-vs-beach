{
 "cells": [
  {
   "cell_type": "markdown",
   "metadata": {},
   "source": [
    "- Old dataset may have a problem!\n",
    "- DOwnload a new one using [this post](https://morioh.com/p/493af9ca1e3c) (full down + using transfer learning + on mountain and beach) and [Thien's tut](https://github.com/nhat-thien/JS-TexSlide/blob/master/TexSlide%203%20-%20Highest%20paid%20world%20leaders/prepare-data.ipynb)."
   ]
  },
  {
   "cell_type": "code",
   "execution_count": 7,
   "metadata": {},
   "outputs": [],
   "source": [
    "# importing google_images_download module \n",
    "from google_images_download import google_images_download  \n",
    "  \n",
    "# creating object \n",
    "response = google_images_download.googleimagesdownload()"
   ]
  },
  {
   "cell_type": "code",
   "execution_count": 5,
   "metadata": {},
   "outputs": [],
   "source": [
    "def downloadimages(name): \n",
    "    arguments = {\"keywords\": name,\n",
    "                 \"format\": \"jpg\", \n",
    "                 \"limit\":5,\n",
    "                 \"no_directory\": True,\n",
    "                 \"prefix\": name,\n",
    "                 \"aspect_ratio\": \"tall\",\n",
    "                 \"size\": \">640*480\"\n",
    "                 #\"print_urls\": True, \n",
    "                 #\"usage_rights\": \"labeled-for-reuse\"\n",
    "                }\n",
    "    try: \n",
    "        response.download(arguments) \n",
    "       \n",
    "    except FileNotFoundError:  \n",
    "        arguments = {\"keywords\": name,\n",
    "                     \"format\": \"jpg\", \n",
    "                     \"limit\":3,\n",
    "                     \"no_directory\": True,\n",
    "                     \"prefix\": name,\n",
    "                     \"aspect_ratio\": \"tall\",\n",
    "                     \"size\": \">400*300\"\n",
    "                     #\"print_urls\": True, \n",
    "                     #\"usage_rights\": \"labeled-for-reuse-with-modifications\"\n",
    "                    }\n",
    "\n",
    "        # Providing arguments for the searched query \n",
    "        try: \n",
    "            response.download(arguments)\n",
    "            \n",
    "        except: \n",
    "            pass\n",
    "    except:\n",
    "        pass"
   ]
  },
  {
   "cell_type": "code",
   "execution_count": 6,
   "metadata": {},
   "outputs": [
    {
     "name": "stdout",
     "output_type": "stream",
     "text": [
      "\n",
      "Item no.: 1 --> Item name = beach\n",
      "Evaluating...\n",
      "Starting Download...\n",
      "\n",
      "\n",
      "Unfortunately all 5 could not be downloaded because some images were not downloadable. 0 is all we got for this search filter!\n",
      "\n",
      "Errors: 0\n",
      "\n"
     ]
    }
   ],
   "source": [
    "downloadimages(\"beach\")"
   ]
  },
  {
   "cell_type": "code",
   "execution_count": 9,
   "metadata": {},
   "outputs": [
    {
     "name": "stdout",
     "output_type": "stream",
     "text": [
      "\n",
      "Item no.: 1 --> Item name = Beaches\n",
      "Evaluating...\n",
      "Starting Download...\n",
      "\n",
      "\n",
      "Unfortunately all 100 could not be downloaded because some images were not downloadable. 0 is all we got for this search filter!\n",
      "\n",
      "Errors: 0\n",
      "\n",
      "({'Beaches': []}, 0)\n"
     ]
    }
   ],
   "source": [
    "from google_images_download import google_images_download   #importing the library\n",
    "\n",
    "response = google_images_download.googleimagesdownload()   #class instantiation\n",
    "\n",
    "arguments = {\"keywords\":\"Beaches\",\"limit\":100,\"print_urls\":True}   #creating list of arguments\n",
    "paths = response.download(arguments)   #passing the arguments to the function\n",
    "print(paths)   #printing absolute paths of the downloaded images\n"
   ]
  },
  {
   "cell_type": "code",
   "execution_count": null,
   "metadata": {},
   "outputs": [],
   "source": []
  }
 ],
 "metadata": {
  "kernelspec": {
   "display_name": "Python 3",
   "language": "python",
   "name": "python3"
  },
  "language_info": {
   "codemirror_mode": {
    "name": "ipython",
    "version": 3
   },
   "file_extension": ".py",
   "mimetype": "text/x-python",
   "name": "python",
   "nbconvert_exporter": "python",
   "pygments_lexer": "ipython3",
   "version": "3.6.9"
  }
 },
 "nbformat": 4,
 "nbformat_minor": 4
}
