{
  "nbformat": 4,
  "nbformat_minor": 0,
  "metadata": {
    "kernelspec": {
      "display_name": "Python 3",
      "language": "python",
      "name": "python3"
    },
    "language_info": {
      "codemirror_mode": {
        "name": "ipython",
        "version": 3
      },
      "file_extension": ".py",
      "mimetype": "text/x-python",
      "name": "python",
      "nbconvert_exporter": "python",
      "pygments_lexer": "ipython3",
      "version": "3.6.9"
    },
    "colab": {
      "name": "mountain_beach_tf_course_catdog.ipynb",
      "provenance": [],
      "collapsed_sections": [],
      "toc_visible": true
    },
    "accelerator": "GPU"
  },
  "cells": [
    {
      "cell_type": "markdown",
      "metadata": {
        "id": "zox1hWwnXBj8"
      },
      "source": [
        "## Refs\n",
        "\n",
        "Follow notebook `cat_dog_transfer_learning.ipynb`"
      ]
    },
    {
      "cell_type": "code",
      "metadata": {
        "colab": {
          "base_uri": "https://localhost:8080/"
        },
        "id": "WzZWQdbvXNYZ",
        "outputId": "b976e183-87ed-45b6-c655-6719c41d80b1"
      },
      "source": [
        "from google.colab import drive\n",
        "# drive.mount('/content/drive')\n",
        "drive.mount(\"/content/drive\", force_remount=True)"
      ],
      "execution_count": null,
      "outputs": [
        {
          "output_type": "stream",
          "text": [
            "Mounted at /content/drive\n"
          ],
          "name": "stdout"
        }
      ]
    },
    {
      "cell_type": "code",
      "metadata": {
        "colab": {
          "base_uri": "https://localhost:8080/"
        },
        "id": "XRBpJ2bkeFD_",
        "outputId": "cfa91fe2-e418-47dc-bf4e-5c0887e45ac4"
      },
      "source": [
        "!ls drive/MyDrive/ML_colab/"
      ],
      "execution_count": 1,
      "outputs": [
        {
          "output_type": "stream",
          "text": [
            "dataset  datasetbeach_mountain\tpretrained  save\n"
          ],
          "name": "stdout"
        }
      ]
    },
    {
      "cell_type": "code",
      "metadata": {
        "id": "ANT4DKquXBkE"
      },
      "source": [
        "import os\n",
        "\n",
        "import tensorflow as tf\n",
        "from tensorflow.keras import layers\n",
        "from tensorflow.keras import Model\n",
        "from tensorflow.keras.optimizers import RMSprop\n",
        "from tensorflow.keras.preprocessing.image import ImageDataGenerator"
      ],
      "execution_count": 2,
      "outputs": []
    },
    {
      "cell_type": "code",
      "metadata": {
        "id": "Oqrf_5zUXBkG"
      },
      "source": [
        "from tensorflow.keras.applications.inception_v3 import InceptionV3"
      ],
      "execution_count": 3,
      "outputs": []
    },
    {
      "cell_type": "code",
      "metadata": {
        "id": "WuLo_QcJXBkG"
      },
      "source": [
        "# local_weights_file = '../pretrained/inception_v3_weights_tf_dim_ordering_tf_kernels_notop.h5'\n",
        "local_weights_file = 'drive/MyDrive/ML_colab/pretrained/inception_v3_weights_tf_dim_ordering_tf_kernels_notop.h5'"
      ],
      "execution_count": 4,
      "outputs": []
    },
    {
      "cell_type": "code",
      "metadata": {
        "colab": {
          "base_uri": "https://localhost:8080/"
        },
        "id": "zI33-oaMXBkG",
        "outputId": "192acf92-bc36-48e5-e11b-e717caa0b508"
      },
      "source": [
        "pre_trained_model = InceptionV3(input_shape = (150, 150, 3), \n",
        "                                include_top = False, \n",
        "                                weights = None)\n",
        "\n",
        "pre_trained_model.load_weights(local_weights_file)\n",
        "\n",
        "for layer in pre_trained_model.layers:\n",
        "    layer.trainable = False\n",
        "\n",
        "# pre_trained_model.summary()\n",
        "\n",
        "last_layer = pre_trained_model.get_layer('mixed7')\n",
        "print('last layer output shape: ', last_layer.output_shape)\n",
        "last_output = last_layer.output"
      ],
      "execution_count": 5,
      "outputs": [
        {
          "output_type": "stream",
          "text": [
            "last layer output shape:  (None, 7, 7, 768)\n"
          ],
          "name": "stdout"
        }
      ]
    },
    {
      "cell_type": "code",
      "metadata": {
        "colab": {
          "base_uri": "https://localhost:8080/"
        },
        "id": "IhFS6pX9tuVj",
        "outputId": "2a22f0fb-0c81-48ac-d350-39aecdd5284e"
      },
      "source": [
        "# vgg16 places365 pretrained\n",
        "local_weights_file_vgg = 'drive/MyDrive/ML_colab/pretrained/vgg16-places365_weights_tf_dim_ordering_tf_kernels_notop.h5'\n",
        "from tensorflow.keras.applications.vgg16 import VGG16\n",
        "\n",
        "pre_trained_model_vgg = VGG16(input_shape = (150, 150, 3), \n",
        "                                include_top = False, \n",
        "                                weights = None)\n",
        "\n",
        "pre_trained_model_vgg.load_weights(local_weights_file_vgg)\n",
        "\n",
        "for layer in pre_trained_model_vgg.layers:\n",
        "    layer.trainable = False\n",
        "\n",
        "# pre_trained_model_vgg.summary()\n",
        "\n",
        "last_layer_vgg = pre_trained_model_vgg.get_layer('block5_conv3')\n",
        "print('last layer output shape: ', last_layer_vgg.output_shape)\n",
        "last_output = last_layer_vgg.output"
      ],
      "execution_count": 30,
      "outputs": [
        {
          "output_type": "stream",
          "text": [
            "last layer output shape:  (None, 9, 9, 512)\n"
          ],
          "name": "stdout"
        }
      ]
    },
    {
      "cell_type": "code",
      "metadata": {
        "id": "J1Ol2A4uXBkI"
      },
      "source": [
        "# Flatten the output layer to 1 dimension\n",
        "x = layers.Flatten()(last_output)\n",
        "# Add a fully connected layer with 1,024 hidden units and ReLU activation\n",
        "x = layers.Dense(1024, activation='relu')(x)\n",
        "# Add a dropout rate of 0.2\n",
        "x = layers.Dropout(0.2)(x)                  \n",
        "# Add a final sigmoid layer for classification\n",
        "x = layers.Dense  (1, activation='sigmoid')(x)           \n",
        "\n",
        "# model = Model( pre_trained_model.input, x) \n",
        "model = Model( pre_trained_model_vgg.input, x) \n",
        "\n",
        "model.compile(optimizer = RMSprop(lr=0.0001), \n",
        "              loss = 'binary_crossentropy', \n",
        "              metrics = ['accuracy'])"
      ],
      "execution_count": 32,
      "outputs": []
    },
    {
      "cell_type": "code",
      "metadata": {
        "id": "bT47ENDpZjTy"
      },
      "source": [
        "# !mv drive/MyDrive/ML_colab/datasetbeach_mountain/beach_mountain drive/MyDrive/ML_colab/dataset/"
      ],
      "execution_count": null,
      "outputs": []
    },
    {
      "cell_type": "code",
      "metadata": {
        "id": "eDO1gUnDZEpd"
      },
      "source": [
        "import zipfile\n",
        "\n",
        "dataset_dir = 'drive/MyDrive/ML_colab/dataset'\n",
        "zip_file = dataset_dir + '/beach_mountain.zip'\n",
        "zip_ref = zipfile.ZipFile(zip_file, 'r')\n",
        "zip_ref.extractall(dataset_dir+'/b_m')\n",
        "zip_ref.close()"
      ],
      "execution_count": 7,
      "outputs": []
    },
    {
      "cell_type": "code",
      "metadata": {
        "colab": {
          "base_uri": "https://localhost:8080/"
        },
        "id": "Wwy65VcwgwkE",
        "outputId": "3975ddc8-101d-4ce1-e36f-bc46ff78e920"
      },
      "source": [
        "# !ls drive/MyDrive/ML_colab/dataset/b_m/beach_mountain/"
      ],
      "execution_count": 10,
      "outputs": [
        {
          "output_type": "stream",
          "text": [
            "train  validation\n"
          ],
          "name": "stdout"
        }
      ]
    },
    {
      "cell_type": "code",
      "metadata": {
        "id": "RzD6FmaYgjs6"
      },
      "source": [
        "# %%time\n",
        "# import zipfile\n",
        "\n",
        "# dataset_dir = 'drive/MyDrive/ML_colab/dataset'\n",
        "# zip_file = dataset_dir + '/beach_mountain.zip'\n",
        "# zip_ref = zipfile.ZipFile(zip_file, 'r')\n",
        "# zip_ref.extractall(\"/tmp\")\n",
        "# zip_ref.close()"
      ],
      "execution_count": null,
      "outputs": []
    },
    {
      "cell_type": "code",
      "metadata": {
        "id": "8e1MeiziXBkI"
      },
      "source": [
        "# local data\n",
        "\n",
        "# base_dir = \"../dataset/beach_mountain\"\n",
        "# base_dir = \"drive/MyDrive/ML_colab/dataset/beach_mountain\"\n",
        "base_dir = \"drive/MyDrive/ML_colab/dataset/b_m/beach_mountain/\"\n",
        "\n",
        "train_dir = os.path.join(base_dir, 'train')\n",
        "validation_dir = os.path.join(base_dir, 'validation')\n",
        "\n",
        "train_beach_dir = os.path.join(train_dir, 'beach')\n",
        "train_moutain_dir = os.path.join(train_dir, 'mountain')\n",
        "\n",
        "validation_beach_dir = os.path.join(validation_dir, 'beach')\n",
        "validation_mountain_dir = os.path.join(validation_dir, 'mountain')\n",
        "\n",
        "train_beach_fnames = os.listdir(train_beach_dir)\n",
        "train_mountain_fnames = os.listdir(train_moutain_dir)"
      ],
      "execution_count": 11,
      "outputs": []
    },
    {
      "cell_type": "code",
      "metadata": {
        "colab": {
          "base_uri": "https://localhost:8080/"
        },
        "id": "OqujO8RLXBkJ",
        "outputId": "aee36064-cb7f-4fea-893a-e31edb307ca8"
      },
      "source": [
        "train_datagen = ImageDataGenerator(rescale = 1./255.,\n",
        "                                   rotation_range = 40,\n",
        "                                   width_shift_range = 0.2,\n",
        "                                   height_shift_range = 0.2,\n",
        "                                   shear_range = 0.2,\n",
        "                                   zoom_range = 0.2,\n",
        "                                   horizontal_flip = True)\n",
        "\n",
        "test_datagen = ImageDataGenerator(rescale = 1.0/255.)\n",
        "\n",
        "train_generator = train_datagen.flow_from_directory(train_dir,\n",
        "                                                    batch_size = 20,\n",
        "                                                    class_mode = 'binary', \n",
        "                                                    target_size = (150, 150))\n",
        "\n",
        "validation_generator =  test_datagen.flow_from_directory(validation_dir,\n",
        "                                                         batch_size  = 20,\n",
        "                                                         class_mode  = 'binary', \n",
        "                                                         target_size = (150, 150))"
      ],
      "execution_count": 12,
      "outputs": [
        {
          "output_type": "stream",
          "text": [
            "Found 9000 images belonging to 2 classes.\n",
            "Found 1200 images belonging to 2 classes.\n"
          ],
          "name": "stdout"
        }
      ]
    },
    {
      "cell_type": "code",
      "metadata": {
        "id": "YrhUKao-XBkK"
      },
      "source": [
        "class myCallback(tf.keras.callbacks.Callback):\n",
        "    def on_epoch_end(self, epoch, logs={}):\n",
        "        if(logs.get('accuracy') is not None and logs.get('accuracy') > 0.96) :\n",
        "            print(\"\\nReached 97.0% accuracy so cancelling training!\")\n",
        "            self.model.stop_training = True\n",
        "\n",
        "my_callback = myCallback()"
      ],
      "execution_count": 33,
      "outputs": []
    },
    {
      "cell_type": "code",
      "metadata": {
        "colab": {
          "base_uri": "https://localhost:8080/"
        },
        "id": "pkhkqKcGXBkK",
        "outputId": "8d51a4fd-53e7-48b4-e1e8-ab3dd0034653"
      },
      "source": [
        "history = model.fit(\n",
        "            train_generator,\n",
        "            validation_data = validation_generator,\n",
        "            steps_per_epoch = 100,\n",
        "            epochs = 100,\n",
        "            validation_steps = 50,\n",
        "            verbose = 2,\n",
        "            callbacks=[my_callback])"
      ],
      "execution_count": 34,
      "outputs": [
        {
          "output_type": "stream",
          "text": [
            "Epoch 1/100\n",
            "100/100 - 21s - loss: 0.7813 - accuracy: 0.6965 - val_loss: 0.6310 - val_accuracy: 0.6940\n",
            "Epoch 2/100\n",
            "100/100 - 19s - loss: 0.5553 - accuracy: 0.7325 - val_loss: 0.3409 - val_accuracy: 0.8710\n",
            "Epoch 3/100\n",
            "100/100 - 18s - loss: 0.4950 - accuracy: 0.7760 - val_loss: 0.3094 - val_accuracy: 0.8840\n",
            "Epoch 4/100\n",
            "100/100 - 19s - loss: 0.4953 - accuracy: 0.7865 - val_loss: 0.3182 - val_accuracy: 0.8780\n",
            "Epoch 5/100\n",
            "100/100 - 18s - loss: 0.4335 - accuracy: 0.8110 - val_loss: 0.3310 - val_accuracy: 0.8700\n",
            "Epoch 6/100\n",
            "100/100 - 18s - loss: 0.4488 - accuracy: 0.8075 - val_loss: 0.3499 - val_accuracy: 0.8580\n",
            "Epoch 7/100\n",
            "100/100 - 19s - loss: 0.4141 - accuracy: 0.8205 - val_loss: 0.3064 - val_accuracy: 0.8790\n",
            "Epoch 8/100\n",
            "100/100 - 19s - loss: 0.4499 - accuracy: 0.8045 - val_loss: 0.3367 - val_accuracy: 0.8790\n",
            "Epoch 9/100\n",
            "100/100 - 19s - loss: 0.3918 - accuracy: 0.8250 - val_loss: 0.3628 - val_accuracy: 0.8750\n",
            "Epoch 10/100\n",
            "100/100 - 18s - loss: 0.3998 - accuracy: 0.8305 - val_loss: 0.3070 - val_accuracy: 0.8870\n",
            "Epoch 11/100\n",
            "100/100 - 18s - loss: 0.4075 - accuracy: 0.8250 - val_loss: 0.2976 - val_accuracy: 0.8840\n",
            "Epoch 12/100\n",
            "100/100 - 19s - loss: 0.4113 - accuracy: 0.8285 - val_loss: 0.3198 - val_accuracy: 0.8780\n",
            "Epoch 13/100\n",
            "100/100 - 18s - loss: 0.4044 - accuracy: 0.8265 - val_loss: 0.3039 - val_accuracy: 0.8870\n",
            "Epoch 14/100\n",
            "100/100 - 18s - loss: 0.3949 - accuracy: 0.8360 - val_loss: 0.3162 - val_accuracy: 0.8860\n",
            "Epoch 15/100\n",
            "100/100 - 18s - loss: 0.4004 - accuracy: 0.8365 - val_loss: 0.3998 - val_accuracy: 0.8440\n",
            "Epoch 16/100\n",
            "100/100 - 19s - loss: 0.3937 - accuracy: 0.8195 - val_loss: 0.4052 - val_accuracy: 0.8560\n",
            "Epoch 17/100\n",
            "100/100 - 19s - loss: 0.3929 - accuracy: 0.8295 - val_loss: 0.4179 - val_accuracy: 0.8450\n",
            "Epoch 18/100\n",
            "100/100 - 19s - loss: 0.4099 - accuracy: 0.8255 - val_loss: 0.3208 - val_accuracy: 0.8820\n",
            "Epoch 19/100\n",
            "100/100 - 18s - loss: 0.3811 - accuracy: 0.8435 - val_loss: 0.3057 - val_accuracy: 0.8860\n",
            "Epoch 20/100\n",
            "100/100 - 19s - loss: 0.3944 - accuracy: 0.8315 - val_loss: 0.3758 - val_accuracy: 0.8730\n",
            "Epoch 21/100\n",
            "100/100 - 18s - loss: 0.3974 - accuracy: 0.8250 - val_loss: 0.3324 - val_accuracy: 0.8920\n",
            "Epoch 22/100\n",
            "100/100 - 18s - loss: 0.4118 - accuracy: 0.8280 - val_loss: 0.3062 - val_accuracy: 0.8810\n",
            "Epoch 23/100\n",
            "100/100 - 19s - loss: 0.3932 - accuracy: 0.8325 - val_loss: 0.2991 - val_accuracy: 0.8930\n",
            "Epoch 24/100\n",
            "100/100 - 19s - loss: 0.3627 - accuracy: 0.8475 - val_loss: 0.3173 - val_accuracy: 0.8770\n",
            "Epoch 25/100\n",
            "100/100 - 19s - loss: 0.3955 - accuracy: 0.8425 - val_loss: 0.3363 - val_accuracy: 0.8680\n",
            "Epoch 26/100\n",
            "100/100 - 19s - loss: 0.4085 - accuracy: 0.8325 - val_loss: 0.3119 - val_accuracy: 0.8810\n",
            "Epoch 27/100\n",
            "100/100 - 18s - loss: 0.3994 - accuracy: 0.8370 - val_loss: 0.3197 - val_accuracy: 0.8770\n",
            "Epoch 28/100\n",
            "100/100 - 19s - loss: 0.4090 - accuracy: 0.8295 - val_loss: 0.3075 - val_accuracy: 0.8760\n",
            "Epoch 29/100\n",
            "100/100 - 18s - loss: 0.4186 - accuracy: 0.8235 - val_loss: 0.3088 - val_accuracy: 0.8910\n",
            "Epoch 30/100\n",
            "100/100 - 19s - loss: 0.3690 - accuracy: 0.8425 - val_loss: 0.3079 - val_accuracy: 0.8950\n",
            "Epoch 31/100\n",
            "100/100 - 18s - loss: 0.4244 - accuracy: 0.8205 - val_loss: 0.3684 - val_accuracy: 0.8760\n",
            "Epoch 32/100\n",
            "100/100 - 19s - loss: 0.3918 - accuracy: 0.8405 - val_loss: 0.3556 - val_accuracy: 0.8810\n",
            "Epoch 33/100\n",
            "100/100 - 19s - loss: 0.3996 - accuracy: 0.8305 - val_loss: 0.3083 - val_accuracy: 0.8930\n",
            "Epoch 34/100\n",
            "100/100 - 18s - loss: 0.3567 - accuracy: 0.8535 - val_loss: 0.3644 - val_accuracy: 0.8790\n",
            "Epoch 35/100\n",
            "100/100 - 19s - loss: 0.3675 - accuracy: 0.8490 - val_loss: 0.3094 - val_accuracy: 0.8900\n",
            "Epoch 36/100\n",
            "100/100 - 18s - loss: 0.3961 - accuracy: 0.8290 - val_loss: 0.3120 - val_accuracy: 0.8920\n",
            "Epoch 37/100\n",
            "100/100 - 19s - loss: 0.3770 - accuracy: 0.8490 - val_loss: 0.3113 - val_accuracy: 0.8900\n",
            "Epoch 38/100\n",
            "100/100 - 18s - loss: 0.3879 - accuracy: 0.8410 - val_loss: 0.3416 - val_accuracy: 0.8850\n",
            "Epoch 39/100\n",
            "100/100 - 18s - loss: 0.3759 - accuracy: 0.8465 - val_loss: 0.3353 - val_accuracy: 0.8850\n",
            "Epoch 40/100\n",
            "100/100 - 19s - loss: 0.4003 - accuracy: 0.8320 - val_loss: 0.3124 - val_accuracy: 0.8870\n",
            "Epoch 41/100\n",
            "100/100 - 19s - loss: 0.4010 - accuracy: 0.8370 - val_loss: 0.3452 - val_accuracy: 0.8740\n",
            "Epoch 42/100\n",
            "100/100 - 19s - loss: 0.3738 - accuracy: 0.8440 - val_loss: 0.3042 - val_accuracy: 0.8860\n",
            "Epoch 43/100\n",
            "100/100 - 18s - loss: 0.3838 - accuracy: 0.8430 - val_loss: 0.2826 - val_accuracy: 0.8960\n",
            "Epoch 44/100\n",
            "100/100 - 19s - loss: 0.3522 - accuracy: 0.8615 - val_loss: 0.2973 - val_accuracy: 0.8880\n",
            "Epoch 45/100\n",
            "100/100 - 18s - loss: 0.3444 - accuracy: 0.8625 - val_loss: 0.3036 - val_accuracy: 0.8910\n",
            "Epoch 46/100\n",
            "100/100 - 19s - loss: 0.3729 - accuracy: 0.8465 - val_loss: 0.2900 - val_accuracy: 0.8970\n",
            "Epoch 47/100\n",
            "100/100 - 18s - loss: 0.3757 - accuracy: 0.8455 - val_loss: 0.3254 - val_accuracy: 0.8800\n",
            "Epoch 48/100\n",
            "100/100 - 18s - loss: 0.3728 - accuracy: 0.8465 - val_loss: 0.3146 - val_accuracy: 0.8910\n",
            "Epoch 49/100\n",
            "100/100 - 19s - loss: 0.3874 - accuracy: 0.8510 - val_loss: 0.3339 - val_accuracy: 0.8790\n",
            "Epoch 50/100\n",
            "100/100 - 19s - loss: 0.3740 - accuracy: 0.8575 - val_loss: 0.3505 - val_accuracy: 0.8810\n",
            "Epoch 51/100\n",
            "100/100 - 19s - loss: 0.3793 - accuracy: 0.8500 - val_loss: 0.3340 - val_accuracy: 0.8820\n",
            "Epoch 52/100\n",
            "100/100 - 18s - loss: 0.3623 - accuracy: 0.8520 - val_loss: 0.3331 - val_accuracy: 0.8800\n",
            "Epoch 53/100\n",
            "100/100 - 19s - loss: 0.3629 - accuracy: 0.8520 - val_loss: 0.3177 - val_accuracy: 0.8950\n",
            "Epoch 54/100\n",
            "100/100 - 19s - loss: 0.3693 - accuracy: 0.8510 - val_loss: 0.3270 - val_accuracy: 0.8860\n",
            "Epoch 55/100\n",
            "100/100 - 19s - loss: 0.3453 - accuracy: 0.8685 - val_loss: 0.3214 - val_accuracy: 0.8840\n",
            "Epoch 56/100\n",
            "100/100 - 18s - loss: 0.3816 - accuracy: 0.8445 - val_loss: 0.3294 - val_accuracy: 0.8790\n",
            "Epoch 57/100\n",
            "100/100 - 19s - loss: 0.3649 - accuracy: 0.8525 - val_loss: 0.3661 - val_accuracy: 0.8810\n",
            "Epoch 58/100\n",
            "100/100 - 19s - loss: 0.3579 - accuracy: 0.8555 - val_loss: 0.3183 - val_accuracy: 0.8910\n",
            "Epoch 59/100\n",
            "100/100 - 19s - loss: 0.3928 - accuracy: 0.8465 - val_loss: 0.3170 - val_accuracy: 0.8830\n",
            "Epoch 60/100\n",
            "100/100 - 19s - loss: 0.3618 - accuracy: 0.8465 - val_loss: 0.3192 - val_accuracy: 0.8850\n",
            "Epoch 61/100\n",
            "100/100 - 19s - loss: 0.3762 - accuracy: 0.8420 - val_loss: 0.3296 - val_accuracy: 0.8780\n",
            "Epoch 62/100\n",
            "100/100 - 19s - loss: 0.3520 - accuracy: 0.8570 - val_loss: 0.3145 - val_accuracy: 0.8900\n",
            "Epoch 63/100\n",
            "100/100 - 19s - loss: 0.3872 - accuracy: 0.8455 - val_loss: 0.3394 - val_accuracy: 0.8880\n",
            "Epoch 64/100\n",
            "100/100 - 19s - loss: 0.3591 - accuracy: 0.8535 - val_loss: 0.3080 - val_accuracy: 0.8930\n",
            "Epoch 65/100\n",
            "100/100 - 19s - loss: 0.3701 - accuracy: 0.8565 - val_loss: 0.3055 - val_accuracy: 0.8890\n",
            "Epoch 66/100\n",
            "100/100 - 19s - loss: 0.3635 - accuracy: 0.8555 - val_loss: 0.3627 - val_accuracy: 0.8780\n",
            "Epoch 67/100\n",
            "100/100 - 19s - loss: 0.3760 - accuracy: 0.8625 - val_loss: 0.3327 - val_accuracy: 0.8900\n",
            "Epoch 68/100\n",
            "100/100 - 19s - loss: 0.3856 - accuracy: 0.8470 - val_loss: 0.3121 - val_accuracy: 0.8920\n",
            "Epoch 69/100\n",
            "100/100 - 19s - loss: 0.3451 - accuracy: 0.8615 - val_loss: 0.3246 - val_accuracy: 0.8920\n",
            "Epoch 70/100\n",
            "100/100 - 19s - loss: 0.3827 - accuracy: 0.8450 - val_loss: 0.3235 - val_accuracy: 0.8920\n",
            "Epoch 71/100\n",
            "100/100 - 19s - loss: 0.3573 - accuracy: 0.8565 - val_loss: 0.3444 - val_accuracy: 0.8740\n",
            "Epoch 72/100\n",
            "100/100 - 19s - loss: 0.3643 - accuracy: 0.8510 - val_loss: 0.3337 - val_accuracy: 0.8830\n",
            "Epoch 73/100\n",
            "100/100 - 19s - loss: 0.3529 - accuracy: 0.8680 - val_loss: 0.3088 - val_accuracy: 0.8860\n",
            "Epoch 74/100\n",
            "100/100 - 19s - loss: 0.3750 - accuracy: 0.8600 - val_loss: 0.3203 - val_accuracy: 0.8890\n",
            "Epoch 75/100\n",
            "100/100 - 19s - loss: 0.3696 - accuracy: 0.8515 - val_loss: 0.3090 - val_accuracy: 0.8970\n",
            "Epoch 76/100\n",
            "100/100 - 19s - loss: 0.3538 - accuracy: 0.8620 - val_loss: 0.3282 - val_accuracy: 0.8870\n",
            "Epoch 77/100\n",
            "100/100 - 19s - loss: 0.3540 - accuracy: 0.8635 - val_loss: 0.2804 - val_accuracy: 0.9000\n",
            "Epoch 78/100\n",
            "100/100 - 19s - loss: 0.3420 - accuracy: 0.8720 - val_loss: 0.3342 - val_accuracy: 0.8770\n",
            "Epoch 79/100\n",
            "100/100 - 19s - loss: 0.3465 - accuracy: 0.8495 - val_loss: 0.2993 - val_accuracy: 0.9100\n",
            "Epoch 80/100\n",
            "100/100 - 19s - loss: 0.3527 - accuracy: 0.8570 - val_loss: 0.3579 - val_accuracy: 0.8870\n",
            "Epoch 81/100\n",
            "100/100 - 19s - loss: 0.3514 - accuracy: 0.8500 - val_loss: 0.2976 - val_accuracy: 0.8930\n",
            "Epoch 82/100\n",
            "100/100 - 19s - loss: 0.3495 - accuracy: 0.8570 - val_loss: 0.3028 - val_accuracy: 0.8900\n",
            "Epoch 83/100\n",
            "100/100 - 19s - loss: 0.3381 - accuracy: 0.8640 - val_loss: 0.3510 - val_accuracy: 0.8890\n",
            "Epoch 84/100\n",
            "100/100 - 19s - loss: 0.3481 - accuracy: 0.8520 - val_loss: 0.3455 - val_accuracy: 0.8860\n",
            "Epoch 85/100\n",
            "100/100 - 19s - loss: 0.3695 - accuracy: 0.8610 - val_loss: 0.3307 - val_accuracy: 0.8790\n",
            "Epoch 86/100\n",
            "100/100 - 19s - loss: 0.3672 - accuracy: 0.8560 - val_loss: 0.3537 - val_accuracy: 0.8870\n",
            "Epoch 87/100\n",
            "100/100 - 19s - loss: 0.3456 - accuracy: 0.8555 - val_loss: 0.3492 - val_accuracy: 0.8670\n",
            "Epoch 88/100\n",
            "100/100 - 19s - loss: 0.3933 - accuracy: 0.8435 - val_loss: 0.2993 - val_accuracy: 0.8820\n",
            "Epoch 89/100\n",
            "100/100 - 19s - loss: 0.3435 - accuracy: 0.8620 - val_loss: 0.3314 - val_accuracy: 0.8920\n",
            "Epoch 90/100\n",
            "100/100 - 19s - loss: 0.3685 - accuracy: 0.8505 - val_loss: 0.2914 - val_accuracy: 0.8910\n",
            "Epoch 91/100\n",
            "100/100 - 19s - loss: 0.3528 - accuracy: 0.8620 - val_loss: 0.3066 - val_accuracy: 0.8960\n",
            "Epoch 92/100\n",
            "100/100 - 19s - loss: 0.3526 - accuracy: 0.8570 - val_loss: 0.3085 - val_accuracy: 0.8810\n",
            "Epoch 93/100\n",
            "100/100 - 19s - loss: 0.3415 - accuracy: 0.8605 - val_loss: 0.3262 - val_accuracy: 0.8980\n",
            "Epoch 94/100\n",
            "100/100 - 19s - loss: 0.3406 - accuracy: 0.8710 - val_loss: 0.3529 - val_accuracy: 0.8810\n",
            "Epoch 95/100\n",
            "100/100 - 19s - loss: 0.3467 - accuracy: 0.8615 - val_loss: 0.2827 - val_accuracy: 0.8940\n",
            "Epoch 96/100\n",
            "100/100 - 19s - loss: 0.3669 - accuracy: 0.8590 - val_loss: 0.3196 - val_accuracy: 0.8910\n",
            "Epoch 97/100\n",
            "100/100 - 19s - loss: 0.3504 - accuracy: 0.8580 - val_loss: 0.3295 - val_accuracy: 0.8890\n",
            "Epoch 98/100\n",
            "100/100 - 19s - loss: 0.3475 - accuracy: 0.8710 - val_loss: 0.3173 - val_accuracy: 0.8890\n",
            "Epoch 99/100\n",
            "100/100 - 19s - loss: 0.3504 - accuracy: 0.8520 - val_loss: 0.3013 - val_accuracy: 0.8950\n",
            "Epoch 100/100\n",
            "100/100 - 19s - loss: 0.3711 - accuracy: 0.8550 - val_loss: 0.2991 - val_accuracy: 0.8950\n"
          ],
          "name": "stdout"
        }
      ]
    },
    {
      "cell_type": "code",
      "metadata": {
        "id": "KbTIzHqXXBkK",
        "colab": {
          "base_uri": "https://localhost:8080/",
          "height": 298
        },
        "outputId": "90c833ee-fdcc-4511-c049-6d08cc4b792d"
      },
      "source": [
        "%matplotlib inline\n",
        "import matplotlib.pyplot as plt\n",
        "acc = history.history['accuracy']\n",
        "val_acc = history.history['val_accuracy']\n",
        "loss = history.history['loss']\n",
        "val_loss = history.history['val_loss']\n",
        "\n",
        "epochs = range(len(acc))\n",
        "\n",
        "plt.plot(epochs, acc, 'r', label='Training accuracy')\n",
        "plt.plot(epochs, val_acc, 'b', label='Validation accuracy')\n",
        "plt.title('Training and validation accuracy')\n",
        "plt.legend(loc=0)\n",
        "plt.figure()\n",
        "plt.show()"
      ],
      "execution_count": 35,
      "outputs": [
        {
          "output_type": "display_data",
          "data": {
            "image/png": "[encoded data removed]",
            "text/plain": [
              "<Figure size 432x288 with 1 Axes>"
            ]
          },
          "metadata": {
            "tags": [],
            "needs_background": "light"
          }
        },
        {
          "output_type": "display_data",
          "data": {
            "text/plain": [
              "<Figure size 432x288 with 0 Axes>"
            ]
          },
          "metadata": {
            "tags": []
          }
        }
      ]
    },
    {
      "cell_type": "code",
      "metadata": {
        "colab": {
          "base_uri": "https://localhost:8080/",
          "height": 298
        },
        "id": "O9UZzlWx3C4_",
        "outputId": "e959d01c-2662-4057-848c-2b308bfa0dc2"
      },
      "source": [
        "epochs = range(len(loss))\n",
        "\n",
        "plt.plot(epochs, loss, 'r', label='Training loss')\n",
        "plt.plot(epochs, val_loss, 'b', label='Validation loss')\n",
        "plt.title('Training and validation loss')\n",
        "plt.legend(loc=0)\n",
        "plt.figure()\n",
        "plt.show()"
      ],
      "execution_count": 38,
      "outputs": [
        {
          "output_type": "display_data",
          "data": {
            "image/png": "[encoded data removed]",
            "text/plain": [
              "<Figure size 432x288 with 1 Axes>"
            ]
          },
          "metadata": {
            "tags": [],
            "needs_background": "light"
          }
        },
        {
          "output_type": "display_data",
          "data": {
            "text/plain": [
              "<Figure size 432x288 with 0 Axes>"
            ]
          },
          "metadata": {
            "tags": []
          }
        }
      ]
    },
    {
      "cell_type": "code",
      "metadata": {
        "colab": {
          "base_uri": "https://localhost:8080/"
        },
        "id": "943HQaBGizQg",
        "outputId": "3e48f2e1-5497-4887-b962-c08b4d726c75"
      },
      "source": [
        "saved_model_path = \"\"\n",
        "model.save(\"drive/MyDrive/ML_colab/save/beach_mountain/100epochs/SavedModel_pre_vgg16_100e\")"
      ],
      "execution_count": 36,
      "outputs": [
        {
          "output_type": "stream",
          "text": [
            "INFO:tensorflow:Assets written to: drive/MyDrive/ML_colab/save/beach_mountain/100epochs/SavedModel_pre_vgg16_100e/assets\n"
          ],
          "name": "stdout"
        }
      ]
    },
    {
      "cell_type": "code",
      "metadata": {
        "id": "SloSiiRfjLtU"
      },
      "source": [
        "model.save(\"drive/MyDrive/ML_colab/save/beach_mountain/100epochs/model_pre_vgg16_100e.h5\")"
      ],
      "execution_count": 37,
      "outputs": []
    },
    {
      "cell_type": "code",
      "metadata": {
        "colab": {
          "base_uri": "https://localhost:8080/",
          "height": 181
        },
        "id": "ecP4VC0Gjcgj",
        "outputId": "9afd0ff2-f547-4480-848d-be53ab9b5f62"
      },
      "source": [
        "# keep colab alive\n",
        "while True:pass"
      ],
      "execution_count": 23,
      "outputs": [
        {
          "output_type": "error",
          "ename": "KeyboardInterrupt",
          "evalue": "ignored",
          "traceback": [
            "\u001b[0;31m---------------------------------------------------------------------------\u001b[0m",
            "\u001b[0;31mKeyboardInterrupt\u001b[0m                         Traceback (most recent call last)",
            "\u001b[0;32m<ipython-input-23-5c7d7418223f>\u001b[0m in \u001b[0;36m<module>\u001b[0;34m()\u001b[0m\n\u001b[1;32m      1\u001b[0m \u001b[0;31m# keep colab alive\u001b[0m\u001b[0;34m\u001b[0m\u001b[0;34m\u001b[0m\u001b[0;34m\u001b[0m\u001b[0m\n\u001b[0;32m----> 2\u001b[0;31m \u001b[0;32mwhile\u001b[0m \u001b[0;32mTrue\u001b[0m\u001b[0;34m:\u001b[0m\u001b[0;32mpass\u001b[0m\u001b[0;34m\u001b[0m\u001b[0;34m\u001b[0m\u001b[0m\n\u001b[0m",
            "\u001b[0;31mKeyboardInterrupt\u001b[0m: "
          ]
        }
      ]
    },
    {
      "cell_type": "code",
      "metadata": {
        "id": "K8cv1HscwcG0"
      },
      "source": [
        ""
      ],
      "execution_count": null,
      "outputs": []
    }
  ]
}